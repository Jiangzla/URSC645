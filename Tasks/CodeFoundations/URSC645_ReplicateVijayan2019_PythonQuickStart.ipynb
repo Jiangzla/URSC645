{
  "cells": [
    {
      "attachments": {},
      "cell_type": "markdown",
      "metadata": {
        "colab_type": "text",
        "id": "view-in-github"
      },
      "source": [
        "<a href=\"https://colab.research.google.com/github/npr99/URSC645/blob/main/Tasks/CodeFoundations/URSC645_ReplicateVijayan2019_PythonQuickStart.ipynb\" target=\"_parent\"><img src=\"https://colab.research.google.com/assets/colab-badge.svg\" alt=\"Open In Colab\"/></a>\n",
        "\n"
      ]
    },
    {
      "attachments": {},
      "cell_type": "markdown",
      "metadata": {
        "id": "P3WSAM9Pb_Uz"
      },
      "source": [
        "# Code Foundations 1\n",
        "Students will work to replicate and follow a LinkedInLearning Courses. \n",
        "\n",
        "Instructions: See course [Google Drive](https://docs.google.com/presentation/d/1H18SZYr8X4PDVW57usxBXFvD0xI4lbJCO_e8dvzCmOc/edit?usp=sharing) \n",
        "\n",
        "Primary Goals:\n",
        "1. Practice setting up a work folder and a work log\n",
        "2. Become more comfortable scripting in Python\n",
        "3. Have fun!\n",
        "\n",
        "Suggested LinkedInLearning Courses:\n",
        "Free resources for TAMU students, staff, and faculty (https://linkedinlearning.tamu.edu/)\n",
        "\n",
        "Vijayan, Lavanya. (2019). Python Quick Start. https://www.linkedin.com/learning/python-quick-start/"
      ]
    },
    {
      "attachments": {},
      "cell_type": "markdown",
      "metadata": {
        "id": "328j4t1gcCZt"
      },
      "source": [
        "## Description of Program\n",
        "- program: URSC645_ReplicateVijayan2019_PythonQuickStart.ipynb\n",
        "- task: Replicate Vijayan, Lavanya. (2019). Python Quick Start. https://www.linkedin.com/learning/python-quick-start/ \n",
        "- Versions:\n",
        "- 2023-01-24 - new semester and version control on GitHub\n",
        "- 2021-01-29 - starter version \n",
        "- 2021-02-08 - major contributions by Jennifer Blanks\n",
        "- 2024-01-12 - check code and minor updates\n",
        "- project: URSC 645 Urban and Regional Analytics\n",
        "- funding: Department of Landscape Architecture and Urban Planning, Texas A&M University\n",
        "- authors: Lavanya Vijayan, Jennifer Blanks, Nathanael Rosenheim and Zhenhang Cai"
      ]
    },
    {
      "cell_type": "markdown",
      "metadata": {
        "id": "5J2BLFtobw4z"
      },
      "source": [
        "# 1. Defining Python\n",
        "\n",
        "\n",
        "## What is Pyhon?\n",
        "Python is a programming language and is used for scripting and design. It emphasizes readability which decreases the cost of program maintenance\n",
        "\n",
        "## Why Use Python\n",
        "1. Readable and maintainable code \n",
        "2. Supports multiple approaches\n",
        "3. Compatibility\n",
        "4. Large standard library\n",
        "5. Open source tools and frameworks\n",
        "6. Ability to develop complext software\n",
        "\n",
        "## The power of Python\n",
        "Its powerful applications include web development and data science. It has the tools to conduct data visualization and conduct data analysis\n",
        "\n",
        "## Python vs. Java\n",
        "Python- code readability, friendly to beginners, uses operating system-specific interpreters to execute code, most preffered programming language for machine learning and data science\n",
        "Java- minimal implementation dependencies, steep learning curve, uses more complex two step processes, used to build mobile applications for the android platform "
      ]
    },
    {
      "cell_type": "markdown",
      "metadata": {
        "id": "qQ9Wrt2jcmSM"
      },
      "source": [
        "# 2. Fundamentals of Programming in Python: Data"
      ]
    },
    {
      "cell_type": "markdown",
      "metadata": {
        "id": "JvoPOPZPgLm0"
      },
      "source": [
        "## Set up Python enviroment\n",
        "Google Colaboratory (https://colab.research.google.com/notebooks/intro.ipynb#recent=true) \"Colab\" for short sets up a JupyterNotebook enviroment. Google Colab allows coders to skip the typical steps for setting up a Python enviroment - no need to install Anaconda or use command line prompts. \n",
        "\n",
        "Google Colab looks slightly different from JupyterNotebook enviroment used in Vijayan (2019) - but notice that the two enviroments are very similar."
      ]
    },
    {
      "cell_type": "markdown",
      "metadata": {
        "id": "JFpACZVofNwZ"
      },
      "source": [
        "The next code cell replicates the command:\n",
        "\n",
        "```\n",
        "print('hello world')\n",
        "```\n",
        "\n",
        "To run the cell there are three options:\n",
        "1. press `ctrl+enter`\n",
        "2. hover over the cell and then press the \"play\" button \n",
        "3. In the menu select Runtime -> Run the focused cell"
      ]
    },
    {
      "cell_type": "code",
      "execution_count": 1,
      "metadata": {
        "colab": {
          "base_uri": "https://localhost:8080/"
        },
        "id": "0gO0Fr93dwRW",
        "outputId": "fc76262e-00d7-4296-9385-8e8128550c11"
      },
      "outputs": [
        {
          "name": "stdout",
          "output_type": "stream",
          "text": [
            "hello URSC 645 students\n"
          ]
        }
      ],
      "source": [
        "print('hello URSC 645 students')"
      ]
    },
    {
      "cell_type": "code",
      "execution_count": 2,
      "metadata": {
        "id": "rXmT_1TTdDCG"
      },
      "outputs": [
        {
          "name": "stdout",
          "output_type": "stream",
          "text": [
            "hello 2022!\n"
          ]
        }
      ],
      "source": [
        "print('hello 2022!')"
      ]
    },
    {
      "cell_type": "markdown",
      "metadata": {
        "id": "R1u5J65tgDrN"
      },
      "source": [
        "### Types of data"
      ]
    },
    {
      "cell_type": "markdown",
      "metadata": {
        "id": "abprmyndgWLK"
      },
      "source": [
        "#### 1. Booleans\n"
      ]
    },
    {
      "cell_type": "markdown",
      "metadata": {
        "id": "gZwoPQegJKN1"
      },
      "source": [
        "Booleans are used to represent truth values."
      ]
    },
    {
      "cell_type": "code",
      "execution_count": 3,
      "metadata": {
        "colab": {
          "base_uri": "https://localhost:8080/"
        },
        "id": "49i5lbBuet38",
        "outputId": "983e9ccc-8788-4f94-ec12-1d1d0597a604"
      },
      "outputs": [
        {
          "data": {
            "text/plain": [
              "bool"
            ]
          },
          "execution_count": 3,
          "metadata": {},
          "output_type": "execute_result"
        }
      ],
      "source": [
        "type(True)"
      ]
    },
    {
      "cell_type": "code",
      "execution_count": 4,
      "metadata": {
        "colab": {
          "base_uri": "https://localhost:8080/"
        },
        "id": "3IuCpP9qgavU",
        "outputId": "08e9a928-af57-49c7-e837-cb8ab6225468"
      },
      "outputs": [
        {
          "data": {
            "text/plain": [
              "bool"
            ]
          },
          "execution_count": 4,
          "metadata": {},
          "output_type": "execute_result"
        }
      ],
      "source": [
        "type(False)"
      ]
    },
    {
      "cell_type": "markdown",
      "metadata": {
        "id": "mOFLtOyngfo2"
      },
      "source": [
        "#### 2. Integers\n"
      ]
    },
    {
      "cell_type": "markdown",
      "metadata": {
        "id": "GdxoX31Fjg-Z"
      },
      "source": [
        "Integers are whole numbers."
      ]
    },
    {
      "cell_type": "code",
      "execution_count": 5,
      "metadata": {
        "colab": {
          "base_uri": "https://localhost:8080/"
        },
        "id": "srTDiEnEgduE",
        "outputId": "13d8ad8d-a10a-4e53-ed04-ac84e7ff4c86"
      },
      "outputs": [
        {
          "data": {
            "text/plain": [
              "int"
            ]
          },
          "execution_count": 5,
          "metadata": {},
          "output_type": "execute_result"
        }
      ],
      "source": [
        "type(3)"
      ]
    },
    {
      "cell_type": "code",
      "execution_count": 6,
      "metadata": {
        "colab": {
          "base_uri": "https://localhost:8080/"
        },
        "id": "t1GV6mJt7y8r",
        "outputId": "c3337e91-73fe-4713-fc2c-1a41cb11bc33"
      },
      "outputs": [
        {
          "data": {
            "text/plain": [
              "int"
            ]
          },
          "execution_count": 6,
          "metadata": {},
          "output_type": "execute_result"
        }
      ],
      "source": [
        "type(0)"
      ]
    },
    {
      "cell_type": "code",
      "execution_count": 7,
      "metadata": {
        "colab": {
          "base_uri": "https://localhost:8080/"
        },
        "id": "-jYcaNHr75ps",
        "outputId": "ae21c03a-3b74-42af-d7d7-b3f005d93a0c"
      },
      "outputs": [
        {
          "data": {
            "text/plain": [
              "int"
            ]
          },
          "execution_count": 7,
          "metadata": {},
          "output_type": "execute_result"
        }
      ],
      "source": [
        "type(-100)"
      ]
    },
    {
      "cell_type": "markdown",
      "metadata": {
        "id": "bBh6nK8y8n0U"
      },
      "source": [
        "#### 3. Floating-Point Numbers\n"
      ]
    },
    {
      "cell_type": "markdown",
      "metadata": {
        "id": "RFUNCeSEJRmq"
      },
      "source": [
        "Floating-point numbers are those expressed as decimals."
      ]
    },
    {
      "cell_type": "code",
      "execution_count": 8,
      "metadata": {
        "colab": {
          "base_uri": "https://localhost:8080/"
        },
        "id": "bhQP1wSS8uqb",
        "outputId": "7eb2a300-6859-41c6-e7b9-f91acccd4825"
      },
      "outputs": [
        {
          "data": {
            "text/plain": [
              "float"
            ]
          },
          "execution_count": 8,
          "metadata": {},
          "output_type": "execute_result"
        }
      ],
      "source": [
        "type(0.0)"
      ]
    },
    {
      "cell_type": "code",
      "execution_count": 9,
      "metadata": {
        "colab": {
          "base_uri": "https://localhost:8080/"
        },
        "id": "kPGZFTD58x27",
        "outputId": "5f584ccd-c721-48d1-f9df-48d6d7e10240"
      },
      "outputs": [
        {
          "data": {
            "text/plain": [
              "float"
            ]
          },
          "execution_count": 9,
          "metadata": {},
          "output_type": "execute_result"
        }
      ],
      "source": [
        "type(4.)"
      ]
    },
    {
      "cell_type": "code",
      "execution_count": 10,
      "metadata": {
        "colab": {
          "base_uri": "https://localhost:8080/"
        },
        "id": "-sWntlXW80X3",
        "outputId": "fee3d6b1-b3bb-476c-bde3-f2d0b8125eed"
      },
      "outputs": [
        {
          "data": {
            "text/plain": [
              "float"
            ]
          },
          "execution_count": 10,
          "metadata": {},
          "output_type": "execute_result"
        }
      ],
      "source": [
        "type(5e10)"
      ]
    },
    {
      "cell_type": "code",
      "execution_count": 11,
      "metadata": {
        "colab": {
          "base_uri": "https://localhost:8080/"
        },
        "id": "srf5RKAE87S7",
        "outputId": "391cccbc-5978-4f65-8aea-d33463cf929c"
      },
      "outputs": [
        {
          "data": {
            "text/plain": [
              "float"
            ]
          },
          "execution_count": 11,
          "metadata": {},
          "output_type": "execute_result"
        }
      ],
      "source": [
        "type(-3.3)"
      ]
    },
    {
      "cell_type": "markdown",
      "metadata": {
        "id": "K489xg0k9O3b"
      },
      "source": [
        "#### 4. Strings"
      ]
    },
    {
      "cell_type": "markdown",
      "metadata": {
        "id": "fluBTUXBJdao"
      },
      "source": [
        "Strings are sequences of characters enclosed by quotes. These quotes can be a pair of double quotes or single quotes."
      ]
    },
    {
      "cell_type": "code",
      "execution_count": 12,
      "metadata": {
        "colab": {
          "base_uri": "https://localhost:8080/"
        },
        "id": "peeVMJBz9RIs",
        "outputId": "c8d67fd2-870f-4276-d8bb-7344f61c24e9"
      },
      "outputs": [
        {
          "data": {
            "text/plain": [
              "str"
            ]
          },
          "execution_count": 12,
          "metadata": {},
          "output_type": "execute_result"
        }
      ],
      "source": [
        "type(\"I am a string\")"
      ]
    },
    {
      "cell_type": "code",
      "execution_count": 13,
      "metadata": {
        "colab": {
          "base_uri": "https://localhost:8080/"
        },
        "id": "hvLWXvcK9UgC",
        "outputId": "cd644ba3-5452-41ba-dd0e-76810fc01bdd"
      },
      "outputs": [
        {
          "data": {
            "text/plain": [
              "str"
            ]
          },
          "execution_count": 13,
          "metadata": {},
          "output_type": "execute_result"
        }
      ],
      "source": [
        "type('penguin')"
      ]
    },
    {
      "cell_type": "code",
      "execution_count": 14,
      "metadata": {
        "colab": {
          "base_uri": "https://localhost:8080/"
        },
        "id": "Pd4ii9me9Zh4",
        "outputId": "9e4930eb-2781-43b8-f0ba-58b4b3e03a14"
      },
      "outputs": [
        {
          "data": {
            "text/plain": [
              "str"
            ]
          },
          "execution_count": 14,
          "metadata": {},
          "output_type": "execute_result"
        }
      ],
      "source": [
        "type('a')"
      ]
    },
    {
      "cell_type": "code",
      "execution_count": 15,
      "metadata": {
        "colab": {
          "base_uri": "https://localhost:8080/"
        },
        "id": "BhD6LNLI9cD2",
        "outputId": "e613a303-a12a-45fc-94f3-7cd4482e048e"
      },
      "outputs": [
        {
          "data": {
            "text/plain": [
              "str"
            ]
          },
          "execution_count": 15,
          "metadata": {},
          "output_type": "execute_result"
        }
      ],
      "source": [
        "type(\"\")"
      ]
    },
    {
      "cell_type": "markdown",
      "metadata": {
        "id": "CHmm_svd9ejR"
      },
      "source": [
        "#### \"12\" vs. 12"
      ]
    },
    {
      "cell_type": "code",
      "execution_count": 16,
      "metadata": {
        "colab": {
          "base_uri": "https://localhost:8080/"
        },
        "id": "vilJii7P9nLz",
        "outputId": "170b8b72-3350-4d11-93ad-c5914cdaed73"
      },
      "outputs": [
        {
          "data": {
            "text/plain": [
              "str"
            ]
          },
          "execution_count": 16,
          "metadata": {},
          "output_type": "execute_result"
        }
      ],
      "source": [
        "type(\"12\")"
      ]
    },
    {
      "cell_type": "code",
      "execution_count": 17,
      "metadata": {
        "colab": {
          "base_uri": "https://localhost:8080/"
        },
        "id": "IsmNFg8z9rj8",
        "outputId": "c2f564df-d059-4c59-df89-1528e0e9d11e"
      },
      "outputs": [
        {
          "data": {
            "text/plain": [
              "int"
            ]
          },
          "execution_count": 17,
          "metadata": {},
          "output_type": "execute_result"
        }
      ],
      "source": [
        "type(12)"
      ]
    },
    {
      "cell_type": "markdown",
      "metadata": {
        "id": "_PlfkFKN9_w2"
      },
      "source": [
        "#### 8+9 vs. '8+9"
      ]
    },
    {
      "cell_type": "code",
      "execution_count": 18,
      "metadata": {
        "colab": {
          "base_uri": "https://localhost:8080/"
        },
        "id": "uvrw67QD-GGj",
        "outputId": "2c18d3a4-c1c2-44e8-c506-4da888c98cf3"
      },
      "outputs": [
        {
          "data": {
            "text/plain": [
              "int"
            ]
          },
          "execution_count": 18,
          "metadata": {},
          "output_type": "execute_result"
        }
      ],
      "source": [
        "type(8+9)"
      ]
    },
    {
      "cell_type": "code",
      "execution_count": 19,
      "metadata": {
        "colab": {
          "base_uri": "https://localhost:8080/"
        },
        "id": "xEocddtR-KEl",
        "outputId": "76de3285-3843-4ad0-d86e-cf2350f76cfc"
      },
      "outputs": [
        {
          "data": {
            "text/plain": [
              "str"
            ]
          },
          "execution_count": 19,
          "metadata": {},
          "output_type": "execute_result"
        }
      ],
      "source": [
        "type('8+9')"
      ]
    },
    {
      "cell_type": "markdown",
      "metadata": {
        "id": "e6rJqULU-hfj"
      },
      "source": [
        "#### What's the implicaitons of 8+9 being an interger and '8+9' being a string?"
      ]
    },
    {
      "cell_type": "code",
      "execution_count": 20,
      "metadata": {
        "colab": {
          "base_uri": "https://localhost:8080/"
        },
        "id": "vQr0Vhrj-po4",
        "outputId": "fcabc2ac-fe93-44b6-81f4-ea84cfd7c535"
      },
      "outputs": [
        {
          "name": "stdout",
          "output_type": "stream",
          "text": [
            "17\n"
          ]
        }
      ],
      "source": [
        "print(8+9)"
      ]
    },
    {
      "cell_type": "code",
      "execution_count": 21,
      "metadata": {
        "colab": {
          "base_uri": "https://localhost:8080/"
        },
        "id": "k6ENax7D-tu2",
        "outputId": "59dcfaff-a511-4626-ea07-abb13a908bf8"
      },
      "outputs": [
        {
          "name": "stdout",
          "output_type": "stream",
          "text": [
            "8+9\n"
          ]
        }
      ],
      "source": [
        "print('8+9')"
      ]
    },
    {
      "cell_type": "markdown",
      "metadata": {
        "id": "a_22ZHFJ--Ul"
      },
      "source": [
        "### Store Data Using Varaibles"
      ]
    },
    {
      "cell_type": "markdown",
      "metadata": {},
      "source": [
        "Variable: A stored value that can change, depending on conditions or on information passed to the program"
      ]
    },
    {
      "cell_type": "code",
      "execution_count": 22,
      "metadata": {
        "colab": {
          "base_uri": "https://localhost:8080/"
        },
        "id": "0_88MFS__M2h",
        "outputId": "7f471600-ee62-435b-e96d-53e40ba62c56"
      },
      "outputs": [
        {
          "name": "stdout",
          "output_type": "stream",
          "text": [
            "20\n"
          ]
        }
      ],
      "source": [
        "# beginning of hangman game\n",
        "guesses = 20 \n",
        "print(guesses)"
      ]
    },
    {
      "cell_type": "code",
      "execution_count": 23,
      "metadata": {
        "colab": {
          "base_uri": "https://localhost:8080/"
        },
        "id": "ijjTVBhY_X8y",
        "outputId": "fc69951a-e179-4079-87dd-c4c2afd40ed6"
      },
      "outputs": [
        {
          "name": "stdout",
          "output_type": "stream",
          "text": [
            "19\n"
          ]
        }
      ],
      "source": [
        "# Player 2 makes their first guess\n",
        "# -= 1: shorthand for guesses = guesses - 1\n",
        "guesses -= 1\n",
        "print(guesses)"
      ]
    },
    {
      "cell_type": "code",
      "execution_count": 24,
      "metadata": {
        "colab": {
          "base_uri": "https://localhost:8080/"
        },
        "id": "KoX5Nm-T_erV",
        "outputId": "a6edfdaa-54e2-4da6-961f-9ea55b315133"
      },
      "outputs": [
        {
          "name": "stdout",
          "output_type": "stream",
          "text": [
            "17\n"
          ]
        }
      ],
      "source": [
        "# Player 2 makes another guess\n",
        "# -= 2: shorthand for guesses = guesses - 2\n",
        "guesses -= 2\n",
        "print(guesses)"
      ]
    },
    {
      "cell_type": "markdown",
      "metadata": {
        "id": "yuOs7Lyh_snU"
      },
      "source": [
        "# 3. Fundamentals of Programming in Python: Functions"
      ]
    },
    {
      "cell_type": "markdown",
      "metadata": {},
      "source": [
        "### Function\n",
        "A block of reusable code that is used to perform a single action"
      ]
    },
    {
      "cell_type": "markdown",
      "metadata": {
        "id": "t8-4vmX9HoJT"
      },
      "source": [
        "### Built-in Function"
      ]
    },
    {
      "cell_type": "code",
      "execution_count": 25,
      "metadata": {
        "colab": {
          "base_uri": "https://localhost:8080/"
        },
        "id": "p15AEetSAkHR",
        "outputId": "40a6b27e-b35a-41d9-9f53-5384465c562b"
      },
      "outputs": [
        {
          "name": "stdout",
          "output_type": "stream",
          "text": [
            "Hello URSC 645 students!\n"
          ]
        }
      ],
      "source": [
        "print(\"Hello URSC 645 students!\")"
      ]
    },
    {
      "cell_type": "code",
      "execution_count": 26,
      "metadata": {
        "colab": {
          "base_uri": "https://localhost:8080/"
        },
        "id": "T9aLliGhAur8",
        "outputId": "2e9d8c41-5841-4d3c-e09e-7c767724c999"
      },
      "outputs": [
        {
          "name": "stdout",
          "output_type": "stream",
          "text": [
            "130\n"
          ]
        }
      ],
      "source": [
        "print(65 + 65)"
      ]
    },
    {
      "cell_type": "code",
      "execution_count": 29,
      "metadata": {
        "colab": {
          "base_uri": "https://localhost:8080/"
        },
        "id": "R_P_er1aBIpE",
        "outputId": "34f558d6-5075-4d12-cb7f-d188bb5d7561"
      },
      "outputs": [],
      "source": [
        "name = input(\"What is your name?\")\n",
        "Class = input(\"What is your favorite course?\")"
      ]
    },
    {
      "cell_type": "markdown",
      "metadata": {},
      "source": [
        "* Note: Enter the answers for these two questions in the top of the screen"
      ]
    },
    {
      "cell_type": "code",
      "execution_count": 30,
      "metadata": {
        "colab": {
          "base_uri": "https://localhost:8080/"
        },
        "id": "kGh72iFNCIPt",
        "outputId": "c5363a74-f298-413b-dff2-bc6f75434f6b"
      },
      "outputs": [
        {
          "name": "stdout",
          "output_type": "stream",
          "text": [
            "Nathanael\n"
          ]
        }
      ],
      "source": [
        "print(name)"
      ]
    },
    {
      "cell_type": "code",
      "execution_count": 31,
      "metadata": {
        "colab": {
          "base_uri": "https://localhost:8080/"
        },
        "id": "ZCuzvd2zCdVv",
        "outputId": "e8892a83-a5d2-4553-b9fb-817def9f499e"
      },
      "outputs": [
        {
          "name": "stdout",
          "output_type": "stream",
          "text": [
            "URSC 645\n"
          ]
        }
      ],
      "source": [
        "print(Class)"
      ]
    },
    {
      "cell_type": "code",
      "execution_count": 32,
      "metadata": {
        "colab": {
          "base_uri": "https://localhost:8080/"
        },
        "id": "db76Ak8iHTqY",
        "outputId": "bc09b329-643a-47d8-e455-cd1a33496389"
      },
      "outputs": [
        {
          "name": "stdout",
          "output_type": "stream",
          "text": [
            "Hi  Nathanael !  URSC 645 is an excellent class!\n"
          ]
        }
      ],
      "source": [
        "print(\"Hi \", name, \"! \" , Class + \" is an excellent class!\")"
      ]
    },
    {
      "cell_type": "markdown",
      "metadata": {},
      "source": [
        "* Note: play with \"+\" and \",\" and we can see the \",\" will give us one more space in the sentence. "
      ]
    },
    {
      "cell_type": "markdown",
      "metadata": {
        "id": "mH92O4E5HtW9"
      },
      "source": [
        "### Define and call your own functions"
      ]
    },
    {
      "cell_type": "code",
      "execution_count": 33,
      "metadata": {},
      "outputs": [],
      "source": [
        "# Syntax of Defining Function\n",
        "def functionName(inputName):\n",
        "    body"
      ]
    },
    {
      "cell_type": "code",
      "execution_count": 34,
      "metadata": {
        "id": "ZVWUDmsgH1TU"
      },
      "outputs": [],
      "source": [
        "def addFive(x):\n",
        "  print(5 + x)"
      ]
    },
    {
      "cell_type": "code",
      "execution_count": 35,
      "metadata": {
        "colab": {
          "base_uri": "https://localhost:8080/"
        },
        "id": "dOgehLJfH07e",
        "outputId": "24557043-4840-4ca8-d17b-c3b289597d87"
      },
      "outputs": [
        {
          "name": "stdout",
          "output_type": "stream",
          "text": [
            "35\n"
          ]
        }
      ],
      "source": [
        "addFive(30)"
      ]
    },
    {
      "cell_type": "code",
      "execution_count": 36,
      "metadata": {
        "colab": {
          "base_uri": "https://localhost:8080/"
        },
        "id": "y0ZoHxcNIHgF",
        "outputId": "5d1cf9c8-b834-4663-e9c3-37006504a761"
      },
      "outputs": [
        {
          "name": "stdout",
          "output_type": "stream",
          "text": [
            "67.5\n"
          ]
        }
      ],
      "source": [
        "addFive(62.5)"
      ]
    },
    {
      "cell_type": "markdown",
      "metadata": {
        "id": "d0CmwSVRIWOG"
      },
      "source": [
        "### Types of Functions"
      ]
    },
    {
      "cell_type": "code",
      "execution_count": 37,
      "metadata": {
        "id": "TXMQEtx6IZ_W"
      },
      "outputs": [],
      "source": [
        "def greeting():\n",
        "  print(\"Hello penguin!\")"
      ]
    },
    {
      "cell_type": "code",
      "execution_count": 38,
      "metadata": {
        "colab": {
          "base_uri": "https://localhost:8080/"
        },
        "id": "ZBaNmlQxIhs9",
        "outputId": "beda7f8c-ebb2-43a6-adf8-9a15ad6eb41a"
      },
      "outputs": [
        {
          "name": "stdout",
          "output_type": "stream",
          "text": [
            "Hello penguin!\n"
          ]
        }
      ],
      "source": [
        "greeting()"
      ]
    },
    {
      "cell_type": "code",
      "execution_count": 46,
      "metadata": {
        "id": "svpEOpJdIjrp"
      },
      "outputs": [],
      "source": [
        "# function with one parameter\n",
        "def greet(name):\n",
        "  print(\"What's up \" + name + \"!\")"
      ]
    },
    {
      "cell_type": "code",
      "execution_count": 47,
      "metadata": {
        "colab": {
          "base_uri": "https://localhost:8080/"
        },
        "id": "iMUBy16aI1HU",
        "outputId": "05286676-54a9-41fb-c391-7a1fecc090d4"
      },
      "outputs": [
        {
          "name": "stdout",
          "output_type": "stream",
          "text": [
            "What's up Polar bear!\n"
          ]
        }
      ],
      "source": [
        "greet(\"Polar bear\")"
      ]
    },
    {
      "cell_type": "code",
      "execution_count": 41,
      "metadata": {
        "id": "6Vvgep9tI7CQ"
      },
      "outputs": [],
      "source": [
        "# function returns a value\n",
        "def square(x):\n",
        "  return x * x"
      ]
    },
    {
      "cell_type": "code",
      "execution_count": 42,
      "metadata": {},
      "outputs": [],
      "source": [
        "result=square(6)"
      ]
    },
    {
      "cell_type": "code",
      "execution_count": 43,
      "metadata": {},
      "outputs": [
        {
          "name": "stdout",
          "output_type": "stream",
          "text": [
            "36\n"
          ]
        }
      ],
      "source": [
        "print(result)"
      ]
    },
    {
      "cell_type": "code",
      "execution_count": 44,
      "metadata": {},
      "outputs": [],
      "source": [
        "anotherOne= square(result)"
      ]
    },
    {
      "cell_type": "code",
      "execution_count": 45,
      "metadata": {
        "colab": {
          "base_uri": "https://localhost:8080/"
        },
        "id": "05fUlzvcJT1h",
        "outputId": "d509e772-395d-4158-ce39-904bc2dd9090"
      },
      "outputs": [
        {
          "name": "stdout",
          "output_type": "stream",
          "text": [
            "1296\n"
          ]
        }
      ],
      "source": [
        "print(anotherOne)"
      ]
    },
    {
      "cell_type": "code",
      "execution_count": 48,
      "metadata": {
        "id": "T4-VBx7MJY08"
      },
      "outputs": [],
      "source": [
        "# function with two parameters\n",
        "def sumOfSquares(x, y):\n",
        "  square1 = x * x\n",
        "  square2 = y * y\n",
        "  return square1 + square2"
      ]
    },
    {
      "cell_type": "code",
      "execution_count": 56,
      "metadata": {
        "id": "GRqTHfZKJrTB"
      },
      "outputs": [
        {
          "name": "stdout",
          "output_type": "stream",
          "text": [
            "13\n"
          ]
        }
      ],
      "source": [
        "result = sumOfSquares(2, 3)\n",
        "print(result)"
      ]
    },
    {
      "cell_type": "code",
      "execution_count": 51,
      "metadata": {
        "id": "6dGOn23qKUyx"
      },
      "outputs": [],
      "source": [
        "# function that asks for user input\n",
        "def is_it_raining():\n",
        "  raining = input(\"Is it raining today?\")\n",
        "  return raining"
      ]
    },
    {
      "cell_type": "code",
      "execution_count": 57,
      "metadata": {
        "colab": {
          "base_uri": "https://localhost:8080/"
        },
        "id": "u9TJSWqyKj4r",
        "outputId": "e5b99b03-7952-4da5-979d-074c2aed40d7"
      },
      "outputs": [
        {
          "name": "stdout",
          "output_type": "stream",
          "text": [
            "yes\n"
          ]
        }
      ],
      "source": [
        "monday_rain = is_it_raining()\n",
        "print(monday_rain)"
      ]
    },
    {
      "cell_type": "code",
      "execution_count": 58,
      "metadata": {
        "colab": {
          "base_uri": "https://localhost:8080/"
        },
        "id": "8ufzAoCYKwXz",
        "outputId": "c2af19fb-cee5-4925-eb2e-82835133b08f"
      },
      "outputs": [
        {
          "name": "stdout",
          "output_type": "stream",
          "text": [
            "no\n"
          ]
        }
      ],
      "source": [
        "tuesday_rain = is_it_raining()\n",
        "print(tuesday_rain)"
      ]
    },
    {
      "cell_type": "markdown",
      "metadata": {},
      "source": [
        "### Modules in Python\n",
        "Modules: a module is a software component that contains one or more routines"
      ]
    },
    {
      "cell_type": "code",
      "execution_count": 59,
      "metadata": {},
      "outputs": [],
      "source": [
        "import calendar"
      ]
    },
    {
      "cell_type": "code",
      "execution_count": 65,
      "metadata": {},
      "outputs": [
        {
          "name": "stdout",
          "output_type": "stream",
          "text": [
            "    January 2022\n",
            "Mo Tu We Th Fr Sa Su\n",
            "                1  2\n",
            " 3  4  5  6  7  8  9\n",
            "10 11 12 13 14 15 16\n",
            "17 18 19 20 21 22 23\n",
            "24 25 26 27 28 29 30\n",
            "31\n",
            "\n"
          ]
        }
      ],
      "source": [
        "cal = calendar.month(2022, 1)\n",
        "print(cal)"
      ]
    },
    {
      "cell_type": "code",
      "execution_count": 62,
      "metadata": {},
      "outputs": [],
      "source": [
        "import math"
      ]
    },
    {
      "cell_type": "code",
      "execution_count": 64,
      "metadata": {},
      "outputs": [
        {
          "name": "stdout",
          "output_type": "stream",
          "text": [
            "7.0\n"
          ]
        }
      ],
      "source": [
        "result = math.sqrt(49)\n",
        "print(result)"
      ]
    },
    {
      "cell_type": "code",
      "execution_count": 67,
      "metadata": {},
      "outputs": [],
      "source": [
        "import random"
      ]
    },
    {
      "cell_type": "code",
      "execution_count": 68,
      "metadata": {},
      "outputs": [
        {
          "name": "stdout",
          "output_type": "stream",
          "text": [
            "160\n"
          ]
        }
      ],
      "source": [
        "number = random.randint(1,200)\n",
        "print(number)"
      ]
    },
    {
      "cell_type": "markdown",
      "metadata": {
        "id": "3rQ3AHk4Ligl"
      },
      "source": [
        "Two Example of Random Module"
      ]
    },
    {
      "cell_type": "code",
      "execution_count": 74,
      "metadata": {},
      "outputs": [
        {
          "name": "stdout",
          "output_type": "stream",
          "text": [
            "['Iron man', 'The Incredible Hulk', 'Iron Man 2', \"Marvel's Avenger\"]\n"
          ]
        }
      ],
      "source": [
        "# list of movies\n",
        "# notice that list is on multiple lines\n",
        "movies = [\"Iron man\",\n",
        "          \"The Incredible Hulk\", \n",
        "          \"Iron Man 2\",\n",
        "          \"Marvel's Avenger\"]\n",
        "print(movies)"
      ]
    },
    {
      "cell_type": "code",
      "execution_count": 71,
      "metadata": {},
      "outputs": [
        {
          "name": "stdout",
          "output_type": "stream",
          "text": [
            "Marvel's Avenger\n"
          ]
        }
      ],
      "source": [
        "# select a random movie from the list\n",
        "watch = random.choice(movies)\n",
        "print(watch)"
      ]
    },
    {
      "cell_type": "code",
      "execution_count": 75,
      "metadata": {},
      "outputs": [
        {
          "name": "stdout",
          "output_type": "stream",
          "text": [
            "['ace', 'two', 'jack', 'queen', 'king']\n"
          ]
        }
      ],
      "source": [
        "deck = [\"ace\",\"two\",\"jack\",\"queen\",\"king\"]\n",
        "print(deck)"
      ]
    },
    {
      "cell_type": "code",
      "execution_count": 76,
      "metadata": {},
      "outputs": [
        {
          "name": "stdout",
          "output_type": "stream",
          "text": [
            "['king', 'ace', 'jack', 'queen', 'two']\n"
          ]
        }
      ],
      "source": [
        "# shuffle the deck\n",
        "random.shuffle(deck)\n",
        "print(deck)"
      ]
    },
    {
      "cell_type": "markdown",
      "metadata": {},
      "source": [
        "# 4. Sequences"
      ]
    },
    {
      "cell_type": "markdown",
      "metadata": {
        "id": "45cNzeupLtRU"
      },
      "source": [
        "### name vs group "
      ]
    },
    {
      "cell_type": "code",
      "execution_count": 78,
      "metadata": {
        "id": "8mtfeX7wLy0U"
      },
      "outputs": [
        {
          "data": {
            "text/plain": [
              "str"
            ]
          },
          "execution_count": 78,
          "metadata": {},
          "output_type": "execute_result"
        }
      ],
      "source": [
        "# Store an individual piece of data\n",
        "name = \"Baxter\"\n",
        "type(name)"
      ]
    },
    {
      "cell_type": "code",
      "execution_count": 79,
      "metadata": {
        "id": "zgZDB8e_MzvI"
      },
      "outputs": [
        {
          "data": {
            "text/plain": [
              "list"
            ]
          },
          "execution_count": 79,
          "metadata": {},
          "output_type": "execute_result"
        }
      ],
      "source": [
        "# Store a collection of data\n",
        "group = [\"Jennifer\", \"Mason\", \"Chandler\"]\n",
        "type(group)"
      ]
    },
    {
      "cell_type": "markdown",
      "metadata": {
        "id": "vmP_I07ENbI0"
      },
      "source": [
        "### Lists"
      ]
    },
    {
      "cell_type": "markdown",
      "metadata": {
        "id": "suPGl_fcgXAU"
      },
      "source": [
        "Lists have specific order, and the list can be changed anytime. Square brackets [] are used to enclose items in the list. Commas separate the items from each other.\n"
      ]
    },
    {
      "cell_type": "code",
      "execution_count": 80,
      "metadata": {
        "id": "1Tm61nh1NduF"
      },
      "outputs": [
        {
          "name": "stdout",
          "output_type": "stream",
          "text": [
            "5\n"
          ]
        }
      ],
      "source": [
        "n = 5\n",
        "print(n)"
      ]
    },
    {
      "cell_type": "code",
      "execution_count": 81,
      "metadata": {
        "id": "yWvSfat0NnFm"
      },
      "outputs": [
        {
          "name": "stdout",
          "output_type": "stream",
          "text": [
            "[5, 10, 15, 20]\n"
          ]
        }
      ],
      "source": [
        "listA = [5, 10, 15, 20]\n",
        "print(listA)"
      ]
    },
    {
      "cell_type": "code",
      "execution_count": 82,
      "metadata": {
        "colab": {
          "base_uri": "https://localhost:8080/"
        },
        "id": "DHXWShaKN0_6",
        "outputId": "fe8a1473-6a5d-4343-ca89-811ff5d8ea95"
      },
      "outputs": [
        {
          "data": {
            "text/plain": [
              "list"
            ]
          },
          "execution_count": 82,
          "metadata": {},
          "output_type": "execute_result"
        }
      ],
      "source": [
        "type(listA)"
      ]
    },
    {
      "cell_type": "code",
      "execution_count": 83,
      "metadata": {
        "colab": {
          "base_uri": "https://localhost:8080/"
        },
        "id": "4MJHbrFvN6Ln",
        "outputId": "9ba1e2b2-4a44-4ef3-f370-0fbd337e4b43"
      },
      "outputs": [
        {
          "name": "stdout",
          "output_type": "stream",
          "text": [
            "20\n"
          ]
        }
      ],
      "source": [
        "# select an item from the list\n",
        "print(listA[3])"
      ]
    },
    {
      "cell_type": "markdown",
      "metadata": {},
      "source": [
        "* Note: the index starting from 0, 5 is the index 0; 10 as index 1, 15 as index 2 and 20 as index 3. "
      ]
    },
    {
      "cell_type": "code",
      "execution_count": 84,
      "metadata": {
        "id": "JnOni7G_ODv-"
      },
      "outputs": [
        {
          "name": "stdout",
          "output_type": "stream",
          "text": [
            "20\n"
          ]
        }
      ],
      "source": [
        "fourth_item = listA[3]\n",
        "print(fourth_item)"
      ]
    },
    {
      "cell_type": "code",
      "execution_count": 85,
      "metadata": {
        "id": "iBHMGtRnOabu"
      },
      "outputs": [
        {
          "name": "stdout",
          "output_type": "stream",
          "text": [
            "150\n"
          ]
        }
      ],
      "source": [
        "listA[3] = 150\n",
        "print(listA[3])"
      ]
    },
    {
      "cell_type": "code",
      "execution_count": 90,
      "metadata": {
        "id": "4fWP3jsSOeok"
      },
      "outputs": [
        {
          "name": "stdout",
          "output_type": "stream",
          "text": [
            "[True, 'star', 50, 3333.3]\n"
          ]
        }
      ],
      "source": [
        "# a list can have different types of data\n",
        "listB = [True,\"star\", 50, 3333.3]\n",
        "print(listB)"
      ]
    },
    {
      "cell_type": "markdown",
      "metadata": {
        "id": "1Wm9x2XNO4OD"
      },
      "source": [
        "### Tuples"
      ]
    },
    {
      "cell_type": "markdown",
      "metadata": {
        "id": "4dvzK1_XgN-b"
      },
      "source": [
        "A tuple has a specific order and the items in it cannot be changed once created. \n",
        "\n",
        "Parentheses are used to enclose the items in the tuple and commas are used to separate the items from each other."
      ]
    },
    {
      "cell_type": "code",
      "execution_count": 91,
      "metadata": {
        "id": "rOc6b8nzO7X8"
      },
      "outputs": [],
      "source": [
        "child1_birth = (\"Kimberly\", \n",
        "                \"Slidell Children's Hospital\",\n",
        "                \"Slidell\", \n",
        "                \"Louisiana\", \n",
        "                \"United States\", \n",
        "                \"10/13/1990\", \n",
        "                \"06:45\")\n",
        "type(child1_birth)"
      ]
    },
    {
      "cell_type": "code",
      "execution_count": 92,
      "metadata": {
        "id": "RPM3eIg1Pgt9"
      },
      "outputs": [
        {
          "data": {
            "text/plain": [
              "tuple"
            ]
          },
          "execution_count": 92,
          "metadata": {},
          "output_type": "execute_result"
        }
      ],
      "source": [
        "child2_birth = (\"Charolette\", \n",
        "                \"CC Baptist Hospital\", \n",
        "                \"Charolette\", \n",
        "                \"North Carolina\", \n",
        "                \"United States\", \n",
        "                \"09/09/2009\", \n",
        "                \"14:50\")\n",
        "type(child2_birth)"
      ]
    },
    {
      "cell_type": "code",
      "execution_count": 93,
      "metadata": {
        "colab": {
          "base_uri": "https://localhost:8080/"
        },
        "id": "4BQyFxX7P8wy",
        "outputId": "c4bf1091-b4f4-4227-af3b-2ea34f24bf9a"
      },
      "outputs": [
        {
          "name": "stdout",
          "output_type": "stream",
          "text": [
            "('Kimberly', \"Slidell Children's Hospital\", 'Slidell', 'Louisiana', 'United States', '10/13/1990', '06:45')\n"
          ]
        }
      ],
      "source": [
        "print(child1_birth)"
      ]
    },
    {
      "cell_type": "code",
      "execution_count": 94,
      "metadata": {
        "colab": {
          "base_uri": "https://localhost:8080/"
        },
        "id": "U7tnO4-8QBEH",
        "outputId": "ff521ed4-5484-4bbd-fc59-ec0b80eb1246"
      },
      "outputs": [
        {
          "name": "stdout",
          "output_type": "stream",
          "text": [
            "('Charolette', 'CC Baptist Hospital', 'Charolette', 'North Carolina', 'United States', '09/09/2009', '14:50')\n"
          ]
        }
      ],
      "source": [
        "print(child2_birth)"
      ]
    },
    {
      "cell_type": "code",
      "execution_count": 95,
      "metadata": {},
      "outputs": [
        {
          "name": "stdout",
          "output_type": "stream",
          "text": [
            "Slidell\n"
          ]
        }
      ],
      "source": [
        "# to find out the birth hospital of child 1\n",
        "print(child1_birth[2])"
      ]
    },
    {
      "cell_type": "markdown",
      "metadata": {},
      "source": [
        "# 5. Conditional Statements"
      ]
    },
    {
      "cell_type": "code",
      "execution_count": 97,
      "metadata": {},
      "outputs": [
        {
          "name": "stdout",
          "output_type": "stream",
          "text": [
            "You need an umbrella!\n"
          ]
        }
      ],
      "source": [
        "# example of conditional statements\n",
        "raining = input(\"is it raining? (yes/no)\")\n",
        "if raining == \"yes\":\n",
        "    print(\"You need an umbrella!\")"
      ]
    },
    {
      "cell_type": "markdown",
      "metadata": {},
      "source": [
        "### IF Statement"
      ]
    },
    {
      "cell_type": "code",
      "execution_count": 98,
      "metadata": {},
      "outputs": [],
      "source": [
        "n = input(\"choose an integer between -10 and 10 and enter it her: \")\n",
        "n = int(n)\n",
        "if n < 5:\n",
        "    print(\"The integer you chose is less than 5.\")"
      ]
    },
    {
      "cell_type": "markdown",
      "metadata": {},
      "source": [
        "### IF-ELSE Statement"
      ]
    },
    {
      "cell_type": "code",
      "execution_count": 99,
      "metadata": {},
      "outputs": [],
      "source": [
        "def minimum(x,y):\n",
        "    if x < y:\n",
        "        return x\n",
        "    else: \n",
        "        return y"
      ]
    },
    {
      "cell_type": "code",
      "execution_count": 100,
      "metadata": {},
      "outputs": [
        {
          "name": "stdout",
          "output_type": "stream",
          "text": [
            "2\n"
          ]
        }
      ],
      "source": [
        "# test out minimum on the inputs 2 and 5\n",
        "result = minimum(2,5)\n",
        "print(result)"
      ]
    },
    {
      "cell_type": "code",
      "execution_count": 101,
      "metadata": {},
      "outputs": [
        {
          "name": "stdout",
          "output_type": "stream",
          "text": [
            "-5\n"
          ]
        }
      ],
      "source": [
        "# test out minimum on the inputs -2 and -5\n",
        "result = minimum(-2, -5)\n",
        "print(result)"
      ]
    },
    {
      "cell_type": "code",
      "execution_count": 102,
      "metadata": {},
      "outputs": [
        {
          "name": "stdout",
          "output_type": "stream",
          "text": [
            "-3.98\n"
          ]
        }
      ],
      "source": [
        "# test out minimum on the inputs -3 and -3.98\n",
        "result = minimum(-3, -3.98)\n",
        "print(result)"
      ]
    },
    {
      "cell_type": "markdown",
      "metadata": {},
      "source": [
        "### IF-ELIF Statement\n",
        "ELIF is short for \"else if\""
      ]
    },
    {
      "cell_type": "code",
      "execution_count": 103,
      "metadata": {},
      "outputs": [],
      "source": [
        "raining = input(\"is it raining? (yes/no)\")\n",
        "umbrella = input(\"Do you have an umbrella? (yes/no)\")\n",
        "if raining == \"yes\" and umbrella == \"yes\":\n",
        "    print(\"Don't forget to bring your umbrella when you get out!\")\n",
        "elif raining == \"yes\" and umbrella == \"no\":\n",
        "    print(\"Wear a waterproof jacket when you get out!\")"
      ]
    },
    {
      "cell_type": "code",
      "execution_count": 111,
      "metadata": {},
      "outputs": [
        {
          "name": "stdout",
          "output_type": "stream",
          "text": [
            "The number is less than 2.\n"
          ]
        }
      ],
      "source": [
        "x = input(\"Enter a number between 0 and 10 here: \")\n",
        "# convert to float \n",
        "# conditional statements do not work with integers\n",
        "x = float(x)\n",
        "if x < 2:\n",
        "    print(\"The number is less than 2.\")\n",
        "elif x < 6:\n",
        "    print(\"The number is less than 6.\")\n",
        "elif x < 8:\n",
        "    print(\"The number is less than 8.\")\n",
        "elif x < 10:\n",
        "    print(\"The number is less than 10.\")"
      ]
    },
    {
      "cell_type": "code",
      "execution_count": 112,
      "metadata": {},
      "outputs": [
        {
          "name": "stdout",
          "output_type": "stream",
          "text": [
            "The number is less than 2.\n",
            "The number is less than 6.\n",
            "The number is less than 8.\n",
            "The number is less than 10.\n"
          ]
        }
      ],
      "source": [
        "# code without elif\n",
        "if x < 2:\n",
        "    print(\"The number is less than 2.\")\n",
        "if x < 6:\n",
        "    print(\"The number is less than 6.\")\n",
        "if x < 8:\n",
        "    print(\"The number is less than 8.\")\n",
        "if x < 10:\n",
        "    print(\"The number is less than 10.\")"
      ]
    },
    {
      "cell_type": "code",
      "execution_count": 113,
      "metadata": {},
      "outputs": [
        {
          "name": "stdout",
          "output_type": "stream",
          "text": [
            "1.0\n"
          ]
        }
      ],
      "source": [
        "# convert integer to float\n",
        "x = 1\n",
        "print(float(x))"
      ]
    },
    {
      "cell_type": "code",
      "execution_count": 116,
      "metadata": {},
      "outputs": [
        {
          "name": "stdout",
          "output_type": "stream",
          "text": [
            "2\n"
          ]
        }
      ],
      "source": [
        "# convert float to integer\n",
        "# notice that the decimal part is truncated\n",
        "x = 2.33\n",
        "print(int(x))"
      ]
    },
    {
      "cell_type": "code",
      "execution_count": 119,
      "metadata": {},
      "outputs": [],
      "source": [
        "# function to return the absolute value of a number\n",
        "def abs_val(num):\n",
        "    if num < 0:\n",
        "        return -num\n",
        "    elif num == 0:\n",
        "        return 0\n",
        "    else:\n",
        "        return num"
      ]
    },
    {
      "cell_type": "code",
      "execution_count": 118,
      "metadata": {},
      "outputs": [
        {
          "name": "stdout",
          "output_type": "stream",
          "text": [
            "4\n"
          ]
        }
      ],
      "source": [
        "result = abs_val(4)\n",
        "print(result)"
      ]
    },
    {
      "cell_type": "code",
      "execution_count": 120,
      "metadata": {},
      "outputs": [
        {
          "name": "stdout",
          "output_type": "stream",
          "text": [
            "0\n"
          ]
        }
      ],
      "source": [
        "result = abs_val(0)\n",
        "print(result)"
      ]
    },
    {
      "cell_type": "code",
      "execution_count": 121,
      "metadata": {},
      "outputs": [
        {
          "name": "stdout",
          "output_type": "stream",
          "text": [
            "78.3\n"
          ]
        }
      ],
      "source": [
        "result = abs_val(78.3)\n",
        "print(result)"
      ]
    },
    {
      "cell_type": "markdown",
      "metadata": {},
      "source": [
        "# 6. Iteration\n",
        "### Example of Iteration \n",
        "Playing Hangman: Player 1 comes up with a word; Player 2 needs to guess the word; Hint: number of vowels in the word"
      ]
    },
    {
      "cell_type": "code",
      "execution_count": 124,
      "metadata": {},
      "outputs": [
        {
          "name": "stdout",
          "output_type": "stream",
          "text": [
            "6\n"
          ]
        }
      ],
      "source": [
        "# Hangman Game\n",
        "word = 'serendipitous'\n",
        "vowels = ['a', 'e', 'i','o','u',]\n",
        "vowelCount = 0\n",
        "# how many vowels are in the word?\n",
        "# loop through each character in the word\n",
        "for character in word:\n",
        "    if character in vowels:\n",
        "        vowelCount += 1\n",
        "print(vowelCount)"
      ]
    },
    {
      "cell_type": "markdown",
      "metadata": {
        "id": "_Ft4DuOwKa4E"
      },
      "source": [
        "### Iteration\n",
        "The process of repeatedly performing a set of instructions"
      ]
    },
    {
      "cell_type": "markdown",
      "metadata": {
        "id": "SugraeIEOZOG"
      },
      "source": [
        "### For Loop\n",
        "A programming structure that allows you to achieve iteration; You can specify a range of numbers using the range() function"
      ]
    },
    {
      "cell_type": "markdown",
      "metadata": {
        "id": "QaOKOUTiOoEO"
      },
      "source": [
        "#### Range\n",
        "A built-in function; Takes the inputs as: range(start, stop, step); Default to starting with 0 and a step size of 1; The range will exclude the ending number"
      ]
    },
    {
      "cell_type": "code",
      "execution_count": 125,
      "metadata": {
        "colab": {
          "base_uri": "https://localhost:8080/"
        },
        "id": "YErL3-U1OrUj",
        "outputId": "49a4cb24-b260-46e4-f7d2-b793509d1ada"
      },
      "outputs": [
        {
          "name": "stdout",
          "output_type": "stream",
          "text": [
            "0\n",
            "1\n",
            "2\n",
            "3\n"
          ]
        }
      ],
      "source": [
        "for x in range(4):\n",
        "  print(x)"
      ]
    },
    {
      "cell_type": "code",
      "execution_count": 127,
      "metadata": {
        "colab": {
          "base_uri": "https://localhost:8080/"
        },
        "id": "sDb93WmBO-W7",
        "outputId": "3e3c6636-a92d-4a88-93cc-5323c29b6d65"
      },
      "outputs": [
        {
          "name": "stdout",
          "output_type": "stream",
          "text": [
            "1\n",
            "6\n"
          ]
        }
      ],
      "source": [
        "# start range at 1, go up to 9, increment by 5\n",
        "for x in range(1, 9, 5):\n",
        "  print(x)"
      ]
    },
    {
      "cell_type": "markdown",
      "metadata": {},
      "source": [
        "* Note: range meaning: 1, 1+5, 1+5+5 but greater than 9 so discard."
      ]
    },
    {
      "cell_type": "code",
      "execution_count": 129,
      "metadata": {
        "colab": {
          "base_uri": "https://localhost:8080/"
        },
        "id": "QQoabdyPPdzV",
        "outputId": "188d4775-0720-403d-8bf3-fa884391bcae"
      },
      "outputs": [
        {
          "name": "stdout",
          "output_type": "stream",
          "text": [
            "a\n",
            "e\n",
            "i\n",
            "o\n",
            "u\n"
          ]
        }
      ],
      "source": [
        "# print each vowel in the list\n",
        "vowels = ['a', 'e', 'i', 'o', 'u']\n",
        "for v in vowels:\n",
        "  print(v)"
      ]
    },
    {
      "cell_type": "markdown",
      "metadata": {
        "id": "sUhCNs3kQGPC"
      },
      "source": [
        "#### While Loop"
      ]
    },
    {
      "cell_type": "code",
      "execution_count": 130,
      "metadata": {
        "colab": {
          "base_uri": "https://localhost:8080/"
        },
        "id": "sz5-Jc1gQJ_Q",
        "outputId": "b6827bf7-8b9d-46df-da5d-0f1e7ff8a6ac"
      },
      "outputs": [
        {
          "name": "stdout",
          "output_type": "stream",
          "text": [
            "5\n"
          ]
        }
      ],
      "source": [
        "vowels = ['a', 'e', 'i', 'o', 'u']\n",
        "length = len(vowels)\n",
        "print(length)"
      ]
    },
    {
      "cell_type": "code",
      "execution_count": 132,
      "metadata": {
        "colab": {
          "base_uri": "https://localhost:8080/"
        },
        "id": "alUYDhcLQxQV",
        "outputId": "0c57e028-c9ab-4490-f208-b4f13bbe077b"
      },
      "outputs": [
        {
          "name": "stdout",
          "output_type": "stream",
          "text": [
            "e\n",
            "o\n"
          ]
        }
      ],
      "source": [
        "vowels = ['a', 'e', 'i', 'o', 'u']\n",
        "i = 1\n",
        "while i < len(vowels):\n",
        "  print(vowels[i])\n",
        "  # increment i by 2\n",
        "  i += 2"
      ]
    },
    {
      "cell_type": "markdown",
      "metadata": {},
      "source": [
        "* Note: i=1 means that starting from 'e', and i +=2 means select the next 2 letter after the 'e'"
      ]
    },
    {
      "cell_type": "code",
      "execution_count": 155,
      "metadata": {},
      "outputs": [
        {
          "name": "stdout",
          "output_type": "stream",
          "text": [
            "4\n"
          ]
        }
      ],
      "source": [
        "# Zhenhang Exercise on While Loop\n",
        "movies = [\"Iron man\",\n",
        "          \"The Incredible Hulk\", \n",
        "          \"Iron Man 2\",\n",
        "          \"Marvel's Avenger\"]\n",
        "length = len(movies)\n",
        "print(length)"
      ]
    },
    {
      "cell_type": "code",
      "execution_count": 134,
      "metadata": {},
      "outputs": [
        {
          "name": "stdout",
          "output_type": "stream",
          "text": [
            "The Incredible Hulk\n",
            "Iron Man 2\n",
            "Marvel's Avenger\n"
          ]
        }
      ],
      "source": [
        "# first set i to 1\n",
        "i = 1\n",
        "while i < len(movies):\n",
        "    print(movies[i])\n",
        "    i += 1\n",
        "# compare results if you set i to 0"
      ]
    },
    {
      "cell_type": "markdown",
      "metadata": {
        "id": "srtEj6s3RawX"
      },
      "source": [
        "# 7. Recursion\n",
        "Defining something in terms of itself to achieve your objective\n",
        "* Recursive Function: a function that calls itself in its body\n",
        "* Recursive Approach to Problem Solving: a recursive function solves a problem by dividing the problem into smaller subproblems, and calling the function itself to solve each subproblem.\n"
      ]
    },
    {
      "cell_type": "markdown",
      "metadata": {
        "id": "nF5DOPpvTVZC"
      },
      "source": [
        "### Factorial\n",
        "The factorial of a postive integer n, denoted by n!, is the product of all positive integers less than or equal to n."
      ]
    },
    {
      "cell_type": "code",
      "execution_count": 135,
      "metadata": {
        "id": "RszW4pfwTZ2B"
      },
      "outputs": [],
      "source": [
        "def factorial(n):\n",
        "  \"\"\"Return the factorial of positive integer n. \"\"\"\n",
        "  if n == 1:\n",
        "    return 1\n",
        "  else:\n",
        "      return n *factorial(n-1)"
      ]
    },
    {
      "cell_type": "markdown",
      "metadata": {},
      "source": [
        "* Note: if part is the Base Case: 1! = 1 and the else part is the Recursive Case: n! = n*(n-1)!"
      ]
    },
    {
      "cell_type": "markdown",
      "metadata": {
        "id": "ExtV9WPKUCLP"
      },
      "source": [
        "### sum_digits\n",
        "<br />Example:\n",
        "<br />5 sum of digits: 5\n",
        "<br />25 sum of digits: 2+5 =7\n",
        "<br />125 sum of digits: 1+2+5 =8"
      ]
    },
    {
      "cell_type": "code",
      "execution_count": 136,
      "metadata": {
        "id": "zS_GK_FMUHbz"
      },
      "outputs": [],
      "source": [
        "def sum_digits(n):\n",
        "  \"\"\"Return the sum of the digits of positive integer n.\"\"\"\n",
        "  if n < 10:\n",
        "    return n\n",
        "  else:\n",
        "    all_but_last = n // 10\n",
        "    last = n % 10\n",
        "    return sum_digits(all_but_last) + last"
      ]
    },
    {
      "cell_type": "code",
      "execution_count": 138,
      "metadata": {},
      "outputs": [
        {
          "data": {
            "text/plain": [
              "7"
            ]
          },
          "execution_count": 138,
          "metadata": {},
          "output_type": "execute_result"
        }
      ],
      "source": [
        "sum_digits(25)"
      ]
    },
    {
      "cell_type": "markdown",
      "metadata": {
        "id": "vSaLUW_xUweg"
      },
      "source": [
        "### The Fibonacci Sequence"
      ]
    },
    {
      "cell_type": "code",
      "execution_count": 137,
      "metadata": {
        "id": "xuOpcfNbUzAb"
      },
      "outputs": [],
      "source": [
        "def fib(n):\n",
        "  \"\"\"Return the nth number in the Fibonacci sequence.\"\"\"\n",
        "  if n == 1:\n",
        "    return 0\n",
        "  elif n == 2:\n",
        "    return 1\n",
        "  else:\n",
        "    return fib(n -1) + fib(n-2)"
      ]
    },
    {
      "cell_type": "code",
      "execution_count": 139,
      "metadata": {},
      "outputs": [
        {
          "data": {
            "text/plain": [
              "21"
            ]
          },
          "execution_count": 139,
          "metadata": {},
          "output_type": "execute_result"
        }
      ],
      "source": [
        "fib(9)"
      ]
    },
    {
      "cell_type": "markdown",
      "metadata": {
        "id": "SqwwJ89JVUzr"
      },
      "source": [
        "### Palindrome\n",
        "is a word, phrase, or sequence that reads the same forwards and backwards\n",
        "<br/>Examples: \"mom\", \"k\", \"5\", \"121\", \"1221\""
      ]
    },
    {
      "cell_type": "code",
      "execution_count": 140,
      "metadata": {
        "id": "uCbrKorEVcCE"
      },
      "outputs": [],
      "source": [
        "def isPalindrome(s):\n",
        "  \"\"\"Return whether string s is a palindrome.\"\"\"\n",
        "  if len(s) <= 1:\n",
        "    return True\n",
        "  else:\n",
        "    return s[0] == s[-1] and isPalindrome(s[1:-1])"
      ]
    },
    {
      "cell_type": "code",
      "execution_count": 141,
      "metadata": {
        "colab": {
          "base_uri": "https://localhost:8080/"
        },
        "id": "6NyzOPsJnRQC",
        "outputId": "f352de07-0950-4d37-8995-e4cf87cb082d"
      },
      "outputs": [
        {
          "data": {
            "text/plain": [
              "True"
            ]
          },
          "execution_count": 141,
          "metadata": {},
          "output_type": "execute_result"
        }
      ],
      "source": [
        "isPalindrome(\"mom\")"
      ]
    },
    {
      "cell_type": "markdown",
      "metadata": {
        "id": "WZnrDo8-WidK"
      },
      "source": [
        "# 8.Object Oriented Programming (OOP)\n",
        "* A collection of data and methods that operate on that data\n",
        "* Every object has a type\n",
        "* Types define what programs can do with objects of that type\n",
        "<br/>Example\n",
        "<br/>Define new objects - SPOT\n",
        "<br/>Objects are categorized - DOG\n",
        "<br/>Categories are classes - DOG / CAT\n",
        "<br/>Every object is an instance of a class - DOG / SPOT"
      ]
    },
    {
      "cell_type": "code",
      "execution_count": 145,
      "metadata": {},
      "outputs": [],
      "source": [
        "class Dog():\n",
        "    def __init__(self,name,age):\n",
        "        self.name = name\n",
        "        self.age = age\n",
        "\n",
        "    def bark(self):\n",
        "        print(\"Woof woof!\")"
      ]
    },
    {
      "cell_type": "code",
      "execution_count": 146,
      "metadata": {},
      "outputs": [],
      "source": [
        "fido = Dog(\"Fido\", 2)"
      ]
    },
    {
      "cell_type": "code",
      "execution_count": 147,
      "metadata": {},
      "outputs": [
        {
          "name": "stdout",
          "output_type": "stream",
          "text": [
            "Woof woof!\n"
          ]
        }
      ],
      "source": [
        "fido.bark()"
      ]
    },
    {
      "cell_type": "code",
      "execution_count": 148,
      "metadata": {},
      "outputs": [
        {
          "name": "stdout",
          "output_type": "stream",
          "text": [
            "Fido\n"
          ]
        }
      ],
      "source": [
        "print(fido.name)"
      ]
    },
    {
      "cell_type": "code",
      "execution_count": 149,
      "metadata": {},
      "outputs": [
        {
          "name": "stdout",
          "output_type": "stream",
          "text": [
            "2\n"
          ]
        }
      ],
      "source": [
        "print(fido.age)"
      ]
    },
    {
      "cell_type": "code",
      "execution_count": 175,
      "metadata": {},
      "outputs": [],
      "source": [
        "fido.age +=1"
      ]
    },
    {
      "cell_type": "markdown",
      "metadata": {},
      "source": [
        "* Note: suppose the dog will grow one year old"
      ]
    },
    {
      "cell_type": "code",
      "execution_count": 150,
      "metadata": {},
      "outputs": [
        {
          "name": "stdout",
          "output_type": "stream",
          "text": [
            "2\n"
          ]
        }
      ],
      "source": [
        "print(fido.age)"
      ]
    },
    {
      "cell_type": "code",
      "execution_count": 151,
      "metadata": {
        "id": "Y40CHj4DYXtS"
      },
      "outputs": [],
      "source": [
        "class Llama():\n",
        "  def __init__(self, name, age):\n",
        "    self.name = name\n",
        "    self.age = age\n",
        "\n",
        "  def hum(self):\n",
        "    print(\"Mwa Mwa!\")"
      ]
    },
    {
      "cell_type": "code",
      "execution_count": 152,
      "metadata": {
        "colab": {
          "base_uri": "https://localhost:8080/",
          "height": 198
        },
        "id": "POuLJAZtaGch",
        "outputId": "677978c2-2df3-4f04-fec2-9f8a5d31b45c"
      },
      "outputs": [],
      "source": [
        "princess = Llama(\"Princess\", 20)"
      ]
    },
    {
      "cell_type": "code",
      "execution_count": 153,
      "metadata": {
        "id": "CGzYNYX6N0X4"
      },
      "outputs": [
        {
          "name": "stdout",
          "output_type": "stream",
          "text": [
            "Mwa Mwa!\n"
          ]
        }
      ],
      "source": [
        "princess.hum()"
      ]
    },
    {
      "cell_type": "code",
      "execution_count": 154,
      "metadata": {},
      "outputs": [
        {
          "name": "stdout",
          "output_type": "stream",
          "text": [
            "Princess\n"
          ]
        }
      ],
      "source": [
        "print(princess.name)"
      ]
    },
    {
      "cell_type": "code",
      "execution_count": 155,
      "metadata": {},
      "outputs": [
        {
          "name": "stdout",
          "output_type": "stream",
          "text": [
            "20\n"
          ]
        }
      ],
      "source": [
        "print(princess.age)"
      ]
    }
  ],
  "metadata": {
    "colab": {
      "include_colab_link": true,
      "name": "URSC645_ReplicateVijayan2019_PythonQuickStart.ipynb",
      "provenance": [],
      "toc_visible": true
    },
    "kernelspec": {
      "display_name": "Python 3",
      "name": "python3"
    },
    "language_info": {
      "codemirror_mode": {
        "name": "ipython",
        "version": 3
      },
      "file_extension": ".py",
      "mimetype": "text/x-python",
      "name": "python",
      "nbconvert_exporter": "python",
      "pygments_lexer": "ipython3",
      "version": "3.10.9"
    }
  },
  "nbformat": 4,
  "nbformat_minor": 0
}
