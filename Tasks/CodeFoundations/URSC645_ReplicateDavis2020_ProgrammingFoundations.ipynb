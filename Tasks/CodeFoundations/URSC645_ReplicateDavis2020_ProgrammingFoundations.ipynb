{
  "cells": [
    {
      "attachments": {},
      "cell_type": "markdown",
      "metadata": {
        "colab_type": "text",
        "id": "view-in-github"
      },
      "source": [
        "<a href=\"https://colab.research.google.com/github/npr99/URSC645/blob/main/Tasks/CodeFoundations/URSC645_ReplicateDavis2020_ProgrammingFoundations.ipynb\" target=\"_parent\"><img src=\"https://colab.research.google.com/assets/colab-badge.svg\" alt=\"Open In Colab\"/></a>"
      ]
    },
    {
      "attachments": {},
      "cell_type": "markdown",
      "metadata": {
        "id": "P3WSAM9Pb_Uz"
      },
      "source": [
        "# Code Foundations 1\n",
        "Students will work to replicate and follow a LinkedInLearning Courses. \n",
        "\n",
        "Instructions: See course [Google Drive](https://docs.google.com/presentation/d/1H18SZYr8X4PDVW57usxBXFvD0xI4lbJCO_e8dvzCmOc/edit?usp=sharing) \n",
        "\n",
        "Primary Goals:\n",
        "1. Practice setting up a work folder and a work log\n",
        "2. Become more comfortable scripting in Python\n",
        "3. Have fun!\n",
        "\n",
        "Suggested LinkedInLearning Courses:\n",
        "Free resources for TAMU students, staff, and faculty (https://linkedinlearning.tamu.edu/)\n",
        "\n",
        "Davis, Annyce. (2020). Programming Foundations: Fundamentals. https://www.linkedin.com/learning/programming-foundations-fundamentals-3/"
      ]
    },
    {
      "attachments": {},
      "cell_type": "markdown",
      "metadata": {
        "id": "328j4t1gcCZt"
      },
      "source": [
        "## Description of Program\n",
        "- program: URSC645_ReplicateDavis2020_ProgrammingFoundations\n",
        "- task: Replicate Davis, Annyce. (2020). Programming Foundations: Fundamentals. https://www.linkedin.com/learning/programming-foundations-fundamentals-3/\n",
        "- Versions: \n",
        "- 2021-01-29 - First starter version\n",
        "- 2021-02-04 - Major revision - additions from Michelle Stanley\n",
        "- 2022-02-01 - minor revision - minor additions from Quan Sun\n",
        "- 2023-01-24 - update version and move version control to GitHub\n",
        "- 2024-01-12 - minor updates with improved comments\n",
        "- project: URSC 645 Urban and Regional Analytics\n",
        "- funding: Department of Landscape Architecture and Urban Planning, Texas A&M University\n",
        "- authors: Annyce Davis, Michelle Stanley, Nathanael Rosenheim, Quan Sun"
      ]
    },
    {
      "cell_type": "markdown",
      "metadata": {
        "id": "5J2BLFtobw4z"
      },
      "source": [
        "# 1. Programming Basics\n",
        "This LinkedIn Learning Course will explore the core concepts and structure of programming languages.\n",
        "\n",
        "## What is programming?\n",
        "Programming is the process of converting ideas into instructions that a computer can understand and execute. These instructions are specific and sequencial. \n",
        "\n",
        "## What is a programming language?\n",
        "A programming language is how we create the instructions and it has its own syntax (rules) and semantics (meaning).\n",
        "\n",
        "## Writing source code\n",
        "Source code is the instructions for the computer written in plain text utilizing a text editor.\n",
        "\n",
        "## Running your code\n",
        "Running code translates source code into machine code through an interpreter like Python. \n",
        "\n",
        "## Using an IDE\n",
        "Integrated Development Environments (IDE) provide features that speed up code development like line numbers and text color. "
      ]
    },
    {
      "cell_type": "markdown",
      "metadata": {
        "id": "qQ9Wrt2jcmSM"
      },
      "source": [
        "# 2. Programming Syntax\n",
        "Programming syntax is the set of rules that define how statements are structured. "
      ]
    },
    {
      "cell_type": "markdown",
      "metadata": {
        "id": "nJ88FRvpqml1"
      },
      "source": [
        "## Why Python?\n",
        "It is popular and easy to learn (fewer syntax requirements). Python is also a general purpose language available on mulitple platforms. "
      ]
    },
    {
      "cell_type": "markdown",
      "metadata": {
        "id": "JvoPOPZPgLm0"
      },
      "source": [
        "## What is Google Colab?\n",
        "Google Colaboratory (https://colab.research.google.com/notebooks/intro.ipynb#recent=true) \"Colab\" for short sets up a JupyterNotebook environment. Google Colab allows coders to skip the typical steps for setting up a Python environment - no need to install Anaconda or use command line prompts. \n",
        "\n",
        "Google Colab replaces the command line example demonstrated in Davis (2020)."
      ]
    },
    {
      "cell_type": "markdown",
      "metadata": {
        "id": "JFpACZVofNwZ"
      },
      "source": [
        "The next code cell replicates the command:\n",
        "\n",
        "```\n",
        "what is 2 plus 2?\n",
        "```\n",
        "\n",
        "To run the cell there are three options:\n",
        "1. press `ctrl+enter`\n",
        "2. hover over the cell and then press the \"play\" button \n",
        "3. In the menu select Runtime -> Run the focused cell"
      ]
    },
    {
      "cell_type": "code",
      "execution_count": 1,
      "metadata": {
        "colab": {
          "base_uri": "https://localhost:8080/",
          "height": 129
        },
        "id": "0gO0Fr93dwRW",
        "outputId": "7cebe330-0226-4893-8783-d4a19c2b78fe"
      },
      "outputs": [
        {
          "data": {
            "text/plain": [
              "4"
            ]
          },
          "execution_count": 1,
          "metadata": {},
          "output_type": "execute_result"
        }
      ],
      "source": [
        "# what is 2 plus 2?\n",
        "2+2"
      ]
    },
    {
      "cell_type": "code",
      "execution_count": 2,
      "metadata": {
        "colab": {
          "base_uri": "https://localhost:8080/"
        },
        "id": "3XJuHIg7whHY",
        "outputId": "68005c30-77ae-4f98-ea4f-54f63252c777"
      },
      "outputs": [
        {
          "name": "stdout",
          "output_type": "stream",
          "text": [
            "Hello world!\n",
            "Goodbye world!\n"
          ]
        }
      ],
      "source": [
        "# Code from 02-07_begin.py file downloaded from course materials\n",
        "# In folder: Ex_Files_Programming_Foundations_Fundamentals\\Exercise Files\\Chap02\n",
        "print(\"Hello world!\")\n",
        "\n",
        "print(\"Goodbye world!\")"
      ]
    },
    {
      "cell_type": "markdown",
      "metadata": {
        "id": "R1u5J65tgDrN"
      },
      "source": [
        "## Basic statements and expressions\n",
        "\n",
        "Order of operations is important.\n",
        "\n",
        "- P - Parentheses first\n",
        "- E - Exponents\n",
        "- MD - Multipplication and division (left to right)\n",
        "- AS - Addition and subtraction (left to right)"
      ]
    },
    {
      "cell_type": "code",
      "execution_count": 3,
      "metadata": {
        "colab": {
          "base_uri": "https://localhost:8080/"
        },
        "id": "bcOGAFMAxpVv",
        "outputId": "4b31a79c-9dfa-4a0f-adba-36ba3701df50"
      },
      "outputs": [
        {
          "data": {
            "text/plain": [
              "20"
            ]
          },
          "execution_count": 3,
          "metadata": {},
          "output_type": "execute_result"
        }
      ],
      "source": [
        "# What is 2 plus 3 times 6?\n",
        "2+3*6"
      ]
    },
    {
      "cell_type": "code",
      "execution_count": 4,
      "metadata": {
        "colab": {
          "base_uri": "https://localhost:8080/"
        },
        "id": "Y-cYNMknyZh6",
        "outputId": "5f3849d8-9675-438f-bb5d-40232816befc"
      },
      "outputs": [
        {
          "data": {
            "text/plain": [
              "30"
            ]
          },
          "execution_count": 4,
          "metadata": {},
          "output_type": "execute_result"
        }
      ],
      "source": [
        "# What is 2 plus 3 times 6?\n",
        "(2+3)*6"
      ]
    },
    {
      "cell_type": "markdown",
      "metadata": {},
      "source": [
        "Notice that 2+3*6 is not the same as (2+3)*6. \n",
        "\n",
        "In the first example multiplication is performed first and in the second example what is in the parentheses is performed first."
      ]
    },
    {
      "cell_type": "markdown",
      "metadata": {
        "id": "UNw0Bjhhyoiu"
      },
      "source": [
        "## Troubleshooting issues\n",
        "\n",
        "\n",
        "> There are two ways to write error-free programs; only the third one works. - [Alen Perlis](https://en.wikipedia.org/wiki/Alan_Perlis)\n",
        "\n",
        "Error Categories\n",
        "- Syntax - language rules broken\n",
        "- Runtime - unable to execute\n",
        "- Semantic - unexpected output\n"
      ]
    },
    {
      "cell_type": "code",
      "execution_count": 5,
      "metadata": {
        "colab": {
          "base_uri": "https://localhost:8080/",
          "height": 129
        },
        "id": "8JEdrPpSzDbO",
        "outputId": "6ab5ff53-8cc3-4604-d43f-2b2a994242b2"
      },
      "outputs": [
        {
          "ename": "SyntaxError",
          "evalue": "invalid syntax. Perhaps you forgot a comma? (1277818319.py, line 2)",
          "output_type": "error",
          "traceback": [
            "\u001b[1;36m  Cell \u001b[1;32mIn[5], line 2\u001b[1;36m\u001b[0m\n\u001b[1;33m    print(Hello World)\u001b[0m\n\u001b[1;37m          ^\u001b[0m\n\u001b[1;31mSyntaxError\u001b[0m\u001b[1;31m:\u001b[0m invalid syntax. Perhaps you forgot a comma?\n"
          ]
        }
      ],
      "source": [
        "# Syntax error missing quotes around string\n",
        "print(Hello World)"
      ]
    },
    {
      "cell_type": "code",
      "execution_count": 8,
      "metadata": {
        "colab": {
          "base_uri": "https://localhost:8080/",
          "height": 163
        },
        "id": "JgHFyQM3zdMk",
        "outputId": "b95eeb65-eedf-46a6-ed6d-a3b027dd61de"
      },
      "outputs": [
        {
          "ename": "ZeroDivisionError",
          "evalue": "division by zero",
          "output_type": "error",
          "traceback": [
            "\u001b[1;31m---------------------------------------------------------------------------\u001b[0m",
            "\u001b[1;31mZeroDivisionError\u001b[0m                         Traceback (most recent call last)",
            "Cell \u001b[1;32mIn[8], line 2\u001b[0m\n\u001b[0;32m      1\u001b[0m \u001b[38;5;66;03m# Runtime - unable to execute - can not divide by zero\u001b[39;00m\n\u001b[1;32m----> 2\u001b[0m \u001b[38;5;241m10\u001b[39m \u001b[38;5;241m*\u001b[39m (\u001b[38;5;241;43m2\u001b[39;49m\u001b[38;5;241;43m/\u001b[39;49m\u001b[38;5;241;43m0\u001b[39;49m)\n",
            "\u001b[1;31mZeroDivisionError\u001b[0m: division by zero"
          ]
        }
      ],
      "source": [
        "# Runtime - unable to execute - can not divide by zero\n",
        "10 * (2/0)"
      ]
    },
    {
      "cell_type": "code",
      "execution_count": 9,
      "metadata": {
        "colab": {
          "base_uri": "https://localhost:8080/"
        },
        "id": "nmhIC6G8zoxl",
        "outputId": "31307f9d-41bb-4b82-c23a-448b8e7e5fed"
      },
      "outputs": [
        {
          "name": "stdout",
          "output_type": "stream",
          "text": [
            "Hello name\n"
          ]
        }
      ],
      "source": [
        "# Semantic - unexpected output - expected output \"Hello Alice\"\n",
        "name = \"Alice\"\n",
        "print(\"Hello name\")"
      ]
    },
    {
      "cell_type": "markdown",
      "metadata": {
        "id": "JDzGQcjJ0KQh"
      },
      "source": [
        "## 3. Variables and Data Types"
      ]
    },
    {
      "cell_type": "markdown",
      "metadata": {
        "id": "uer4AERyt_nP"
      },
      "source": [
        "### Introduction to variables and data types\n",
        "\n",
        "variables - assign a name and a value\n",
        "(using assignment operator, =)\n"
      ]
    },
    {
      "cell_type": "code",
      "execution_count": 10,
      "metadata": {
        "colab": {
          "base_uri": "https://localhost:8080/"
        },
        "id": "xG1K9nyLuYx_",
        "outputId": "c1c9048e-c8a6-4a6b-8e50-983c1704a23a"
      },
      "outputs": [
        {
          "name": "stdout",
          "output_type": "stream",
          "text": [
            "36\n",
            "<class 'int'>\n"
          ]
        }
      ],
      "source": [
        "# assign value to variable named age\n",
        "age = 36\n",
        "print(age)\n",
        "# What data type is age? Note int = integer\n",
        "print(type(age))"
      ]
    },
    {
      "cell_type": "code",
      "execution_count": 11,
      "metadata": {
        "colab": {
          "base_uri": "https://localhost:8080/"
        },
        "id": "8OqEPWMyuwdX",
        "outputId": "f64acc68-b032-47dd-a3b0-9d2e4bb074c6"
      },
      "outputs": [
        {
          "name": "stdout",
          "output_type": "stream",
          "text": [
            "john.doe@example.com\n",
            "<class 'str'>\n"
          ]
        }
      ],
      "source": [
        "# assign value to variable named email_address\n",
        "email_address = 'john.doe@example.com'\n",
        "print(email_address)\n",
        "# What data type is email_address? Note str = string\n",
        "print(type(email_address))"
      ]
    },
    {
      "cell_type": "markdown",
      "metadata": {
        "id": "lW77gYuDvoS2"
      },
      "source": [
        "### Variables across languages\n",
        "\n",
        "Some languages require you to define the type when defining the variable (Java),\n",
        "\n",
        "In Python we do not need to define a variable type before using it. \n",
        "\n",
        "Rules for naming variables in Python\n",
        "1. Names contain letter, numbers, and underscores.\n",
        "2. Spaces are not allowed.\n",
        "3. Names are case-sensitive.\n",
        "4. Variables cannot be keywords."
      ]
    },
    {
      "cell_type": "code",
      "execution_count": 12,
      "metadata": {
        "colab": {
          "base_uri": "https://localhost:8080/"
        },
        "id": "iU6Ii_zZwP7X",
        "outputId": "3df9f7e2-779a-4570-def2-7481015980bf"
      },
      "outputs": [
        {
          "name": "stdout",
          "output_type": "stream",
          "text": [
            "Sugar\n",
            "<class 'str'>\n"
          ]
        }
      ],
      "source": [
        "# assign value to variable named cookies\n",
        "cookies = 'Sugar'\n",
        "print(cookies)\n",
        "# What data type is cookies? Note str = string\n",
        "print(type(cookies))"
      ]
    },
    {
      "cell_type": "code",
      "execution_count": 13,
      "metadata": {
        "colab": {
          "base_uri": "https://localhost:8080/"
        },
        "id": "Afo37LJFwXo3",
        "outputId": "958521ac-0e03-4002-b7cb-72ec43714650"
      },
      "outputs": [
        {
          "name": "stdout",
          "output_type": "stream",
          "text": [
            "1\n",
            "<class 'int'>\n"
          ]
        }
      ],
      "source": [
        "# assign value to variable named cookies\n",
        "cookies = 1\n",
        "print(cookies)\n",
        "# What data type is cookies? Note int = integer\n",
        "print(type(cookies))\n",
        "# notice that the value of cookies changed from 'Sugar' to 1 the data type also changed from str to int"
      ]
    },
    {
      "cell_type": "code",
      "execution_count": 18,
      "metadata": {
        "colab": {
          "base_uri": "https://localhost:8080/"
        },
        "id": "pZs5iraEw7S3",
        "outputId": "f6399b64-1bdb-4a50-c951-3d33a1f46b0f"
      },
      "outputs": [
        {
          "name": "stdout",
          "output_type": "stream",
          "text": [
            "There are  35 keywords to avoid.\n"
          ]
        },
        {
          "data": {
            "text/plain": [
              "['False',\n",
              " 'None',\n",
              " 'True',\n",
              " 'and',\n",
              " 'as',\n",
              " 'assert',\n",
              " 'async',\n",
              " 'await',\n",
              " 'break',\n",
              " 'class',\n",
              " 'continue',\n",
              " 'def',\n",
              " 'del',\n",
              " 'elif',\n",
              " 'else',\n",
              " 'except',\n",
              " 'finally',\n",
              " 'for',\n",
              " 'from',\n",
              " 'global',\n",
              " 'if',\n",
              " 'import',\n",
              " 'in',\n",
              " 'is',\n",
              " 'lambda',\n",
              " 'nonlocal',\n",
              " 'not',\n",
              " 'or',\n",
              " 'pass',\n",
              " 'raise',\n",
              " 'return',\n",
              " 'try',\n",
              " 'while',\n",
              " 'with',\n",
              " 'yield']"
            ]
          },
          "execution_count": 18,
          "metadata": {},
          "output_type": "execute_result"
        }
      ],
      "source": [
        "# To see keywords\n",
        "import keyword\n",
        "# variable names can not be keywords\n",
        "avoid_these_variable_names = keyword.kwlist\n",
        "# how many keywords are there?\n",
        "print(\"There are \",len(avoid_these_variable_names),\"keywords to avoid.\")\n",
        "avoid_these_variable_names"
      ]
    },
    {
      "cell_type": "markdown",
      "metadata": {
        "id": "1hC1NudtxFkX"
      },
      "source": [
        "### Working with numbers\n",
        "\n",
        "- Addition +\n",
        "- Substraction -\n",
        "- Multiplication *\n",
        "- Exponent **\n",
        "- Division /\n",
        "\n",
        "Float: Any number with a decimal point. Short for floating-point number"
      ]
    },
    {
      "cell_type": "code",
      "execution_count": 14,
      "metadata": {
        "colab": {
          "base_uri": "https://localhost:8080/"
        },
        "id": "ZtXQgQeOxYCH",
        "outputId": "4178e446-941d-455b-c1f4-2b3529d4695d"
      },
      "outputs": [
        {
          "data": {
            "text/plain": [
              "5"
            ]
          },
          "execution_count": 14,
          "metadata": {},
          "output_type": "execute_result"
        }
      ],
      "source": [
        "# addition\n",
        "2+3"
      ]
    },
    {
      "cell_type": "code",
      "execution_count": 15,
      "metadata": {
        "colab": {
          "base_uri": "https://localhost:8080/"
        },
        "id": "KbEOmGSfxZ3X",
        "outputId": "e08a100a-2aa0-4dda-bfd8-e1ee706c349a"
      },
      "outputs": [
        {
          "data": {
            "text/plain": [
              "6"
            ]
          },
          "execution_count": 15,
          "metadata": {},
          "output_type": "execute_result"
        }
      ],
      "source": [
        "# multiplication\n",
        "2*3"
      ]
    },
    {
      "cell_type": "code",
      "execution_count": 16,
      "metadata": {
        "colab": {
          "base_uri": "https://localhost:8080/"
        },
        "id": "EsQrpPOJxbsn",
        "outputId": "c9dd5f93-2a26-4cb2-856a-4024eba69edd"
      },
      "outputs": [
        {
          "data": {
            "text/plain": [
              "8"
            ]
          },
          "execution_count": 16,
          "metadata": {},
          "output_type": "execute_result"
        }
      ],
      "source": [
        "# exponentiation\n",
        "2**3"
      ]
    },
    {
      "cell_type": "code",
      "execution_count": 17,
      "metadata": {
        "colab": {
          "base_uri": "https://localhost:8080/"
        },
        "id": "JGra4L7GxfW3",
        "outputId": "84af112d-512d-44c7-e999-d3651ba11baf"
      },
      "outputs": [
        {
          "data": {
            "text/plain": [
              "1.5"
            ]
          },
          "execution_count": 17,
          "metadata": {},
          "output_type": "execute_result"
        }
      ],
      "source": [
        "# division\n",
        "3/2"
      ]
    },
    {
      "cell_type": "code",
      "execution_count": 19,
      "metadata": {
        "colab": {
          "base_uri": "https://localhost:8080/"
        },
        "id": "nefNQKMUxkB3",
        "outputId": "ebaab8ca-cb2b-4df1-d8de-1afe7af248d3"
      },
      "outputs": [
        {
          "data": {
            "text/plain": [
              "1"
            ]
          },
          "execution_count": 19,
          "metadata": {},
          "output_type": "execute_result"
        }
      ],
      "source": [
        "# floor division\n",
        "# This operator will divide the first argument by the second \n",
        "# and round the result down to the nearest whole number.\n",
        "3//2"
      ]
    },
    {
      "cell_type": "code",
      "execution_count": 20,
      "metadata": {
        "colab": {
          "base_uri": "https://localhost:8080/"
        },
        "id": "rFrz9KaIxpH_",
        "outputId": "6dc410f8-eb71-464f-eaea-c0bdd1f0a919"
      },
      "outputs": [
        {
          "data": {
            "text/plain": [
              "2"
            ]
          },
          "execution_count": 20,
          "metadata": {},
          "output_type": "execute_result"
        }
      ],
      "source": [
        "# modulus\n",
        "# Returns the remainder of dividing two numbers.\n",
        "5%3"
      ]
    },
    {
      "cell_type": "code",
      "execution_count": 22,
      "metadata": {
        "colab": {
          "base_uri": "https://localhost:8080/"
        },
        "id": "CjnuAcfMxwwP",
        "outputId": "3e21c5cf-237e-4cf7-a7b3-aeddddcfd0bf"
      },
      "outputs": [
        {
          "data": {
            "text/plain": [
              "(45, 0.0)"
            ]
          },
          "execution_count": 22,
          "metadata": {},
          "output_type": "execute_result"
        }
      ],
      "source": [
        "# Unexpected output due to ,\n",
        "# in python a comma is used to separate arguments\n",
        "45,000/5"
      ]
    },
    {
      "cell_type": "code",
      "execution_count": 23,
      "metadata": {
        "colab": {
          "base_uri": "https://localhost:8080/"
        },
        "id": "yMHTX8uvx0Vf",
        "outputId": "50ec9081-ca02-412b-b79f-5031befcc057"
      },
      "outputs": [
        {
          "data": {
            "text/plain": [
              "9000.0"
            ]
          },
          "execution_count": 23,
          "metadata": {},
          "output_type": "execute_result"
        }
      ],
      "source": [
        "# division - with comma removed \n",
        "45000/5"
      ]
    },
    {
      "cell_type": "code",
      "execution_count": 24,
      "metadata": {
        "colab": {
          "base_uri": "https://localhost:8080/"
        },
        "id": "H_9Nu4V_ykks",
        "outputId": "c1ae7ffc-9789-4e5c-d865-a3331013bd38"
      },
      "outputs": [
        {
          "data": {
            "text/plain": [
              "0.5"
            ]
          },
          "execution_count": 24,
          "metadata": {},
          "output_type": "execute_result"
        }
      ],
      "source": [
        "# addition with decimal and leading zero\n",
        "0.2+0.3"
      ]
    },
    {
      "cell_type": "code",
      "execution_count": 25,
      "metadata": {},
      "outputs": [
        {
          "data": {
            "text/plain": [
              "0.5"
            ]
          },
          "execution_count": 25,
          "metadata": {},
          "output_type": "execute_result"
        }
      ],
      "source": [
        "# addition with decimal without leading zero\n",
        ".2+.3"
      ]
    },
    {
      "cell_type": "code",
      "execution_count": 26,
      "metadata": {
        "colab": {
          "base_uri": "https://localhost:8080/"
        },
        "id": "bCWEi4qZyodv",
        "outputId": "b9d0adf8-044a-4e7c-9063-ba3a0f76a568"
      },
      "outputs": [
        {
          "data": {
            "text/plain": [
              "0.6666666666666667"
            ]
          },
          "execution_count": 26,
          "metadata": {},
          "output_type": "execute_result"
        }
      ],
      "source": [
        "# division with decimal and leading zero\n",
        "0.2 / 0.3"
      ]
    },
    {
      "cell_type": "markdown",
      "metadata": {
        "id": "BHMWbJ8NyvaY"
      },
      "source": [
        "### Working with strings\n",
        "\n",
        "String characters can be\n",
        "- letters\n",
        "- numbers\n",
        "- symbols\n",
        "- spaces"
      ]
    },
    {
      "cell_type": "code",
      "execution_count": 24,
      "metadata": {
        "colab": {
          "base_uri": "https://localhost:8080/"
        },
        "id": "h_RZoc-7zC84",
        "outputId": "09b1c9bb-ea48-498b-aac8-ada405c3a4bb"
      },
      "outputs": [
        {
          "name": "stdout",
          "output_type": "stream",
          "text": [
            "Hi there!\n"
          ]
        }
      ],
      "source": [
        "# print a string\n",
        "print(\"Hi there!\")"
      ]
    },
    {
      "cell_type": "code",
      "execution_count": 27,
      "metadata": {
        "colab": {
          "base_uri": "https://localhost:8080/"
        },
        "id": "u0LjZdx1zKPM",
        "outputId": "1a6ce984-5428-498d-d646-55c1cea08ecb"
      },
      "outputs": [
        {
          "name": "stdout",
          "output_type": "stream",
          "text": [
            "Hi there!\n"
          ]
        }
      ],
      "source": [
        "# assign value to variable named message and print the string\n",
        "message = 'Hi there!'\n",
        "print(message)"
      ]
    },
    {
      "cell_type": "code",
      "execution_count": 28,
      "metadata": {
        "colab": {
          "base_uri": "https://localhost:8080/",
          "height": 129
        },
        "id": "n9YhSHuzzVSI",
        "outputId": "d4ecfb15-673e-4578-f135-d57b6c8ae5e1"
      },
      "outputs": [
        {
          "ename": "SyntaxError",
          "evalue": "invalid syntax. Perhaps you forgot a comma? (455240280.py, line 2)",
          "output_type": "error",
          "traceback": [
            "\u001b[1;36m  Cell \u001b[1;32mIn[28], line 2\u001b[1;36m\u001b[0m\n\u001b[1;33m    print(\"She said, \"Unbelievable!\" to him.\")\u001b[0m\n\u001b[1;37m          ^\u001b[0m\n\u001b[1;31mSyntaxError\u001b[0m\u001b[1;31m:\u001b[0m invalid syntax. Perhaps you forgot a comma?\n"
          ]
        }
      ],
      "source": [
        "# include a quotes in a string - unexpected output\n",
        "print(\"She said, \"Unbelievable!\" to him.\")"
      ]
    },
    {
      "cell_type": "code",
      "execution_count": 29,
      "metadata": {
        "colab": {
          "base_uri": "https://localhost:8080/"
        },
        "id": "BhCvewfHzZwf",
        "outputId": "30fe48fb-0316-4849-cb93-3c603e77e803"
      },
      "outputs": [
        {
          "name": "stdout",
          "output_type": "stream",
          "text": [
            "She said, \"Unbelievable!\" to him.\n"
          ]
        }
      ],
      "source": [
        "# include a quotes in a string - expected output\n",
        "# notice single quotes around string and double quotes around word\n",
        "print('She said, \"Unbelievable!\" to him.')"
      ]
    },
    {
      "cell_type": "code",
      "execution_count": 30,
      "metadata": {
        "colab": {
          "base_uri": "https://localhost:8080/",
          "height": 129
        },
        "id": "JHl30xghzg2A",
        "outputId": "78c19c8e-fcf8-4f5a-9604-3662482e3489"
      },
      "outputs": [
        {
          "ename": "SyntaxError",
          "evalue": "unterminated string literal (detected at line 4) (2609649764.py, line 4)",
          "output_type": "error",
          "traceback": [
            "\u001b[1;36m  Cell \u001b[1;32mIn[30], line 4\u001b[1;36m\u001b[0m\n\u001b[1;33m    print(\"Let's get started!')\u001b[0m\n\u001b[1;37m          ^\u001b[0m\n\u001b[1;31mSyntaxError\u001b[0m\u001b[1;31m:\u001b[0m unterminated string literal (detected at line 4)\n"
          ]
        }
      ],
      "source": [
        "# Double quotes and single quotes can be used interchangeably\n",
        "# But you must use the same type of quote at the beginning and end of the string\n",
        "# Unexpected output due to double quotes at beginning and single quote at end of string\n",
        "print(\"Let's get started!')"
      ]
    },
    {
      "cell_type": "code",
      "execution_count": 31,
      "metadata": {
        "colab": {
          "base_uri": "https://localhost:8080/"
        },
        "id": "gQ0MVEm1zlsB",
        "outputId": "1d075905-ef22-4f6e-a8b2-4965f8044373"
      },
      "outputs": [
        {
          "name": "stdout",
          "output_type": "stream",
          "text": [
            "Let's get started!\n"
          ]
        }
      ],
      "source": [
        "# Expected output with double quotes at beginning and end of string\n",
        "print(\"Let's get started!\")"
      ]
    },
    {
      "cell_type": "markdown",
      "metadata": {
        "id": "PIUABaDgzvol"
      },
      "source": [
        "### Properly using whitespace\n",
        "\n",
        "Adding empty lines, or whitespace, can make code easier to read."
      ]
    },
    {
      "cell_type": "code",
      "execution_count": 35,
      "metadata": {
        "colab": {
          "base_uri": "https://localhost:8080/"
        },
        "id": "xd3-GbuB09mn",
        "outputId": "02d160bd-262e-4d5d-8ad4-d6fff146c144"
      },
      "outputs": [
        {
          "name": "stdout",
          "output_type": "stream",
          "text": [
            "Hi!\n",
            "It's nice to meet you, Nathanael\n",
            "Oh no! That makes me sad!\n"
          ]
        }
      ],
      "source": [
        "# code from Davis (2020) 03_05_begin.py\n",
        "# Notice that this code asks for input from the user\n",
        "\n",
        "print(\"Hi!\")\n",
        "name=input(\"What's your name? \")\n",
        "print(\"It's nice to meet you,\", name)\n",
        "answer=input(\"Are you enjoying the course? \")\n",
        "if answer==\"Yes\":\n",
        "    print(\"That's good to hear!\")\n",
        "else:\n",
        "    print(\"Oh no! That makes me sad!\")"
      ]
    },
    {
      "cell_type": "code",
      "execution_count": 33,
      "metadata": {
        "colab": {
          "base_uri": "https://localhost:8080/"
        },
        "id": "Dl340bgO1V6T",
        "outputId": "0ce9829c-8268-4d6e-8b3a-4dc47d1d58ae"
      },
      "outputs": [
        {
          "name": "stdout",
          "output_type": "stream",
          "text": [
            "Hi!\n",
            "It's nice to meet you, Nathanael\n",
            "That's good to hear!\n"
          ]
        }
      ],
      "source": [
        "# edited code from # code from Davis (2020) 03_05_begin.py with whitespace\n",
        "\n",
        "print(\"Hi!\")\n",
        "name = input(\"What's your name? \")\n",
        "\n",
        "print(\"It's nice to meet you,\", name)\n",
        "answer = input(\"Are you enjoying the course? \")\n",
        "\n",
        "if answer == \"Yes\":\n",
        "    print(\"That's good to hear!\")\n",
        "else:\n",
        "    print(\"Oh no! That makes me sad!\")"
      ]
    },
    {
      "cell_type": "code",
      "execution_count": 36,
      "metadata": {
        "colab": {
          "base_uri": "https://localhost:8080/",
          "height": 129
        },
        "id": "d1J9jErY2E04",
        "outputId": "7d8039b7-fe32-42cb-c32b-18a4b9b33482"
      },
      "outputs": [
        {
          "ename": "SyntaxError",
          "evalue": "invalid syntax (820831800.py, line 10)",
          "output_type": "error",
          "traceback": [
            "\u001b[1;36m  Cell \u001b[1;32mIn[36], line 10\u001b[1;36m\u001b[0m\n\u001b[1;33m    ifanswer == \"Yes\":\u001b[0m\n\u001b[1;37m                     ^\u001b[0m\n\u001b[1;31mSyntaxError\u001b[0m\u001b[1;31m:\u001b[0m invalid syntax\n"
          ]
        }
      ],
      "source": [
        "# edited code from # code from Davis (2020) 03_05_begin.py with whitespace\n",
        "# space matters with keywords (need space between if and answer)\n",
        "\n",
        "print(\"Hi!\")\n",
        "name = input(\"What's your name? \")\n",
        "\n",
        "print(\"It's nice to meet you,\", name)\n",
        "answer = input(\"Are you enjoying the course? \")\n",
        "\n",
        "ifanswer == \"Yes\":\n",
        "    print(\"That's good to hear!\")\n",
        "else:\n",
        "    print(\"Oh no! That makes me sad!\")"
      ]
    },
    {
      "cell_type": "markdown",
      "metadata": {
        "id": "oBwZTPad2UTJ"
      },
      "source": [
        "## Working with comments\n",
        "\n",
        "Comments are notes to your future self and others to describe what your code does. "
      ]
    },
    {
      "cell_type": "code",
      "execution_count": 33,
      "metadata": {
        "colab": {
          "base_uri": "https://localhost:8080/"
        },
        "id": "Z-cxn4ro22vI",
        "outputId": "5cee54e0-5829-4472-a8ad-33551579d147"
      },
      "outputs": [
        {
          "name": "stdout",
          "output_type": "stream",
          "text": [
            "Hi!\n",
            "It's nice to meet you, hi\n",
            "Oh no! That makes me sad!\n"
          ]
        }
      ],
      "source": [
        "# code from Davis (2020) 03_06_begin.py\n",
        "\n",
        "print(\"Hi!\")\n",
        "\n",
        "name = input(\"What's your name? \")\n",
        "print(\"It's nice to meet you,\", name)\n",
        "\n",
        "answer = input(\"Are you enjoying the course? \")\n",
        "\n",
        "if answer == \"Yes\":\n",
        "     print(\"That's good to hear!\")\n",
        "else:\n",
        "    print(\"Oh no! That makes me sad!\")"
      ]
    },
    {
      "cell_type": "code",
      "execution_count": 38,
      "metadata": {
        "colab": {
          "base_uri": "https://localhost:8080/"
        },
        "id": "0P8viIFa3Dsg",
        "outputId": "98f047ec-d9f9-4ce2-c731-12df718446cb"
      },
      "outputs": [
        {
          "name": "stdout",
          "output_type": "stream",
          "text": [
            "Hi!\n",
            "It's nice to meet you, Nathanael\n",
            "That's good to hear!\n"
          ]
        }
      ],
      "source": [
        "# Adding comments to the code\n",
        "\n",
        "# Greet the user\n",
        "print(\"Hi!\")\n",
        "\n",
        "name = input(\"What's your name? \") # asks the user their name\n",
        "print(\"It's nice to meet you,\", name)\n",
        "\n",
        "answer = input(\"Are you enjoying the course? \")\n",
        "\n",
        "if answer == \"Yes\":\n",
        "     print(\"That's good to hear!\")\n",
        "else:\n",
        "    print(\"Oh no! That makes me sad!\")"
      ]
    },
    {
      "cell_type": "code",
      "execution_count": 37,
      "metadata": {
        "colab": {
          "base_uri": "https://localhost:8080/"
        },
        "id": "_qgLv0-Q3eHQ",
        "outputId": "d30109c0-b5f8-43cc-f2e6-f397f53c754d"
      },
      "outputs": [
        {
          "name": "stdout",
          "output_type": "stream",
          "text": [
            "Hi!\n",
            "It's nice to meet you, Nathanael\n"
          ]
        }
      ],
      "source": [
        "# Commenting out code\n",
        "\n",
        "print(\"Hi!\")\n",
        "\n",
        "name = input(\"What's your name? \")\n",
        "print(\"It's nice to meet you,\", name)\n",
        "\n",
        "# answer = input(\"Are you enjoying the course? \")\n",
        "\n",
        "# if answer == \"Yes\":\n",
        "     # print(\"That's good to hear!\")\n",
        "# else:\n",
        "    # print(\"Oh no! That makes me sad!\")"
      ]
    },
    {
      "cell_type": "markdown",
      "metadata": {
        "id": "Kk3EpbM53z-w"
      },
      "source": [
        "### Challenge: What's the output?\n",
        "\n",
        "What do you think the output will be?"
      ]
    },
    {
      "cell_type": "markdown",
      "metadata": {
        "id": "Dia77oBe4Zzg"
      },
      "source": [
        "#### Guess: \n",
        "\n",
        "Challenge 1:\n",
        "\n",
        "This is going to be tricky ;)\n",
        "\n",
        "2**3 = 8\n",
        "\n",
        "Challenge complete!"
      ]
    },
    {
      "cell_type": "code",
      "execution_count": 39,
      "metadata": {
        "colab": {
          "base_uri": "https://localhost:8080/"
        },
        "id": "VkglDV0y4K3B",
        "outputId": "0293024c-a556-47e4-9ca5-abfc3a83445d"
      },
      "outputs": [
        {
          "name": "stdout",
          "output_type": "stream",
          "text": [
            "Challenge 1:\n",
            "This is going to be tricky ;)\n",
            "2**3 = 8\n",
            "Challenge complete!\n"
          ]
        }
      ],
      "source": [
        "# code from Davis (2020) 03_07.py\n",
        "\n",
        "print(\"Challenge 1:\")\n",
        "\n",
        "# A message for the user\n",
        "message = \"This is going to be tricky ;)\"\n",
        "Message = \"Very tricky!\"\n",
        "print(message) # show the message on the screen\n",
        "\n",
        "# Perform mathematical operations\n",
        "result = 2**3\n",
        "print(\"2**3 =\", result)\n",
        "result = 5 - 3\n",
        "#print(\"5 - 3 =\", result)\n",
        "\n",
        "print(\"Challenge complete!\")"
      ]
    },
    {
      "cell_type": "markdown",
      "metadata": {
        "id": "rTDJQw_P46cz"
      },
      "source": [
        "#### Explanation\n",
        "\n",
        "- Line 1 is a print statement\n",
        "- Line 2 is blank and is ignored\n",
        "- Line 3 is a comment so it is ignored\n",
        "- Line 4 is a variable called message\n",
        "- Line 5 is a new variable called Message\n",
        "- Line 6 prints message variable \n",
        "- Line 7 is blank and is ignored\n",
        "- Line 8 is a comment so it is ignored\n",
        "- Line 9 is a variable called result with an exponential function\n",
        "- Line 10 prints the value of the result variable \n",
        "- Line 11 the value of the variable result is changed\n",
        "- Line 12 is a comment so it is ignored\n",
        "- Line 13 is blank so it is ignored\n",
        "- Line 14 is a print statement"
      ]
    },
    {
      "cell_type": "markdown",
      "metadata": {
        "id": "57MaaHwy-21A"
      },
      "source": [
        "## 4. Conditional Code"
      ]
    },
    {
      "cell_type": "markdown",
      "metadata": {
        "id": "6q2xzbD3-6Uo"
      },
      "source": [
        "### Making decisions in code\n",
        "\n",
        "Conditional or Boolean expression\n",
        "\n",
        "Any expression that breaks down to either true or false\n",
        "\n",
        "\n",
        "Relational operators\n",
        "\n",
        "operand1 (operator) operand2 => True/False\n",
        "\n",
        "- Equality Operator, ==\n",
        "- Not equal to, !=\n",
        "- Less than, <\n",
        "- Greater than, >\n",
        "- Greater than or equal to, >=\n",
        "- Less than or equal to <="
      ]
    },
    {
      "cell_type": "code",
      "execution_count": 40,
      "metadata": {
        "colab": {
          "base_uri": "https://localhost:8080/"
        },
        "id": "GdU-OW6E_aH5",
        "outputId": "c5a6fab7-3970-4c14-de1d-1261daa8c7f9"
      },
      "outputs": [
        {
          "data": {
            "text/plain": [
              "True"
            ]
          },
          "execution_count": 40,
          "metadata": {},
          "output_type": "execute_result"
        }
      ],
      "source": [
        "# does 4 = 2 raised to the power of 2?\n",
        "4 == 2*2"
      ]
    },
    {
      "cell_type": "code",
      "execution_count": 41,
      "metadata": {
        "colab": {
          "base_uri": "https://localhost:8080/"
        },
        "id": "eVExxqV_AXq4",
        "outputId": "7d986f4b-723c-4f4f-9651-8f7d772d679c"
      },
      "outputs": [
        {
          "data": {
            "text/plain": [
              "False"
            ]
          },
          "execution_count": 41,
          "metadata": {},
          "output_type": "execute_result"
        }
      ],
      "source": [
        "# does the variable name equal the string \"Frank\"?\n",
        "name = \"Annyce\"\n",
        "name == \"Frank\""
      ]
    },
    {
      "cell_type": "code",
      "execution_count": 42,
      "metadata": {
        "colab": {
          "base_uri": "https://localhost:8080/"
        },
        "id": "N_O0spQTAlIB",
        "outputId": "efa37383-23df-4a74-a5c5-27468b9965fc"
      },
      "outputs": [
        {
          "data": {
            "text/plain": [
              "False"
            ]
          },
          "execution_count": 42,
          "metadata": {},
          "output_type": "execute_result"
        }
      ],
      "source": [
        "# does 5 equal 4?\n",
        "5 == 4"
      ]
    },
    {
      "cell_type": "code",
      "execution_count": 43,
      "metadata": {
        "colab": {
          "base_uri": "https://localhost:8080/"
        },
        "id": "MBTp2IXYAn85",
        "outputId": "b32084c8-b1e3-4810-feed-35b4292fc4c6"
      },
      "outputs": [
        {
          "data": {
            "text/plain": [
              "True"
            ]
          },
          "execution_count": 43,
          "metadata": {},
          "output_type": "execute_result"
        }
      ],
      "source": [
        "# does 5 not equal 4?\n",
        "5 != 4"
      ]
    },
    {
      "cell_type": "code",
      "execution_count": 44,
      "metadata": {
        "colab": {
          "base_uri": "https://localhost:8080/"
        },
        "id": "WCuIfMqI_vXh",
        "outputId": "67c0c97f-6290-4fdb-de45-85af796c5c76"
      },
      "outputs": [
        {
          "data": {
            "text/plain": [
              "True"
            ]
          },
          "execution_count": 44,
          "metadata": {},
          "output_type": "execute_result"
        }
      ],
      "source": [
        "# is 5 greater than 4?\n",
        "5 > 4"
      ]
    },
    {
      "cell_type": "code",
      "execution_count": 45,
      "metadata": {
        "colab": {
          "base_uri": "https://localhost:8080/"
        },
        "id": "76ELEvajA0Cx",
        "outputId": "a7163ba3-18a2-484f-95af-3714cb8dfa35"
      },
      "outputs": [
        {
          "data": {
            "text/plain": [
              "False"
            ]
          },
          "execution_count": 45,
          "metadata": {},
          "output_type": "execute_result"
        }
      ],
      "source": [
        "# is 5 less than 4?\n",
        "5 < 4"
      ]
    },
    {
      "cell_type": "code",
      "execution_count": 46,
      "metadata": {
        "colab": {
          "base_uri": "https://localhost:8080/"
        },
        "id": "ToQXg2HWA7IZ",
        "outputId": "806fd6d9-324e-4488-bff5-cd4306d7dac2"
      },
      "outputs": [
        {
          "data": {
            "text/plain": [
              "True"
            ]
          },
          "execution_count": 46,
          "metadata": {},
          "output_type": "execute_result"
        }
      ],
      "source": [
        "# do the variables age and age_to_drive have the same value?\n",
        "age = 15\n",
        "age_to_drive = 15\n",
        "\n",
        "age == age_to_drive"
      ]
    },
    {
      "cell_type": "markdown",
      "metadata": {
        "id": "Yn0mP9lMBasQ"
      },
      "source": [
        "#### For more practice, see Boolean Expressions and Relational Operators"
      ]
    },
    {
      "cell_type": "markdown",
      "metadata": {
        "id": "NJs_eVHqBq_J"
      },
      "source": [
        "### Exploring conditional code\n",
        "\n",
        "if Statement structure:\n",
        "\n",
        "if condition\n",
        "\n",
        "> do work\n",
        "\n",
        "end if"
      ]
    },
    {
      "cell_type": "code",
      "execution_count": 47,
      "metadata": {
        "colab": {
          "base_uri": "https://localhost:8080/"
        },
        "id": "OjclOa4KBDBp",
        "outputId": "20aef1b6-5d8c-47e2-d546-5222aeadd297"
      },
      "outputs": [
        {
          "name": "stdout",
          "output_type": "stream",
          "text": [
            "Yes, 5 is less than 6.\n",
            "Everyone knows that!\n",
            "I'm not in the block.\n"
          ]
        }
      ],
      "source": [
        "if 5 < 6:\n",
        "\n",
        "  print (\"Yes, 5 is less than 6.\")\n",
        "  print (\"Everyone knows that!\")\n",
        "\n",
        "print (\"I'm not in the block.\")"
      ]
    },
    {
      "cell_type": "code",
      "execution_count": 49,
      "metadata": {
        "colab": {
          "base_uri": "https://localhost:8080/"
        },
        "id": "UXvGdLHaCjqJ",
        "outputId": "61561221-5978-41de-d44c-c848e1042f76"
      },
      "outputs": [
        {
          "name": "stdout",
          "output_type": "stream",
          "text": [
            "Hi!\n",
            "It's nice to meet you, Nathanael \n",
            "Final statement\n"
          ]
        }
      ],
      "source": [
        "# code from Davis (2020) 04_02.py\n",
        "# answer with yes (all lowercase) to see the unexpected output\n",
        "\n",
        "print(\"Hi!\")\n",
        "\n",
        "name = input(\"What's your name? \")\n",
        "print(\"It's nice to meet you,\", name)\n",
        "\n",
        "answer = input(\"Are you enjoying the course? \")\n",
        "\n",
        "if answer == \"Yes\":\n",
        "    print(\"That's good to hear!\")\n",
        "\n",
        "print(\"Final statement\")\n"
      ]
    },
    {
      "cell_type": "code",
      "execution_count": 50,
      "metadata": {
        "colab": {
          "base_uri": "https://localhost:8080/"
        },
        "id": "JNVgSmNnDOPB",
        "outputId": "6406cd16-575c-4847-a74c-affaad291e6a"
      },
      "outputs": [
        {
          "name": "stdout",
          "output_type": "stream",
          "text": [
            "Hi!\n",
            "It's nice to meet you, Nathanael\n",
            "Final statement\n"
          ]
        }
      ],
      "source": [
        "# code  Davis (2020) from 04_02.py\n",
        "# answer with no\n",
        "\n",
        "print(\"Hi!\")\n",
        "\n",
        "name = input(\"What's your name? \")\n",
        "print(\"It's nice to meet you,\", name)\n",
        "\n",
        "answer = input(\"Are you enjoying the course? \")\n",
        "\n",
        "if answer == \"Yes\":\n",
        "    print(\"That's good to hear!\")\n",
        "\n",
        "print(\"Final statement\")\n"
      ]
    },
    {
      "cell_type": "code",
      "execution_count": 51,
      "metadata": {
        "colab": {
          "base_uri": "https://localhost:8080/",
          "height": 129
        },
        "id": "E1f9mxyKDWpp",
        "outputId": "96d0d8f2-250e-4a83-d15f-b8dc26866b7f"
      },
      "outputs": [
        {
          "ename": "IndentationError",
          "evalue": "expected an indented block after 'if' statement on line 11 (1458832378.py, line 12)",
          "output_type": "error",
          "traceback": [
            "\u001b[1;36m  Cell \u001b[1;32mIn[51], line 12\u001b[1;36m\u001b[0m\n\u001b[1;33m    print(\"That's good to hear!\")\u001b[0m\n\u001b[1;37m    ^\u001b[0m\n\u001b[1;31mIndentationError\u001b[0m\u001b[1;31m:\u001b[0m expected an indented block after 'if' statement on line 11\n"
          ]
        }
      ],
      "source": [
        "# code Davis (2020) from 04_02.py\n",
        "# changed indentation after if statement (4 spaces or tab)\n",
        "\n",
        "print(\"Hi!\")\n",
        "\n",
        "name = input(\"What's your name? \")\n",
        "print(\"It's nice to meet you,\", name)\n",
        "\n",
        "answer = input(\"Are you enjoying the course? \")\n",
        "\n",
        "if answer == \"Yes\":\n",
        "print(\"That's good to hear!\")\n",
        "\n",
        "print(\"Final statement\")\n"
      ]
    },
    {
      "cell_type": "markdown",
      "metadata": {
        "id": "c6Eei3hwDt5k"
      },
      "source": [
        "### Working with simple conditions\n",
        "\n",
        "if-else Statement\n",
        "\n",
        "if condition:\n",
        "\n",
        "> do work\n",
        "\n",
        "else:\n",
        "\n",
        "> do something else"
      ]
    },
    {
      "cell_type": "code",
      "execution_count": 52,
      "metadata": {
        "colab": {
          "base_uri": "https://localhost:8080/"
        },
        "id": "86xGXBH_Dx8p",
        "outputId": "ea11d1fb-4744-402f-d2ad-35cca23db52a"
      },
      "outputs": [
        {
          "name": "stdout",
          "output_type": "stream",
          "text": [
            "5 is not greater than 6.\n"
          ]
        }
      ],
      "source": [
        "if 5 > 6:\n",
        "  print(\"5 is greater than 6. Weird!\")\n",
        "else: \n",
        "  print(\"5 is not greater than 6.\")"
      ]
    },
    {
      "cell_type": "code",
      "execution_count": 54,
      "metadata": {
        "colab": {
          "base_uri": "https://localhost:8080/"
        },
        "id": "N5Xfn2xHErnB",
        "outputId": "8e0412d1-2042-452b-9722-699de8dab90e"
      },
      "outputs": [
        {
          "name": "stdout",
          "output_type": "stream",
          "text": [
            "Cacti don't need a lot of water\n",
            "Thanks!\n"
          ]
        }
      ],
      "source": [
        "# code from Davis (2020) 04_03_begin.py\n",
        "\n",
        "plant = \"Cacti\"\n",
        "\n",
        "if plant == \"Cacti\":\n",
        "    print(plant, \"don't need a lot of water\")\n",
        "else:\n",
        "    print(plant, \"love water\")\n",
        "\n",
        "print(\"Thanks!\")"
      ]
    },
    {
      "cell_type": "code",
      "execution_count": 55,
      "metadata": {
        "colab": {
          "base_uri": "https://localhost:8080/"
        },
        "id": "PU2eyDcDFKnh",
        "outputId": "8867e9e2-cbf0-41e2-a4e8-2dacbb63f044"
      },
      "outputs": [
        {
          "name": "stdout",
          "output_type": "stream",
          "text": [
            "Irises love water\n",
            "Thanks!\n"
          ]
        }
      ],
      "source": [
        "# changed plant variable to Irises\n",
        "\n",
        "plant = \"Irises\"\n",
        "\n",
        "if plant == \"Cacti\":\n",
        "    print(plant, \"don't need a lot of water\")\n",
        "else:\n",
        "    print(plant, \"love water\")\n",
        "\n",
        "print(\"Thanks!\")"
      ]
    },
    {
      "cell_type": "markdown",
      "metadata": {
        "id": "Xr05d0sYF3ZR"
      },
      "source": [
        "### Challenge: Guessing game\n",
        "\n",
        "Create a program with the following requirements:\n",
        "- ask the user: \"What's my favorite food?\"\n",
        "- if the user enters the name of your favorite food, output: \"Yep! So amazing!\"\n",
        "- If the user does not enter the name of your favorite food, output \"Yuck! That's not it!\"\n",
        "- Regardless of what the user enters, output: \"Thanks for playing!\""
      ]
    },
    {
      "cell_type": "code",
      "execution_count": 56,
      "metadata": {
        "colab": {
          "base_uri": "https://localhost:8080/"
        },
        "id": "wtK8haazGSs4",
        "outputId": "9301acd2-ef46-481f-a8ce-bff06f21bfab"
      },
      "outputs": [
        {
          "name": "stdout",
          "output_type": "stream",
          "text": [
            "Yuck! That's not it!\n",
            "Thanks for playing!\n"
          ]
        }
      ],
      "source": [
        "#Challenge response\n",
        "\n",
        "food = \"PB&J\"\n",
        "\n",
        "guess = input(\"What's my favorite food? \")\n",
        "\n",
        "if guess == food:\n",
        "  print(\"Yep! So amazing!\")\n",
        "else:\n",
        "  print(\"Yuck! That's not it!\")\n",
        "\n",
        "print(\"Thanks for playing!\")"
      ]
    },
    {
      "cell_type": "markdown",
      "metadata": {
        "id": "G86sg_vmHUZo"
      },
      "source": [
        "### Solution: Guessing game\n",
        "\n"
      ]
    },
    {
      "cell_type": "code",
      "execution_count": 57,
      "metadata": {
        "colab": {
          "base_uri": "https://localhost:8080/"
        },
        "id": "oAMsRXfpHcBL",
        "outputId": "e7ad0549-93fc-43b3-f4e9-c7c53b9b93ca"
      },
      "outputs": [
        {
          "name": "stdout",
          "output_type": "stream",
          "text": [
            "Yep! So amazing!\n",
            "Thanks for playing!\n"
          ]
        }
      ],
      "source": [
        "# code from Davis (2020) 04_06.py\n",
        "\n",
        "guess = input(\"What's my favorite food? \")\n",
        "\n",
        "if guess == \"cookies\":\n",
        "    print(\"Yep! So amazing!\")\n",
        "else:\n",
        "    print(\"Yuck! That’s not it!\")\n",
        "\n",
        "print(\"Thanks for playing!\")\n"
      ]
    },
    {
      "cell_type": "markdown",
      "metadata": {
        "id": "eLzpUK7cIBcZ"
      },
      "source": [
        "## 5. Modular Code"
      ]
    },
    {
      "cell_type": "markdown",
      "metadata": {
        "id": "FDOunrYJIEFR"
      },
      "source": [
        "### Introduction to functions\n",
        "\n",
        "A function is a block of code packaged together with a name."
      ]
    },
    {
      "cell_type": "code",
      "execution_count": 58,
      "metadata": {
        "colab": {
          "base_uri": "https://localhost:8080/"
        },
        "id": "OwtEMmBiIHF5",
        "outputId": "ebce00b1-5a93-4a2e-b8fb-a6e551f3864d"
      },
      "outputs": [
        {
          "name": "stdout",
          "output_type": "stream",
          "text": [
            "~~~ The Shimmy ~~~\n",
            "Take one step to the right and stamp.\n",
            "Take one step to the left and stomp.\n",
            "Shake those hips!\n"
          ]
        }
      ],
      "source": [
        "# code from Davis (2020) 05_01_begin.py\n",
        "\n",
        "print(\"~~~ The Shimmy ~~~\")\n",
        "\n",
        "print(\"Take one step to the right and stamp.\")\n",
        "print(\"Take one step to the left and stomp.\")\n",
        "print(\"Shake those hips!\") "
      ]
    },
    {
      "cell_type": "code",
      "execution_count": 59,
      "metadata": {
        "colab": {
          "base_uri": "https://localhost:8080/"
        },
        "id": "giZ1l_ewJKEy",
        "outputId": "4d4da06e-e6ec-4f3f-c611-39f2925679a9"
      },
      "outputs": [
        {
          "name": "stdout",
          "output_type": "stream",
          "text": [
            "~~~ The Shimmy ~~~\n",
            "Take one step to the right and stamp.\n",
            "Take one step to the left and stomp.\n",
            "Shake those hips!\n",
            "Take one step to the right and stamp.\n",
            "Take one step to the left and stomp.\n",
            "Shake those hips!\n",
            "Take one step to the right and stomp.\n",
            "Take one step to the left and stamp.\n",
            "Shake those hips!\n"
          ]
        }
      ],
      "source": [
        "#copy and paste to repeat\n",
        "#note it says stamp not stomp!\n",
        "\n",
        "print(\"~~~ The Shimmy ~~~\")\n",
        "\n",
        "print(\"Take one step to the right and stamp.\")\n",
        "print(\"Take one step to the left and stomp.\")\n",
        "print(\"Shake those hips!\") \n",
        "\n",
        "print(\"Take one step to the right and stamp.\")\n",
        "print(\"Take one step to the left and stomp.\")\n",
        "print(\"Shake those hips!\") \n",
        "\n",
        "print(\"Take one step to the right and stomp.\")\n",
        "print(\"Take one step to the left and stamp.\")\n",
        "print(\"Shake those hips!\") "
      ]
    },
    {
      "cell_type": "code",
      "execution_count": 60,
      "metadata": {
        "colab": {
          "base_uri": "https://localhost:8080/"
        },
        "id": "Nyy2XXHtJipm",
        "outputId": "bcaee919-763e-45db-855c-bdc6f008f7a6"
      },
      "outputs": [
        {
          "name": "stdout",
          "output_type": "stream",
          "text": [
            "~~~ The Shimmy ~~~\n",
            "Take one step to the right and stomp.\n",
            "Take one step to the left and stomp.\n",
            "Shake those hips!\n",
            "Take one step to the right and stomp.\n",
            "Take one step to the left and stomp.\n",
            "Shake those hips!\n",
            "Take one step to the right and stomp.\n",
            "Take one step to the left and stomp.\n",
            "Shake those hips!\n"
          ]
        }
      ],
      "source": [
        "#defining a function (and fix typo)\n",
        "\n",
        "print(\"~~~ The Shimmy ~~~\")\n",
        "\n",
        "def shimmy():\n",
        "  print(\"Take one step to the right and stomp.\")\n",
        "  print(\"Take one step to the left and stomp.\")\n",
        "  print(\"Shake those hips!\") \n",
        "\n",
        "shimmy()\n",
        "shimmy()\n",
        "shimmy()"
      ]
    },
    {
      "cell_type": "markdown",
      "metadata": {
        "id": "tdZnmCl4J0r9"
      },
      "source": [
        "### Creating and calling functions"
      ]
    },
    {
      "cell_type": "code",
      "execution_count": 62,
      "metadata": {
        "colab": {
          "base_uri": "https://localhost:8080/"
        },
        "id": "6TFZ3BTsJ2-h",
        "outputId": "e17ee2b1-f317-4979-f28e-c0fa95034bf7"
      },
      "outputs": [
        {
          "name": "stdout",
          "output_type": "stream",
          "text": [
            "Hello, friends!\n",
            "Hello, friends!\n",
            "Hello, friends!\n"
          ]
        }
      ],
      "source": [
        "#code from Davis (2020) 05_02_begin.py\n",
        "\n",
        "def say_hello():\n",
        "    print(\"Hello, friends!\")\n",
        "\n",
        "say_hello()\n",
        "say_hello()\n",
        "say_hello()"
      ]
    },
    {
      "cell_type": "markdown",
      "metadata": {
        "id": "DG2qnuFlbKBr"
      },
      "source": [
        "### Setting parameters and arguments\n",
        "\n",
        "Parameters allow functions to change their behavior based on some input. Amount_paid is the parameter in this example."
      ]
    },
    {
      "cell_type": "code",
      "execution_count": 63,
      "metadata": {
        "id": "3X7AfoTzbN46"
      },
      "outputs": [],
      "source": [
        "#code from Davis (2020) 05_03_begin.py\n",
        "\n",
        "def wash_car():\n",
        "    print(\"Wash with tri-color foam\")\n",
        "    print(\"Rinse twice\")\n",
        "    print(\"Dry with large blow dryer\")\n",
        "\n",
        "    print(\"Wash with white foam\")\n",
        "    print(\"Rinse once\")\n",
        "    print(\"Air dry\") \n"
      ]
    },
    {
      "cell_type": "code",
      "execution_count": 64,
      "metadata": {
        "colab": {
          "base_uri": "https://localhost:8080/"
        },
        "id": "G1OO5rP0bl4r",
        "outputId": "9d799ade-6894-4801-e644-83cdf8f8b980"
      },
      "outputs": [
        {
          "name": "stdout",
          "output_type": "stream",
          "text": [
            "Wash with tri-color foam\n",
            "Rinse twice\n",
            "Dry with large blow dryer\n",
            "Wash with white foam\n",
            "Rinse once\n",
            "Air dry\n"
          ]
        }
      ],
      "source": [
        "#call the function\n",
        "\n",
        "wash_car()"
      ]
    },
    {
      "cell_type": "code",
      "execution_count": 65,
      "metadata": {
        "colab": {
          "base_uri": "https://localhost:8080/"
        },
        "id": "sthDekY0bvRC",
        "outputId": "f69f5fff-3f6a-488a-c149-dacbf4d7f287"
      },
      "outputs": [
        {
          "name": "stdout",
          "output_type": "stream",
          "text": [
            "Wash with tri-color foam\n",
            "Rinse twice\n",
            "Dry with large blow dryer\n"
          ]
        }
      ],
      "source": [
        "#defining the two different car wash options\n",
        "\n",
        "def wash_car(amount_paid):\n",
        "    if (amount_paid == 12):\n",
        "      print(\"Wash with tri-color foam\")\n",
        "      print(\"Rinse twice\")\n",
        "      print(\"Dry with large blow dryer\")\n",
        "    if (amount_paid ==6):\n",
        "      print(\"Wash with white foam\")\n",
        "      print(\"Rinse once\")\n",
        "      print(\"Air dry\") \n",
        "\n",
        "wash_car(12)\n"
      ]
    },
    {
      "cell_type": "markdown",
      "metadata": {
        "id": "tWw97ifKcsto"
      },
      "source": [
        "### Returning values from functions"
      ]
    },
    {
      "cell_type": "code",
      "execution_count": 66,
      "metadata": {
        "colab": {
          "base_uri": "https://localhost:8080/"
        },
        "id": "k-n3luPqcvEy",
        "outputId": "2ae1b81b-b26d-47a7-f7f5-d1338adae53a"
      },
      "outputs": [
        {
          "name": "stdout",
          "output_type": "stream",
          "text": [
            "The balance is 20\n"
          ]
        }
      ],
      "source": [
        "#code from Davis (2020) 05_04_begin.py\n",
        "\n",
        "# define function with two arguments\n",
        "def withdraw_money(current_balance, amount):\n",
        "    if (current_balance >= amount):\n",
        "        current_balance = current_balance - amount\n",
        "        print(\"The balance is\", current_balance)\n",
        "\n",
        "withdraw_money(100, 80)\n"
      ]
    },
    {
      "cell_type": "code",
      "execution_count": 67,
      "metadata": {
        "colab": {
          "base_uri": "https://localhost:8080/"
        },
        "id": "9CTDrO19dZG7",
        "outputId": "b9222642-20ad-473f-be3a-d8b5d8f32b0d"
      },
      "outputs": [
        {
          "name": "stdout",
          "output_type": "stream",
          "text": [
            "We need to make a deposit\n"
          ]
        }
      ],
      "source": [
        "#using the return keyword\n",
        "\n",
        "# define function with two arguments\n",
        "def withdraw_money(current_balance, amount):\n",
        "    if (current_balance >= amount):\n",
        "        current_balance = current_balance - amount\n",
        "        return current_balance\n",
        "\n",
        "balance = withdraw_money(100, 80)\n",
        "\n",
        "if(balance <= 50):\n",
        "  print(\"We need to make a deposit\")\n",
        "else:\n",
        "  print(\"Nothing to see here!\")\n"
      ]
    },
    {
      "cell_type": "markdown",
      "metadata": {
        "id": "tWe9OZd2e8zw"
      },
      "source": [
        "### Challenge: Favorite cities\n",
        "\n",
        "- Has a function named favorite_city\n",
        "- favorite_city should have one parameter: name\n",
        "- You should call favorite_city at least three times\n",
        "- The output should include: \"One of my favorite cities is\""
      ]
    },
    {
      "cell_type": "code",
      "execution_count": 69,
      "metadata": {
        "colab": {
          "base_uri": "https://localhost:8080/"
        },
        "id": "7r7R1L-xfVQ3",
        "outputId": "34806ca7-8742-49a9-bbd7-310bd4eb74f0"
      },
      "outputs": [
        {
          "name": "stdout",
          "output_type": "stream",
          "text": [
            "One of my favorite cities is  Miami, FL\n",
            "One of my favorite cities is  Los Angeles, CA\n",
            "One of my favorite cities is  Richmond, VA\n"
          ]
        }
      ],
      "source": [
        "#proposed solution\n",
        "\n",
        "def favorite_city(name):\n",
        "  print(\"One of my favorite cities is \", name)\n",
        "\n",
        "#Remember that the name string needs quotations!\n",
        "favorite_city(\"Miami, FL\")\n",
        "favorite_city(\"Los Angeles, CA\")\n",
        "favorite_city(\"Richmond, VA\")\n",
        "# notice the extra space after is and the name of the city"
      ]
    },
    {
      "cell_type": "markdown",
      "metadata": {
        "id": "oxHsscvngN3z"
      },
      "source": [
        "### Solution: Favorite cities"
      ]
    },
    {
      "cell_type": "code",
      "execution_count": 70,
      "metadata": {
        "colab": {
          "base_uri": "https://localhost:8080/"
        },
        "id": "faIsim53gR07",
        "outputId": "99b6df09-0d8e-479c-b1c0-d25975c598a3"
      },
      "outputs": [
        {
          "name": "stdout",
          "output_type": "stream",
          "text": [
            "One of my favorite cities is Santa Barbara, California\n",
            "One of my favorite cities is Asheville, North Carolina\n",
            "One of my favorite cities is Amsterdam, The Netherlands\n"
          ]
        }
      ],
      "source": [
        "#Code from Davis (2020) 05_07.py\n",
        "\n",
        "# Prints out the name of a favorite city\n",
        "def favorite_city(name):\n",
        "    print(\"One of my favorite cities is\", name)\n",
        "\n",
        "favorite_city(\"Santa Barbara, California\")\n",
        "favorite_city(\"Asheville, North Carolina\")\n",
        "favorite_city(\"Amsterdam, The Netherlands\")\n",
        "# can you spot the fix above?\n",
        "# the extra space in the print command was removed"
      ]
    },
    {
      "cell_type": "markdown",
      "metadata": {
        "id": "x40GD3S8hN8D"
      },
      "source": [
        "## Next steps\n",
        "\n",
        "Practice!"
      ]
    },
    {
      "cell_type": "markdown",
      "metadata": {},
      "source": [
        "## Additional Tips for Google Colab"
      ]
    },
    {
      "cell_type": "markdown",
      "metadata": {},
      "source": [
        "### How to run a .py file in Google Colab (OPTIONAL)\n",
        "Google Colab is a cloud based system and when it is initially opened all files are stored and saved in a temporary `content` folder.\n",
        "\n",
        "In Jupyter Notebook you can execute Terminal commands in the notebook cells by prepending an exclamation point/bang(!) [also called bash] to the beginning of the command. This can be useful for many things such as getting information without having to open a Terminal/Command Prompt, or installing a conda package you are trying to use. ([Anaconda Knowledge Base](https://anaconda.zendesk.com/hc/en-us/articles/360023858254-Executing-Terminal-Commands-in-Jupyter-Notebooks#:~:text=In%20Jupyter%20Notebook%20you%20can,you%20are%20trying%20to%20use.))"
      ]
    },
    {
      "cell_type": "markdown",
      "metadata": {},
      "source": [
        "### How to add a file to Google Colab (OPTIONAL)\n",
        "A Google Search for provided a link to this article: [Sandangi 2020 How to Deal with Files in Google Colab_ Everything You Need to Know - neptune.pdf](https://neptune.ai/blog/google-colab-dealing-with-files)\n",
        "\n",
        "There are many ways to add files to Google Colab. The fastest is the click on the file-explorer icon (left side folder icon). Then click on the upload icon (upload to session storage). You can add any files to the temporary content folder."
      ]
    }
  ],
  "metadata": {
    "colab": {
      "collapsed_sections": [],
      "include_colab_link": true,
      "name": "URSC645_ReplicateDavis2020_ProgrammingFoundations.ipynb",
      "provenance": [],
      "toc_visible": true
    },
    "kernelspec": {
      "display_name": "Python 3",
      "name": "python3"
    },
    "language_info": {
      "codemirror_mode": {
        "name": "ipython",
        "version": 3
      },
      "file_extension": ".py",
      "mimetype": "text/x-python",
      "name": "python",
      "nbconvert_exporter": "python",
      "pygments_lexer": "ipython3",
      "version": "3.10.9"
    }
  },
  "nbformat": 4,
  "nbformat_minor": 0
}
