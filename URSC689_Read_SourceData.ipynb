{
  "nbformat": 4,
  "nbformat_minor": 0,
  "metadata": {
    "colab": {
      "name": "TOM_Read_SourceData_2021-03-08.ipynb",
      "provenance": [],
      "collapsed_sections": [],
      "authorship_tag": "ABX9TyPZh4mJ2jlJGRtwWwOu4AD7",
      "include_colab_link": true
    },
    "kernelspec": {
      "name": "python3",
      "display_name": "Python 3"
    }
  },
  "cells": [
    {
      "cell_type": "markdown",
      "metadata": {
        "id": "view-in-github",
        "colab_type": "text"
      },
      "source": [
        "<a href=\"https://colab.research.google.com/github/npr99/URSC689/blob/main/URSC689_Read_SourceData.ipynb\" target=\"_parent\"><img src=\"https://colab.research.google.com/assets/colab-badge.svg\" alt=\"Open In Colab\"/></a>"
      ]
    },
    {
      "cell_type": "markdown",
      "metadata": {
        "id": "DQbtd4c13tLz"
      },
      "source": [
        "# Read in Source Data\r\n",
        "Notebook provides an example of how to read in data from SourceData Folder.\r\n",
        "\r\n",
        "This example uses relative paths to locate the data in Google Colab.\r\n",
        "This requires that the Google Drive is mounted in the Google Colab notebook and that the directory is changed to the indiviudal work folder.\r\n"
      ]
    },
    {
      "cell_type": "code",
      "metadata": {
        "colab": {
          "base_uri": "https://localhost:8080/"
        },
        "id": "RbpJ9C486G9X",
        "outputId": "2d22e77c-77ce-4f60-8498-540830a8fda4"
      },
      "source": [
        "from google.colab import drive\r\n",
        "drive.mount('/content/drive')"
      ],
      "execution_count": null,
      "outputs": [
        {
          "output_type": "stream",
          "text": [
            "Mounted at /content/drive\n"
          ],
          "name": "stdout"
        }
      ]
    },
    {
      "cell_type": "code",
      "metadata": {
        "id": "NU3KbUlc6hcQ"
      },
      "source": [
        "import os # package needed to change and check directories"
      ],
      "execution_count": null,
      "outputs": []
    },
    {
      "cell_type": "code",
      "metadata": {
        "colab": {
          "base_uri": "https://localhost:8080/",
          "height": 35
        },
        "id": "SQHT7A1W6lFA",
        "outputId": "3f8ff05d-6b3a-4611-b89f-d2ce348abaa6"
      },
      "source": [
        "os.getcwd()"
      ],
      "execution_count": null,
      "outputs": [
        {
          "output_type": "execute_result",
          "data": {
            "application/vnd.google.colaboratory.intrinsic+json": {
              "type": "string"
            },
            "text/plain": [
              "'/content/gdrive/Shareddrives/URSC689_S2021/Projects/Transit on Mobile/WorkNPR'"
            ]
          },
          "metadata": {
            "tags": []
          },
          "execution_count": 18
        }
      ]
    },
    {
      "cell_type": "code",
      "metadata": {
        "id": "h-H_bFHD6yFl"
      },
      "source": [
        "os.chdir('/content/drive/Shareddrives/URSC689_S2021/Projects/Transit on Mobile/WorkNPR/')"
      ],
      "execution_count": null,
      "outputs": []
    },
    {
      "cell_type": "code",
      "metadata": {
        "colab": {
          "base_uri": "https://localhost:8080/",
          "height": 35
        },
        "id": "H4lN1xdv7cKE",
        "outputId": "388c33f7-300a-4b90-a64e-a12aa6b5dd38"
      },
      "source": [
        "os.getcwd()"
      ],
      "execution_count": null,
      "outputs": [
        {
          "output_type": "execute_result",
          "data": {
            "application/vnd.google.colaboratory.intrinsic+json": {
              "type": "string"
            },
            "text/plain": [
              "'/content/gdrive/Shareddrives/URSC689_S2021/Projects/Transit on Mobile/WorkNPR'"
            ]
          },
          "metadata": {
            "tags": []
          },
          "execution_count": 13
        }
      ]
    },
    {
      "cell_type": "code",
      "metadata": {
        "id": "wRzboMHM5Ebn"
      },
      "source": [
        "import pandas as pd"
      ],
      "execution_count": null,
      "outputs": []
    },
    {
      "cell_type": "code",
      "metadata": {
        "colab": {
          "base_uri": "https://localhost:8080/",
          "height": 419
        },
        "id": "y7ufTgR05j6e",
        "outputId": "0258ed6e-bcff-4246-d859-ff82b448cef7"
      },
      "source": [
        "pd.read_csv('../SourceData/www.ncdc.noaa.gov/RAINDAYS_SanAntonio_201501-201706.csv')"
      ],
      "execution_count": null,
      "outputs": [
        {
          "output_type": "execute_result",
          "data": {
            "text/html": [
              "<div>\n",
              "<style scoped>\n",
              "    .dataframe tbody tr th:only-of-type {\n",
              "        vertical-align: middle;\n",
              "    }\n",
              "\n",
              "    .dataframe tbody tr th {\n",
              "        vertical-align: top;\n",
              "    }\n",
              "\n",
              "    .dataframe thead th {\n",
              "        text-align: right;\n",
              "    }\n",
              "</style>\n",
              "<table border=\"1\" class=\"dataframe\">\n",
              "  <thead>\n",
              "    <tr style=\"text-align: right;\">\n",
              "      <th></th>\n",
              "      <th>STATION</th>\n",
              "      <th>NAME</th>\n",
              "      <th>DATE</th>\n",
              "      <th>DP01</th>\n",
              "      <th>DP10</th>\n",
              "    </tr>\n",
              "  </thead>\n",
              "  <tbody>\n",
              "    <tr>\n",
              "      <th>0</th>\n",
              "      <td>US1TXBXR213</td>\n",
              "      <td>HELOTES 7.7 SW, TX US</td>\n",
              "      <td>2015-01</td>\n",
              "      <td>9.0</td>\n",
              "      <td>4.0</td>\n",
              "    </tr>\n",
              "    <tr>\n",
              "      <th>1</th>\n",
              "      <td>US1TXBXR213</td>\n",
              "      <td>HELOTES 7.7 SW, TX US</td>\n",
              "      <td>2015-02</td>\n",
              "      <td>7.0</td>\n",
              "      <td>2.0</td>\n",
              "    </tr>\n",
              "    <tr>\n",
              "      <th>2</th>\n",
              "      <td>US1TXBXR213</td>\n",
              "      <td>HELOTES 7.7 SW, TX US</td>\n",
              "      <td>2015-03</td>\n",
              "      <td>12.0</td>\n",
              "      <td>8.0</td>\n",
              "    </tr>\n",
              "    <tr>\n",
              "      <th>3</th>\n",
              "      <td>US1TXBXR213</td>\n",
              "      <td>HELOTES 7.7 SW, TX US</td>\n",
              "      <td>2015-04</td>\n",
              "      <td>10.0</td>\n",
              "      <td>7.0</td>\n",
              "    </tr>\n",
              "    <tr>\n",
              "      <th>4</th>\n",
              "      <td>US1TXBXR213</td>\n",
              "      <td>HELOTES 7.7 SW, TX US</td>\n",
              "      <td>2015-05</td>\n",
              "      <td>13.0</td>\n",
              "      <td>6.0</td>\n",
              "    </tr>\n",
              "    <tr>\n",
              "      <th>...</th>\n",
              "      <td>...</td>\n",
              "      <td>...</td>\n",
              "      <td>...</td>\n",
              "      <td>...</td>\n",
              "      <td>...</td>\n",
              "    </tr>\n",
              "    <tr>\n",
              "      <th>3233</th>\n",
              "      <td>US1TXBXR304</td>\n",
              "      <td>CROSS MOUNTAIN 2.1 N, TX US</td>\n",
              "      <td>2017-02</td>\n",
              "      <td>3.0</td>\n",
              "      <td>2.0</td>\n",
              "    </tr>\n",
              "    <tr>\n",
              "      <th>3234</th>\n",
              "      <td>US1TXBXR304</td>\n",
              "      <td>CROSS MOUNTAIN 2.1 N, TX US</td>\n",
              "      <td>2017-03</td>\n",
              "      <td>8.0</td>\n",
              "      <td>2.0</td>\n",
              "    </tr>\n",
              "    <tr>\n",
              "      <th>3235</th>\n",
              "      <td>US1TXBXR304</td>\n",
              "      <td>CROSS MOUNTAIN 2.1 N, TX US</td>\n",
              "      <td>2017-04</td>\n",
              "      <td>9.0</td>\n",
              "      <td>6.0</td>\n",
              "    </tr>\n",
              "    <tr>\n",
              "      <th>3236</th>\n",
              "      <td>US1TXBXR304</td>\n",
              "      <td>CROSS MOUNTAIN 2.1 N, TX US</td>\n",
              "      <td>2017-05</td>\n",
              "      <td>8.0</td>\n",
              "      <td>2.0</td>\n",
              "    </tr>\n",
              "    <tr>\n",
              "      <th>3237</th>\n",
              "      <td>US1TXBXR304</td>\n",
              "      <td>CROSS MOUNTAIN 2.1 N, TX US</td>\n",
              "      <td>2017-06</td>\n",
              "      <td>6.0</td>\n",
              "      <td>1.0</td>\n",
              "    </tr>\n",
              "  </tbody>\n",
              "</table>\n",
              "<p>3238 rows × 5 columns</p>\n",
              "</div>"
            ],
            "text/plain": [
              "          STATION                         NAME     DATE  DP01  DP10\n",
              "0     US1TXBXR213        HELOTES 7.7 SW, TX US  2015-01   9.0   4.0\n",
              "1     US1TXBXR213        HELOTES 7.7 SW, TX US  2015-02   7.0   2.0\n",
              "2     US1TXBXR213        HELOTES 7.7 SW, TX US  2015-03  12.0   8.0\n",
              "3     US1TXBXR213        HELOTES 7.7 SW, TX US  2015-04  10.0   7.0\n",
              "4     US1TXBXR213        HELOTES 7.7 SW, TX US  2015-05  13.0   6.0\n",
              "...           ...                          ...      ...   ...   ...\n",
              "3233  US1TXBXR304  CROSS MOUNTAIN 2.1 N, TX US  2017-02   3.0   2.0\n",
              "3234  US1TXBXR304  CROSS MOUNTAIN 2.1 N, TX US  2017-03   8.0   2.0\n",
              "3235  US1TXBXR304  CROSS MOUNTAIN 2.1 N, TX US  2017-04   9.0   6.0\n",
              "3236  US1TXBXR304  CROSS MOUNTAIN 2.1 N, TX US  2017-05   8.0   2.0\n",
              "3237  US1TXBXR304  CROSS MOUNTAIN 2.1 N, TX US  2017-06   6.0   1.0\n",
              "\n",
              "[3238 rows x 5 columns]"
            ]
          },
          "metadata": {
            "tags": []
          },
          "execution_count": 15
        }
      ]
    },
    {
      "cell_type": "code",
      "metadata": {
        "id": "fJ2xu67W56Tk"
      },
      "source": [
        "dataframe = pd.read_csv('../SourceData/www.ncdc.noaa.gov/RAINDAYS_SanAntonio_201501-201706.csv')"
      ],
      "execution_count": null,
      "outputs": []
    },
    {
      "cell_type": "code",
      "metadata": {
        "colab": {
          "base_uri": "https://localhost:8080/",
          "height": 204
        },
        "id": "RaGOoLk75_o2",
        "outputId": "e9b426a8-0c59-41e4-fccd-43487cff25b1"
      },
      "source": [
        "dataframe.head()"
      ],
      "execution_count": null,
      "outputs": [
        {
          "output_type": "execute_result",
          "data": {
            "text/html": [
              "<div>\n",
              "<style scoped>\n",
              "    .dataframe tbody tr th:only-of-type {\n",
              "        vertical-align: middle;\n",
              "    }\n",
              "\n",
              "    .dataframe tbody tr th {\n",
              "        vertical-align: top;\n",
              "    }\n",
              "\n",
              "    .dataframe thead th {\n",
              "        text-align: right;\n",
              "    }\n",
              "</style>\n",
              "<table border=\"1\" class=\"dataframe\">\n",
              "  <thead>\n",
              "    <tr style=\"text-align: right;\">\n",
              "      <th></th>\n",
              "      <th>STATION</th>\n",
              "      <th>NAME</th>\n",
              "      <th>DATE</th>\n",
              "      <th>DP01</th>\n",
              "      <th>DP10</th>\n",
              "    </tr>\n",
              "  </thead>\n",
              "  <tbody>\n",
              "    <tr>\n",
              "      <th>0</th>\n",
              "      <td>US1TXBXR213</td>\n",
              "      <td>HELOTES 7.7 SW, TX US</td>\n",
              "      <td>2015-01</td>\n",
              "      <td>9.0</td>\n",
              "      <td>4.0</td>\n",
              "    </tr>\n",
              "    <tr>\n",
              "      <th>1</th>\n",
              "      <td>US1TXBXR213</td>\n",
              "      <td>HELOTES 7.7 SW, TX US</td>\n",
              "      <td>2015-02</td>\n",
              "      <td>7.0</td>\n",
              "      <td>2.0</td>\n",
              "    </tr>\n",
              "    <tr>\n",
              "      <th>2</th>\n",
              "      <td>US1TXBXR213</td>\n",
              "      <td>HELOTES 7.7 SW, TX US</td>\n",
              "      <td>2015-03</td>\n",
              "      <td>12.0</td>\n",
              "      <td>8.0</td>\n",
              "    </tr>\n",
              "    <tr>\n",
              "      <th>3</th>\n",
              "      <td>US1TXBXR213</td>\n",
              "      <td>HELOTES 7.7 SW, TX US</td>\n",
              "      <td>2015-04</td>\n",
              "      <td>10.0</td>\n",
              "      <td>7.0</td>\n",
              "    </tr>\n",
              "    <tr>\n",
              "      <th>4</th>\n",
              "      <td>US1TXBXR213</td>\n",
              "      <td>HELOTES 7.7 SW, TX US</td>\n",
              "      <td>2015-05</td>\n",
              "      <td>13.0</td>\n",
              "      <td>6.0</td>\n",
              "    </tr>\n",
              "  </tbody>\n",
              "</table>\n",
              "</div>"
            ],
            "text/plain": [
              "       STATION                   NAME     DATE  DP01  DP10\n",
              "0  US1TXBXR213  HELOTES 7.7 SW, TX US  2015-01   9.0   4.0\n",
              "1  US1TXBXR213  HELOTES 7.7 SW, TX US  2015-02   7.0   2.0\n",
              "2  US1TXBXR213  HELOTES 7.7 SW, TX US  2015-03  12.0   8.0\n",
              "3  US1TXBXR213  HELOTES 7.7 SW, TX US  2015-04  10.0   7.0\n",
              "4  US1TXBXR213  HELOTES 7.7 SW, TX US  2015-05  13.0   6.0"
            ]
          },
          "metadata": {
            "tags": []
          },
          "execution_count": 4
        }
      ]
    }
  ]
}