{
  "cells": [
    {
      "attachments": {},
      "cell_type": "markdown",
      "metadata": {
        "colab_type": "text",
        "id": "view-in-github"
      },
      "source": [
        "<a href=\"https://colab.research.google.com/github/npr99/URSC645/blob/main/Admin/TemplateFiles/URSC645_00_templateDSnotebook.ipynb\" target=\"_parent\"><img src=\"https://colab.research.google.com/assets/colab-badge.svg\" alt=\"Open In Colab\"/></a>"
      ]
    },
    {
      "cell_type": "markdown",
      "metadata": {
        "id": "LmpnvPt2LEPX"
      },
      "source": [
        "# Template Jupyter Notebook File\n",
        "This is a template notebook file that can be used to make new notebooks with a structured format.\n",
        "\n",
        "Guide to writing in notebook markdown: https://medium.com/analytics-vidhya/the-ultimate-markdown-guide-for-jupyter-notebook-d5e5abf728fd"
      ]
    },
    {
      "cell_type": "markdown",
      "metadata": {
        "id": "kkA2Z92rLEPd"
      },
      "source": [
        "## Description of Program\n",
        "- program:    FAIS_00_templateDSnotebook_2021-01-23.ipynb\n",
        "- task:       Template Jupyter Notebook File for Design Safe\n",
        "- Version:    first Version\n",
        "- project:    Food Access Impact Study\n",
        "- funding:\t  NSF CRISP 1638273 & 1760726\n",
        "- author:     Nathanael Rosenheim \\ Jan 23, 2021\n",
        "\n",
        "- Suggested Citation:\n",
        "Rosenheim, N.; Peacock, W. G.; Williams, A.; Lane, G.; Watson, M; Sullivan, E.; \n",
        "Katare, A.; Kastor, H. (2021) “Report of Applied Methods”, \n",
        "in Food Access Impact Survey for Harris County and Southeast Texas after \n",
        "Hurricane Harvey in 2017. \n",
        "Archived on DesignSafe-CI https://www.designsafe-ci.org/  "
      ]
    },
    {
      "cell_type": "markdown",
      "metadata": {
        "id": "hzVM0iMjLEPe"
      },
      "source": [
        "## Control Python\n",
        "Add install and add packages. Check versions for future replication."
      ]
    },
    {
      "cell_type": "markdown",
      "metadata": {
        "id": "AwaeypAMLEPe"
      },
      "source": [
        "### Section notes\n",
        "This section is where packages can be installed and imported.\n",
        "\n",
        "### How to install a new package\n",
        "DesignSafe has many packages preinstalled. However, it is possible to install a new package if needed.\n",
        "\n",
        "Here is an example using `!pip` command to install the `contextily` package\n",
        "```\n",
        "# The contextily package is required for adding base map to maps\n",
        "!pip install contextily --user --quiet\n",
        "```\n",
        "Note - the `--user` option is required in DesignSafe.\n",
        "The `--quiet` command is a nice option, and it hides the output, this simply keeps the notebook more presentable and less clutered."
      ]
    },
    {
      "cell_type": "markdown",
      "metadata": {
        "id": "5AOAayEWLEPf"
      },
      "source": [
        "### Import packages\n",
        "Here is a list of common packages to import:\n",
        "\n",
        "```\n",
        "import pandas as pd     # For obtaining and cleaning tabular data\n",
        "import geopandas as gpd # For obtaining and cleaning spatial data\n",
        "import os # For saving output to path\n",
        "\n",
        "import folium as fm # folium has more dynamic maps - but requires internet connection\n",
        "\n",
        "# Pacakges for making quick maps of data\n",
        "import matplotlib as matlib\n",
        "import matplotlib.pyplot as plt  # for plotting points\n",
        "import matplotlib.image as mpimg\n",
        "import contextily as ctx # package for mapping shapefiles\n",
        "```"
      ]
    },
    {
      "cell_type": "code",
      "execution_count": null,
      "metadata": {
        "id": "UJZ1ezndLEPf"
      },
      "outputs": [],
      "source": [
        "import pandas as pd     # For obtaining and cleaning tabular data\n",
        "import geopandas as gpd # For obtaining and cleaning spatial data\n",
        "import os # For saving output to path"
      ]
    },
    {
      "cell_type": "markdown",
      "metadata": {
        "id": "TQpYFF0hLEPg"
      },
      "source": [
        "## Check Versions\n",
        "Python is a collection of opensource packages - which often change overtime. Unless you use the same version a program may not replicate if a newer package version change the way it works.\n",
        "\n",
        "Therefore, it is important to check the versions of python and all packages.\n",
        "\n",
        "```\n",
        "# Display versions being used - important information for replication\n",
        "import sys\n",
        "print(\"Python Version     \", sys.version)\n",
        "print(\"geopandas version: \", gpd.__version__)\n",
        "print(\"pandas version:    \", pd.__version__)\n",
        "print(\"folium version:    \", fm.__version__)\n",
        "print(\"matplotlib version: \", matlib.__version__)\n",
        "print(\"contextily versino: \", ctx.__version__)\n",
        "```"
      ]
    },
    {
      "cell_type": "code",
      "execution_count": null,
      "metadata": {
        "id": "RtyVl_YjLEPg"
      },
      "outputs": [],
      "source": [
        "import sys\n",
        "print(\"Python Version     \", sys.version)\n",
        "print(\"geopandas version: \", gpd.__version__)"
      ]
    },
    {
      "cell_type": "markdown",
      "metadata": {
        "id": "IRLu05Q7LEPg"
      },
      "source": [
        "## Set Provenance \n",
        "Where will output files be saved?\n",
        "What is the program name? \n",
        "\n",
        "Provenance refers to the place of origin, the history of something. This section helps keep track of where a program was located at the time it was run and where to expect to find outputs.\n",
        "\n",
        "This program is designed to use relative paths for obtaining data and output data. \n",
        "\n",
        "The output files are saved in the a folder named after the program - an excellent tool for keeping track of provenance. The output files are also named after the source program, which helps identify the provenance of a file."
      ]
    },
    {
      "attachments": {},
      "cell_type": "markdown",
      "metadata": {
        "id": "Yu4U7M2QLEPh"
      },
      "source": [
        "### Note on filename scheme:\n",
        "```\n",
        "File Naming:\n",
        "All files must start with the project or subproject mnemonic\n",
        "All files should end with the date in the format YYYY-MM-DD\n",
        "\n",
        "File Name Structure\n",
        "                   s     #\n",
        "                    \\   /     description         extension\n",
        "                     - -     /                    /\n",
        "                PRJ_tsv#_xxxxxxxxxxxx_yyyy-mm-dd.ext\n",
        "                   -  -                -   -  -\n",
        "                  /  /                 |   |  |\n",
        "                 t  v                  y   m  d\n",
        "\n",
        "\n",
        "            name    length          contents\n",
        "            -----------------------------------------------------------\n",
        "            PRJ         3-5         Project Mnemonic (fixed string)\n",
        "            _            1          padding underscore\n",
        "            t            1          data science workflow task number (0-6)\n",
        "            s            1          letter step within task (a,b,c..)\n",
        "            v            1          v = version\n",
        "            #            1          version number (1,2,3,4...)\n",
        "            _            1          padding underscore\n",
        "            x           5-10*       description of step\n",
        "            _            1          padding underscore\n",
        "            y            4          year (2017,2018,2019,2020...)\n",
        "            -            1          padding dash\n",
        "            m            2          month (01,02...12)\n",
        "            -            1          padding dash\n",
        "            d            2          date (01,02,...31)\n",
        "            .            1          decimal\n",
        "            ext          3          file type extension\n",
        "            -----------------------------------------------------------\n",
        "            t: Report Sections\n",
        "\n",
        "The data science steps include:\n",
        "\n",
        "0 = Research Log or Project Admin\n",
        "1 = Obtain Data\n",
        "2 = Clean Data\n",
        "3 = Explore Data\n",
        "4 = Model Data\n",
        "5 = Interpret Data\n",
        "6 = Publish Data\n",
        "```\n",
        "\n",
        "For more information on file naming scheme see:\n",
        "\n",
        "https://github.com/npr99/URSC645/blob/main/Admin/URSC645_FileNaming.md \n"
      ]
    },
    {
      "cell_type": "markdown",
      "metadata": {
        "id": "FO3-EDipLEPh"
      },
      "source": [
        "### Note on folder organization:\n",
        "This program depends on relative paths for folder locations. The Source Data is located in a SourceData folder that is located two directories above the program file. All required source files are saved in directories that provide information about the provenance of the source data. Files created by this program are saved in a folder with the same name as the folder."
      ]
    },
    {
      "cell_type": "code",
      "execution_count": null,
      "metadata": {
        "id": "87I9c7rYLEPi"
      },
      "outputs": [],
      "source": [
        "# Get information on current working directory (getcwd)\n",
        "os.getcwd()"
      ]
    },
    {
      "cell_type": "code",
      "execution_count": null,
      "metadata": {
        "id": "Ftzkt-jSLEPi"
      },
      "outputs": [],
      "source": [
        "# Store Program Name for output files to have the same name\n",
        "programname = \"FAIS_00_templateDSnotebook_2021-01-24\"\n",
        "# Make directory to save output\n",
        "if not os.path.exists(programname):\n",
        "    os.mkdir(programname)"
      ]
    },
    {
      "cell_type": "markdown",
      "metadata": {
        "id": "UWMQBAqbLEPi"
      },
      "source": [
        "# Step 1: Obtain Data"
      ]
    },
    {
      "cell_type": "code",
      "execution_count": null,
      "metadata": {
        "id": "10j73dwQLEPi"
      },
      "outputs": [],
      "source": []
    },
    {
      "cell_type": "markdown",
      "metadata": {
        "id": "WdM1zI9CLEPj"
      },
      "source": [
        "# Step 2: Clean Data"
      ]
    },
    {
      "cell_type": "code",
      "execution_count": null,
      "metadata": {
        "id": "R7HPFgYsLEPj"
      },
      "outputs": [],
      "source": []
    },
    {
      "cell_type": "markdown",
      "metadata": {
        "id": "HfWGkwZlLEPj"
      },
      "source": [
        "# Step 3: Explore Data"
      ]
    },
    {
      "cell_type": "code",
      "execution_count": null,
      "metadata": {
        "id": "rqj-w2pILEPj"
      },
      "outputs": [],
      "source": []
    },
    {
      "cell_type": "markdown",
      "metadata": {
        "id": "gH2RzSRELEPj"
      },
      "source": [
        "# Iterative Step 2: Clean Data\n",
        "It is often necessary to clean data after the data has been explored."
      ]
    },
    {
      "cell_type": "code",
      "execution_count": null,
      "metadata": {
        "id": "gZGg1uUFLEPj"
      },
      "outputs": [],
      "source": []
    },
    {
      "cell_type": "markdown",
      "metadata": {
        "id": "sLToo1RrLEPk"
      },
      "source": [
        "# Iterative Step 3: Explore Data"
      ]
    },
    {
      "cell_type": "code",
      "execution_count": null,
      "metadata": {
        "id": "QCnGqEbpLEPk"
      },
      "outputs": [],
      "source": []
    },
    {
      "cell_type": "markdown",
      "metadata": {
        "id": "DdyOeb7QLEPk"
      },
      "source": [
        "# Step 4: Model Data"
      ]
    },
    {
      "cell_type": "code",
      "execution_count": null,
      "metadata": {
        "id": "V7Aw32NsLEPk"
      },
      "outputs": [],
      "source": []
    },
    {
      "cell_type": "markdown",
      "metadata": {
        "id": "THKOVcATLEPk"
      },
      "source": [
        "# Output files"
      ]
    },
    {
      "cell_type": "code",
      "execution_count": null,
      "metadata": {
        "id": "PGn-4dqVLEPk"
      },
      "outputs": [],
      "source": [
        "# Save Work at this point as CSV\n",
        "savefile = programname+\"/\"+programname+\".csv\"\n",
        "points_gdf.to_csv(savefile, index=False)"
      ]
    }
  ],
  "metadata": {
    "colab": {
      "include_colab_link": true,
      "name": "HRRC_00_templateDSnotebook_2021-01-24.ipynb",
      "provenance": []
    },
    "kernelspec": {
      "display_name": "Python 3",
      "language": "python",
      "name": "python3"
    },
    "language_info": {
      "codemirror_mode": {
        "name": "ipython",
        "version": 3
      },
      "file_extension": ".py",
      "mimetype": "text/x-python",
      "name": "python",
      "nbconvert_exporter": "python",
      "pygments_lexer": "ipython3",
      "version": "3.6.8"
    }
  },
  "nbformat": 4,
  "nbformat_minor": 0
}
