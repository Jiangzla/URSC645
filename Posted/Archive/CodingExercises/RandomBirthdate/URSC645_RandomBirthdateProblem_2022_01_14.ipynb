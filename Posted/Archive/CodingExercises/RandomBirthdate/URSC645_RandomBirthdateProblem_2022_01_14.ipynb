{
  "cells": [
    {
      "cell_type": "markdown",
      "metadata": {
        "id": "view-in-github",
        "colab_type": "text"
      },
      "source": [
        "<a href=\"https://colab.research.google.com/github/npr99/URSC689/blob/main/URSC645_RandomBirthdateProblem_2022_01_14.ipynb\" target=\"_parent\"><img src=\"https://colab.research.google.com/assets/colab-badge.svg\" alt=\"Open In Colab\"/></a>"
      ]
    },
    {
      "cell_type": "markdown",
      "metadata": {
        "id": "LmpnvPt2LEPX"
      },
      "source": [
        "# Calculate random birthdate\n",
        "\n",
        "Fun problem \n",
        "Given a specific date and age return a random age.\n",
        "This problem relates to the US Census which provides a person's age on the Census Day.\n",
        "\n",
        "While the person's age is important to know, a helpful way to store the data is with the year or possible birthday the for the person.\n",
        "\n",
        "This problem seems straight forward, but it took some effort to figure and test the results."
      ]
    },
    {
      "cell_type": "markdown",
      "metadata": {
        "id": "kkA2Z92rLEPd"
      },
      "source": [
        "## Description of Program\n",
        "- program:    URSC645_RandomBirthdateProblem\n",
        "- task:       Write and test a function that returns a random birthdate\n",
        "- Version:    first Version\n",
        "- project:    Urban and Regional Science URSC 645 - Urban and Regional Analytics\n",
        "- funding:\t  Texas A&M University - Department of Landscape Architecture and Urban Planning\n",
        "- author:     Nathanael Rosenheim \\ Jan 2022\n",
        "\n",
        "- Suggested Citation:\n",
        "Rosenheim, N. (2022). \"Random Birthdate Problem\". https://github.com/npr99/URSC645"
      ]
    },
    {
      "cell_type": "markdown",
      "metadata": {
        "id": "5AOAayEWLEPf"
      },
      "source": [
        "### Import packages"
      ]
    },
    {
      "cell_type": "code",
      "execution_count": null,
      "metadata": {
        "id": "UJZ1ezndLEPf"
      },
      "outputs": [],
      "source": [
        "import datetime # for working with date objects\n",
        "import random # has a random date generator\n",
        "import numpy as np # for testing results in an array\n",
        "import pandas as pd     # For obtaining and cleaning tabular data\n",
        "import os # For saving output to path"
      ]
    },
    {
      "cell_type": "markdown",
      "metadata": {
        "id": "TQpYFF0hLEPg"
      },
      "source": [
        "#### Check Versions"
      ]
    },
    {
      "cell_type": "code",
      "execution_count": null,
      "metadata": {
        "id": "RtyVl_YjLEPg",
        "outputId": "bfe56e8a-c44f-45ee-e4dc-6e05921b45dc"
      },
      "outputs": [
        {
          "name": "stdout",
          "output_type": "stream",
          "text": [
            "Python Version      3.8.12 | packaged by conda-forge | (default, Oct 12 2021, 21:22:46) [MSC v.1916 64 bit (AMD64)]\n",
            "Numpy version:  1.22.0\n"
          ]
        }
      ],
      "source": [
        "import sys\n",
        "print(\"Python Version     \", sys.version)\n",
        "print(\"Numpy version: \", np.__version__)\n",
        "#print(\"Datetime version: \", datetime.__version__)\n",
        "#print(\"Random version: \", random.__version__)"
      ]
    },
    {
      "cell_type": "code",
      "execution_count": null,
      "metadata": {
        "id": "87I9c7rYLEPi",
        "outputId": "be4c2b58-f26c-4dce-f0c1-fd24a873025a"
      },
      "outputs": [
        {
          "data": {
            "text/plain": [
              "'g:\\\\My Drive\\\\MyCourses\\\\URSC689\\\\WorkNPR'"
            ]
          },
          "execution_count": 3,
          "metadata": {},
          "output_type": "execute_result"
        }
      ],
      "source": [
        "# Get information on current working directory (getcwd)\n",
        "os.getcwd()"
      ]
    },
    {
      "cell_type": "markdown",
      "metadata": {
        "id": "9VnJdweiCnRN"
      },
      "source": [
        "## Search the web and find helpful examples\n",
        "Google search term \"python generate random birthday\"\n",
        "\n",
        "https://www.kite.com/python/answers/how-to-generate-a-random-date-between-two-dates-in-python\n",
        "\n",
        "Google search term: \"python convert iso 8601 string to datetime\"\n",
        "https://stackoverflow.com/questions/969285/how-do-i-translate-an-iso-8601-datetime-string-into-a-python-datetime-object\n",
        "\n",
        "https://www.codingem.com/how-to-calculate-age-in-python/\n",
        "\n",
        "\n",
        "Google search term: \"python datetime min age in days include leap yer\"\n",
        "https://www.quora.com/Does-the-python-%E2%80%98datetime%E2%80%99-module-include-leap-years\n",
        "\n",
        "Google search term: python datetime how many days old is someone\n",
        "https://stackoverflow.com/questions/2217488/age-from-birthdate-in-python\n",
        "\n",
        "Google Search phrase: python datetime timedetla years\n",
        "https://stackoverflow.com/questions/765797/convert-timedelta-to-years\n",
        "\n",
        "python find birthdate range given age\n",
        "https://www.codingem.com/how-to-calculate-age-in-python/\n",
        "\n",
        "\n",
        "https://online-calculator.org/how-old-am-i.aspx\n",
        "\n",
        "https://www.kite.com/python/answers/how-to-build-a-pandas-dataframe-with-a-for-loop-in-python"
      ]
    },
    {
      "cell_type": "markdown",
      "metadata": {
        "id": "UWMQBAqbLEPi"
      },
      "source": [
        "# Step 1: Replicate a known example\n",
        "\n",
        "Found this example helpful\n",
        "https://www.kite.com/python/answers/how-to-generate-a-random-date-between-two-dates-in-python\n"
      ]
    },
    {
      "cell_type": "code",
      "execution_count": null,
      "metadata": {
        "id": "10j73dwQLEPi",
        "outputId": "8557da69-14d9-4178-860b-5d1ab8600113"
      },
      "outputs": [
        {
          "name": "stdout",
          "output_type": "stream",
          "text": [
            "2020-01-16\n"
          ]
        }
      ],
      "source": [
        "start_date = datetime.date(2020, 1, 1)\n",
        "end_date = datetime.date(2020, 2, 1)\n",
        "\n",
        "time_between_dates = end_date - start_date\n",
        "days_between_dates = time_between_dates.days\n",
        "random_number_of_days = random.randrange(days_between_dates)\n",
        "random_date = start_date + datetime.timedelta(days=random_number_of_days)\n",
        "print(random_date)\n"
      ]
    },
    {
      "cell_type": "markdown",
      "metadata": {
        "id": "WdM1zI9CLEPj"
      },
      "source": [
        "# Step 2: Try to modify example"
      ]
    },
    {
      "cell_type": "code",
      "execution_count": null,
      "metadata": {
        "id": "R7HPFgYsLEPj",
        "outputId": "11e556fc-d0d0-46d3-a439-96dceaf10e6a"
      },
      "outputs": [
        {
          "name": "stdout",
          "output_type": "stream",
          "text": [
            "29200\n",
            "1930-04-21 00:00:00\n",
            "1849-05-11 00:00:00\n",
            "29564 days, 0:00:00 29564\n",
            "1853-07-16\n"
          ]
        }
      ],
      "source": [
        "randagePCT12 = 80\n",
        "# store and save ISO 8601 date format YYYY-MM-DD\n",
        "census_day = '2010-04-01'\n",
        "\n",
        "min_age_in_days = randagePCT12*datetime.timedelta(days=365).days\n",
        "print(min_age_in_days)\n",
        "max_age_in_days = min_age_in_days + datetime.timedelta(days=364).days\n",
        "census_day_datetime = datetime.datetime.strptime(census_day, \"%Y-%m-%d\")\n",
        "LatestBirthdate = census_day_datetime -  datetime.timedelta(days=min_age_in_days)\n",
        "print(LatestBirthdate)\n",
        "EarliestBirthdate = LatestBirthdate - datetime.timedelta(days=max_age_in_days)\n",
        "print(EarliestBirthdate)\n",
        "time_between_dates = LatestBirthdate - EarliestBirthdate\n",
        "days_between_dates = time_between_dates.days\n",
        "print(time_between_dates,days_between_dates)\n",
        "random_number_of_days = random.randrange(days_between_dates)\n",
        "random_date = LatestBirthdate - datetime.timedelta(days=random_number_of_days)\n",
        "print(random_date.strftime(\"%Y-%m-%d\"))"
      ]
    },
    {
      "cell_type": "markdown",
      "metadata": {
        "id": "SDVNRbiFCnRS"
      },
      "source": [
        "### Verify results - errror in results - leap year is a problem\n",
        "\n",
        "did more google searching"
      ]
    },
    {
      "cell_type": "markdown",
      "metadata": {
        "id": "HfWGkwZlLEPj"
      },
      "source": [
        "# Round 2: Step 1 Replicate another example\n",
        "\n",
        "This one looks promising \n",
        "https://www.codingem.com/how-to-calculate-age-in-python/\n",
        "\n",
        "And well explained..."
      ]
    },
    {
      "cell_type": "code",
      "execution_count": null,
      "metadata": {
        "id": "rqj-w2pILEPj",
        "outputId": "ed804605-ec40-4a2a-a746-a31379b6f342"
      },
      "outputs": [
        {
          "name": "stdout",
          "output_type": "stream",
          "text": [
            "22\n"
          ]
        }
      ],
      "source": [
        "from datetime import date\n",
        " \n",
        "def age(birthdate):\n",
        "    today = date.today()\n",
        "    age = today.year - birthdate.year - ((today.month, today.day) < (birthdate.month, birthdate.day))\n",
        "    return age\n",
        "\n",
        "print(age(date(2000, 1, 1)))"
      ]
    },
    {
      "cell_type": "code",
      "execution_count": null,
      "metadata": {
        "id": "H2tBRyitCnRU",
        "outputId": "2730b74c-fea5-4f55-b160-f7bfb56bd6df"
      },
      "outputs": [
        {
          "name": "stdout",
          "output_type": "stream",
          "text": [
            "22\n"
          ]
        }
      ],
      "source": [
        "# Use Python's built-in datetime module\n",
        "from datetime import date\n",
        "def age(birthdate):\n",
        "    # Get today's date object\n",
        "    today = date.today()\n",
        "    \n",
        "    # A bool that represents if today's day/month precedes the birth day/month\n",
        "    one_or_zero = ((today.month, today.day) < (birthdate.month, birthdate.day))\n",
        "    \n",
        "    # Calculate the difference in years from the date object's components\n",
        "    year_difference = today.year - birthdate.year\n",
        "    \n",
        "    # The difference in years is not enough. \n",
        "    # To get it right, subtract 1 or 0 based on if today precedes the \n",
        "    # birthdate's month/day.\n",
        "    \n",
        "    # To do this, subtract the 'one_or_zero' boolean \n",
        "    # from 'year_difference'. (This converts\n",
        "    # True to 1 and False to 0 under the hood.)\n",
        "    age = year_difference - one_or_zero\n",
        "    \n",
        "    return age\n",
        "     \n",
        "# Example age check:\n",
        "print(age(date(2000, 1, 1)))"
      ]
    },
    {
      "cell_type": "markdown",
      "metadata": {
        "id": "gH2RzSRELEPj"
      },
      "source": [
        "# Round 2 Step 2: Modify the code\n",
        "I need the reverse of the example above and instead of today's date I need to use the Census day...\n",
        "\n",
        "Here is the result"
      ]
    },
    {
      "cell_type": "code",
      "execution_count": null,
      "metadata": {
        "id": "gZGg1uUFLEPj"
      },
      "outputs": [],
      "source": [
        "def rand_birthdate(min_age, census_day = '2010-04-01'):\n",
        "    \"\"\"\n",
        "    calculate birthdate given a census day\n",
        "    this is not as easy as one would think\n",
        "    Leap years create problems...\n",
        "\n",
        "    census day in ISO 8601 date format YYYY-MM-DD\n",
        "    US Census day is April 1 of the decennial year 1790 to 2020\n",
        "    Help from:\n",
        "    # https://www.kite.com/python/answers/how-to-generate-a-random-date-between-two-dates-in-python\n",
        "    # https://www.codingem.com/how-to-calculate-age-in-python/\n",
        "    # test using https://online-calculator.org/how-old-am-i.aspx\n",
        "    \"\"\"\n",
        "    # Get Census Day as a date object\n",
        "    census_day_datetime = datetime.datetime.strptime(census_day, \"%Y-%m-%d\")\n",
        "    \n",
        "    # Calculate the birth year from the date object's components\n",
        "    birth_year= int(census_day_datetime.year) - min_age\n",
        "\n",
        "    # Min birthdate April 1 of the birth year\n",
        "    LatestBirthdate = date(birth_year, 4, 1)\n",
        "\n",
        "    # Max birthdate April 2 of the previous year\n",
        "    EarliestBirthdate = date(birth_year-1, 4, 2)\n",
        "    \n",
        "    time_between_dates = LatestBirthdate - EarliestBirthdate\n",
        "    days_between_dates = time_between_dates.days\n",
        "\n",
        "    random_number_of_days = random.randrange(days_between_dates)\n",
        "    random_date = LatestBirthdate - datetime.timedelta(days=random_number_of_days)\n",
        "\n",
        "    # store and save ISO 8601 date format YYYY-MM-DD\n",
        "    random_date_str = random_date.strftime(\"%Y-%m-%d\")\n",
        "    return random_date_str"
      ]
    },
    {
      "cell_type": "code",
      "execution_count": null,
      "metadata": {
        "id": "t-4BiW2mCnRV",
        "outputId": "f4dbc83d-deb1-4734-8dff-918703710535"
      },
      "outputs": [
        {
          "data": {
            "text/plain": [
              "'1929-05-03'"
            ]
          },
          "execution_count": 9,
          "metadata": {},
          "output_type": "execute_result"
        }
      ],
      "source": [
        "input_age = 80\n",
        "rand_birthdate(input_age)"
      ]
    },
    {
      "cell_type": "code",
      "execution_count": null,
      "metadata": {
        "id": "BDpD25vLCnRV",
        "outputId": "a989f58d-f84b-4ca6-9f0a-37a320c87036"
      },
      "outputs": [
        {
          "data": {
            "text/plain": [
              "'1990-03-15'"
            ]
          },
          "execution_count": 10,
          "metadata": {},
          "output_type": "execute_result"
        }
      ],
      "source": [
        "input_age = 20\n",
        "rand_birthdate(input_age)"
      ]
    },
    {
      "cell_type": "markdown",
      "metadata": {
        "id": "ya5G2fZNCnRW"
      },
      "source": [
        "# Step 3 - Verify results\n",
        "To verify the results I thought of using the original code and reversing the results. Here is the modified code from codingem Artturi Jalli"
      ]
    },
    {
      "cell_type": "code",
      "execution_count": null,
      "metadata": {
        "id": "jB-UAuE9CnRW"
      },
      "outputs": [],
      "source": [
        "# https://www.codingem.com/how-to-calculate-age-in-python/\n",
        "def age(birthdate, census_day = '2010-04-01'):\n",
        "    # Get today's date object\n",
        "    today = datetime.datetime.strptime(census_day, \"%Y-%m-%d\")\n",
        "    \n",
        "    # A bool that represents if today's day/month precedes the birth day/month\n",
        "    one_or_zero = ((today.month, today.day) < (birthdate.month, birthdate.day))\n",
        "    \n",
        "    # Calculate the difference in years from the date object's components\n",
        "    year_difference = today.year - birthdate.year\n",
        "    \n",
        "    # The difference in years is not enough. \n",
        "    # To get it right, subtract 1 or 0 based on if today precedes the \n",
        "    # birthdate's month/day.\n",
        "    \n",
        "    # To do this, subtract the 'one_or_zero' boolean \n",
        "    # from 'year_difference'. (This converts\n",
        "    # True to 1 and False to 0 under the hood.)\n",
        "    age = year_difference - one_or_zero\n",
        "    \n",
        "    return age"
      ]
    },
    {
      "cell_type": "markdown",
      "metadata": {
        "id": "QlMRos5eCnRW"
      },
      "source": [
        "The next code block will create a large list of results and check the differnce. The difference should be 0."
      ]
    },
    {
      "cell_type": "code",
      "execution_count": null,
      "metadata": {
        "id": "67BVOmQDCnRX"
      },
      "outputs": [],
      "source": [
        "birthday_list = []\n",
        "census_day = '2010-04-01'\n",
        "for iterations in range(1000):\n",
        "    for input_age in range(110):\n",
        "        birthdate_str = rand_birthdate(input_age, census_day)\n",
        "        #print(\"Random birth date\",birthdate_str)\n",
        "        birthdate = datetime.datetime.strptime(birthdate_str, \"%Y-%m-%d\")\n",
        "        check_age = age(birthdate, census_day)\n",
        "        #print(\"Age on census day\",age)\n",
        "        birthday_list.append([input_age, birthdate_str, census_day, check_age])\n",
        "\n",
        "df = pd.DataFrame(birthday_list, columns=\\\n",
        "    [\"Input Age\", \"Random Birthday\", \"Census Day\", \"Output Age\"])\n",
        "\n",
        "# add check\n",
        "df['Check Age'] = df['Input Age'] - df['Output Age']"
      ]
    },
    {
      "cell_type": "code",
      "execution_count": null,
      "metadata": {
        "id": "t8nJvEgJCnRX",
        "outputId": "78e32143-4eb7-4e24-ebbc-55b7fde32aaf"
      },
      "outputs": [
        {
          "data": {
            "text/html": [
              "<div>\n",
              "<style scoped>\n",
              "    .dataframe tbody tr th:only-of-type {\n",
              "        vertical-align: middle;\n",
              "    }\n",
              "\n",
              "    .dataframe tbody tr th {\n",
              "        vertical-align: top;\n",
              "    }\n",
              "\n",
              "    .dataframe thead th {\n",
              "        text-align: right;\n",
              "    }\n",
              "</style>\n",
              "<table border=\"1\" class=\"dataframe\">\n",
              "  <thead>\n",
              "    <tr style=\"text-align: right;\">\n",
              "      <th></th>\n",
              "      <th>Input Age</th>\n",
              "      <th>Random Birthday</th>\n",
              "      <th>Census Day</th>\n",
              "      <th>Output Age</th>\n",
              "      <th>Check Age</th>\n",
              "    </tr>\n",
              "  </thead>\n",
              "  <tbody>\n",
              "    <tr>\n",
              "      <th>0</th>\n",
              "      <td>0</td>\n",
              "      <td>2009-06-26</td>\n",
              "      <td>2010-04-01</td>\n",
              "      <td>0</td>\n",
              "      <td>0</td>\n",
              "    </tr>\n",
              "    <tr>\n",
              "      <th>1</th>\n",
              "      <td>1</td>\n",
              "      <td>2008-06-29</td>\n",
              "      <td>2010-04-01</td>\n",
              "      <td>1</td>\n",
              "      <td>0</td>\n",
              "    </tr>\n",
              "    <tr>\n",
              "      <th>2</th>\n",
              "      <td>2</td>\n",
              "      <td>2007-04-19</td>\n",
              "      <td>2010-04-01</td>\n",
              "      <td>2</td>\n",
              "      <td>0</td>\n",
              "    </tr>\n",
              "    <tr>\n",
              "      <th>3</th>\n",
              "      <td>3</td>\n",
              "      <td>2006-07-16</td>\n",
              "      <td>2010-04-01</td>\n",
              "      <td>3</td>\n",
              "      <td>0</td>\n",
              "    </tr>\n",
              "    <tr>\n",
              "      <th>4</th>\n",
              "      <td>4</td>\n",
              "      <td>2005-08-11</td>\n",
              "      <td>2010-04-01</td>\n",
              "      <td>4</td>\n",
              "      <td>0</td>\n",
              "    </tr>\n",
              "  </tbody>\n",
              "</table>\n",
              "</div>"
            ],
            "text/plain": [
              "   Input Age Random Birthday  Census Day  Output Age  Check Age\n",
              "0          0      2009-06-26  2010-04-01           0          0\n",
              "1          1      2008-06-29  2010-04-01           1          0\n",
              "2          2      2007-04-19  2010-04-01           2          0\n",
              "3          3      2006-07-16  2010-04-01           3          0\n",
              "4          4      2005-08-11  2010-04-01           4          0"
            ]
          },
          "execution_count": 13,
          "metadata": {},
          "output_type": "execute_result"
        }
      ],
      "source": [
        "df.head()"
      ]
    },
    {
      "cell_type": "markdown",
      "metadata": {
        "id": "sLToo1RrLEPk"
      },
      "source": [
        "# Verify results with data exploration"
      ]
    },
    {
      "cell_type": "code",
      "execution_count": null,
      "metadata": {
        "id": "QCnGqEbpLEPk",
        "outputId": "32c1c6af-e8f3-4d70-80ed-9841396c65d1"
      },
      "outputs": [
        {
          "data": {
            "text/plain": [
              "count    110000.0\n",
              "mean          0.0\n",
              "std           0.0\n",
              "min           0.0\n",
              "25%           0.0\n",
              "50%           0.0\n",
              "75%           0.0\n",
              "max           0.0\n",
              "Name: Check Age, dtype: float64"
            ]
          },
          "execution_count": 14,
          "metadata": {},
          "output_type": "execute_result"
        }
      ],
      "source": [
        "df['Check Age'].describe()"
      ]
    },
    {
      "cell_type": "markdown",
      "metadata": {
        "id": "OFnk8yrXCnRY"
      },
      "source": [
        "## Success!\n",
        "My new function seems to work and should produce a random birthdate given age and the census day."
      ]
    }
  ],
  "metadata": {
    "colab": {
      "name": "URSC645_RandomBirthdateProblem_2022-01-14.ipynb",
      "provenance": [],
      "include_colab_link": true
    },
    "kernelspec": {
      "display_name": "Python 3",
      "language": "python",
      "name": "python3"
    },
    "language_info": {
      "codemirror_mode": {
        "name": "ipython",
        "version": 3
      },
      "file_extension": ".py",
      "mimetype": "text/x-python",
      "name": "python",
      "nbconvert_exporter": "python",
      "pygments_lexer": "ipython3",
      "version": "3.8.12"
    }
  },
  "nbformat": 4,
  "nbformat_minor": 0
}