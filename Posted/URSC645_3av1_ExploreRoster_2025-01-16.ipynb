{
  "cells": [
    {
      "cell_type": "markdown",
      "metadata": {},
      "source": [
        "<a href=\"https://colab.research.google.com/github/npr99/URSC645/blob/main/Posted/URSC645_3av1_ExploreRoster_2025-01-16.ipynb\" target=\"_parent\"><img src=\"https://colab.research.google.com/assets/colab-badge.svg\" alt=\"Open In Colab\"/></a>"
      ]
    },
    {
      "cell_type": "markdown",
      "metadata": {
        "id": "LmpnvPt2LEPX"
      },
      "source": [
        "# Explore Course Roster\n",
        "This notebook reads in the course roster Google Sheet and explores the datafile. To run this notebook requires access to the course Google Drive."
      ]
    },
    {
      "cell_type": "markdown",
      "metadata": {
        "id": "kkA2Z92rLEPd"
      },
      "source": [
        "## Description of Program\n",
        "- program:    URSC645_3av1_ExploreRoster\n",
        "- task:       Explore google sheet course roster\n",
        "- Version:    2025-01-16\n",
        "- project:    Urban Analytics URSC 645\n",
        "- funding:\t  Texas A&M University Department of Landscape Architecture and Urban Planning\n",
        "- author:     Nathanael Rosenheim \\ Jan 23, 2021"
      ]
    },
    {
      "cell_type": "markdown",
      "metadata": {
        "id": "hzVM0iMjLEPe"
      },
      "source": [
        "## Step 0: Good Housekeeping"
      ]
    },
    {
      "cell_type": "code",
      "execution_count": 1,
      "metadata": {
        "id": "UJZ1ezndLEPf"
      },
      "outputs": [],
      "source": [
        "# 1. Import all packages\n",
        "import pandas as pd     # For obtaining and cleaning tabular data\n",
        "import os # For saving output to path"
      ]
    },
    {
      "cell_type": "code",
      "execution_count": 2,
      "metadata": {
        "id": "RtyVl_YjLEPg"
      },
      "outputs": [
        {
          "name": "stdout",
          "output_type": "stream",
          "text": [
            "Python Version      3.12.8 | packaged by conda-forge | (main, Dec  5 2024, 14:06:27) [MSC v.1942 64 bit (AMD64)]\n",
            "pandas version:  2.2.3\n"
          ]
        }
      ],
      "source": [
        "# 2. Check versions\n",
        "import sys\n",
        "print(\"Python Version     \", sys.version)\n",
        "print(\"pandas version: \", pd.__version__)"
      ]
    },
    {
      "cell_type": "code",
      "execution_count": 3,
      "metadata": {},
      "outputs": [
        {
          "data": {
            "text/plain": [
              "'c:\\\\Users\\\\nathanael99\\\\MyProjects\\\\GitHub\\\\URSC645\\\\Posted'"
            ]
          },
          "execution_count": 3,
          "metadata": {},
          "output_type": "execute_result"
        }
      ],
      "source": [
        "# 3. Check working directory\n",
        "# Get information on current working directory (getcwd)\n",
        "os.getcwd()"
      ]
    },
    {
      "cell_type": "markdown",
      "metadata": {
        "id": "UWMQBAqbLEPi"
      },
      "source": [
        "# Step 1: Obtain Data"
      ]
    },
    {
      "cell_type": "markdown",
      "metadata": {},
      "source": [
        "### Give this Notebook Access to the Google Drive\n",
        "\n",
        "You should be logged into an account with access to the URSC 645 course shared drive.\n",
        "\n",
        "Will need to give permission to access all files and create files"
      ]
    },
    {
      "cell_type": "code",
      "execution_count": null,
      "metadata": {},
      "outputs": [],
      "source": [
        "# run and grant access to connect to Google Drive\n",
        "from google.colab import drive\n",
        "drive.mount('/content/drive')"
      ]
    },
    {
      "cell_type": "code",
      "execution_count": 4,
      "metadata": {
        "id": "10j73dwQLEPi"
      },
      "outputs": [],
      "source": [
        "url =  'https://docs.google.com/spreadsheets/d/1HCtZfY-8l8dNZT2A8AUCcyr19sjrMTvny_U3qWobuGA/export?format=csv'\n",
        "df = pd.read_csv(url) "
      ]
    },
    {
      "cell_type": "markdown",
      "metadata": {
        "id": "WdM1zI9CLEPj"
      },
      "source": [
        "# Step 2: Clean Data"
      ]
    },
    {
      "cell_type": "code",
      "execution_count": null,
      "metadata": {
        "id": "R7HPFgYsLEPj"
      },
      "outputs": [],
      "source": []
    },
    {
      "cell_type": "markdown",
      "metadata": {
        "id": "HfWGkwZlLEPj"
      },
      "source": [
        "# Step 3: Explore Data"
      ]
    },
    {
      "cell_type": "code",
      "execution_count": null,
      "metadata": {
        "id": "rqj-w2pILEPj"
      },
      "outputs": [],
      "source": []
    },
    {
      "cell_type": "markdown",
      "metadata": {
        "id": "gH2RzSRELEPj"
      },
      "source": [
        "# Iterative Step 2: Clean Data\n",
        "It is often necessary to clean data after the data has been explored."
      ]
    },
    {
      "cell_type": "code",
      "execution_count": null,
      "metadata": {
        "id": "gZGg1uUFLEPj"
      },
      "outputs": [],
      "source": []
    },
    {
      "cell_type": "markdown",
      "metadata": {
        "id": "sLToo1RrLEPk"
      },
      "source": [
        "# Iterative Step 3: Explore Data"
      ]
    },
    {
      "cell_type": "code",
      "execution_count": null,
      "metadata": {
        "id": "QCnGqEbpLEPk"
      },
      "outputs": [],
      "source": []
    },
    {
      "cell_type": "markdown",
      "metadata": {
        "id": "DdyOeb7QLEPk"
      },
      "source": [
        "# Step 4: Model Data"
      ]
    },
    {
      "cell_type": "code",
      "execution_count": null,
      "metadata": {
        "id": "V7Aw32NsLEPk"
      },
      "outputs": [],
      "source": []
    },
    {
      "cell_type": "markdown",
      "metadata": {
        "id": "THKOVcATLEPk"
      },
      "source": [
        "# Output files"
      ]
    },
    {
      "cell_type": "code",
      "execution_count": null,
      "metadata": {
        "id": "PGn-4dqVLEPk"
      },
      "outputs": [],
      "source": [
        "# Save Work at this point as CSV\n",
        "savefile = programname+\"/\"+programname+\".csv\"\n",
        "df.to_csv(savefile, index=False)"
      ]
    }
  ],
  "metadata": {
    "colab": {
      "include_colab_link": true,
      "name": "HRRC_00_templateDSnotebook_2021-01-24.ipynb",
      "provenance": []
    },
    "kernelspec": {
      "display_name": "URSC645",
      "language": "python",
      "name": "python3"
    },
    "language_info": {
      "codemirror_mode": {
        "name": "ipython",
        "version": 3
      },
      "file_extension": ".py",
      "mimetype": "text/x-python",
      "name": "python",
      "nbconvert_exporter": "python",
      "pygments_lexer": "ipython3",
      "version": "3.12.8"
    }
  },
  "nbformat": 4,
  "nbformat_minor": 0
}
