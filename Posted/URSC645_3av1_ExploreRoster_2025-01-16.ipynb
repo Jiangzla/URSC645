{
  "cells": [
    {
      "cell_type": "markdown",
      "metadata": {
        "id": "LmpnvPt2LEPX"
      },
      "source": [
        "# Explore Course Roster\n",
        "This notebook reads in the course roster Google Sheet and explores the datafile. To run this notebook requires access to the course Google Drive."
      ]
    },
    {
      "cell_type": "markdown",
      "metadata": {
        "id": "kkA2Z92rLEPd"
      },
      "source": [
        "## Description of Program\n",
        "- program:    URSC645_3av1_ExploreRoster\n",
        "- task:       Explore google sheet course roster\n",
        "- Version:    2025-01-16\n",
        "- project:    Urban Analytics URSC 645\n",
        "- funding:\t  Texas A&M University Department of Landscape Architecture and Urban Planning\n",
        "- author:     Nathanael Rosenheim \\ Jan 23, 2021"
      ]
    },
    {
      "cell_type": "markdown",
      "metadata": {
        "id": "hzVM0iMjLEPe"
      },
      "source": [
        "## Step 0: Good Housekeeping"
      ]
    },
    {
      "cell_type": "code",
      "execution_count": 1,
      "metadata": {
        "id": "UJZ1ezndLEPf"
      },
      "outputs": [],
      "source": [
        "# 1. Import all packages\n",
        "import pandas as pd     # For obtaining and cleaning tabular data\n",
        "import os # For saving output to path"
      ]
    },
    {
      "cell_type": "code",
      "execution_count": 2,
      "metadata": {
        "id": "RtyVl_YjLEPg"
      },
      "outputs": [
        {
          "name": "stdout",
          "output_type": "stream",
          "text": [
            "Python Version      3.12.8 | packaged by conda-forge | (main, Dec  5 2024, 14:06:27) [MSC v.1942 64 bit (AMD64)]\n",
            "pandas version:  2.2.3\n"
          ]
        }
      ],
      "source": [
        "# 2. Check versions\n",
        "import sys\n",
        "print(\"Python Version     \", sys.version)\n",
        "print(\"pandas version: \", pd.__version__)"
      ]
    },
    {
      "cell_type": "code",
      "execution_count": 3,
      "metadata": {},
      "outputs": [
        {
          "data": {
            "text/plain": [
              "'c:\\\\Users\\\\nathanael99\\\\MyProjects\\\\GitHub\\\\URSC645\\\\Posted'"
            ]
          },
          "execution_count": 3,
          "metadata": {},
          "output_type": "execute_result"
        }
      ],
      "source": [
        "# 3. Check working directory\n",
        "# Get information on current working directory (getcwd)\n",
        "os.getcwd()"
      ]
    },
    {
      "cell_type": "markdown",
      "metadata": {
        "id": "UWMQBAqbLEPi"
      },
      "source": [
        "# Step 1: Obtain Data\n",
        "Data from a Google Sheet can be read in directly to notebook. \n",
        "Note the sheet must be accessible, in the case of this notebook the link was temporarily set to \"access to anyone with link\". \n",
        "Once the notebook was run the link was changed back to restricted."
      ]
    },
    {
      "cell_type": "code",
      "execution_count": 10,
      "metadata": {
        "id": "10j73dwQLEPi"
      },
      "outputs": [],
      "source": [
        "url =  'https://docs.google.com/spreadsheets/d/1HCtZfY-8l8dNZT2A8AUCcyr19sjrMTvny_U3qWobuGA/export?format=csv'\n",
        "df = pd.read_csv(url) "
      ]
    },
    {
      "cell_type": "code",
      "execution_count": 17,
      "metadata": {},
      "outputs": [],
      "source": [
        "# to protect privacy of the data, I will not display the data\n",
        "# df.head() "
      ]
    },
    {
      "cell_type": "code",
      "execution_count": 18,
      "metadata": {},
      "outputs": [
        {
          "name": "stdout",
          "output_type": "stream",
          "text": [
            "Index(['fname', 'lname', 'pname', 'pnmhelp', 'pgp', 'date', 'gmail', 'htown',\n",
            "       'major', 'audit', 'phd', 'prelim', 'prpsl', 'egrad', 'os', 'monitors',\n",
            "       'stataversion', 'expexcel', 'expgdocs', 'expsas', 'expstata', 'expr',\n",
            "       'exppy', 'expjnb', 'dcrrnt', 'year'],\n",
            "      dtype='object')\n"
          ]
        }
      ],
      "source": [
        "# print column headings\n",
        "print(df.columns)"
      ]
    },
    {
      "cell_type": "markdown",
      "metadata": {},
      "source": [
        "# Step 3: Clean Data"
      ]
    },
    {
      "cell_type": "code",
      "execution_count": 15,
      "metadata": {},
      "outputs": [
        {
          "data": {
            "text/plain": [
              "year\n",
              "2019    12\n",
              "2020     6\n",
              "2021    14\n",
              "2022     2\n",
              "2023     3\n",
              "2024     6\n",
              "2025     5\n",
              "Name: count, dtype: int64"
            ]
          },
          "execution_count": 15,
          "metadata": {},
          "output_type": "execute_result"
        }
      ],
      "source": [
        "# add a year variable based on the date\n",
        "df['year'] = pd.DatetimeIndex(df['date']).year\n",
        "# count the number of observations per year\n",
        "# sort by year\n",
        "year_counts = df['year'].value_counts().sort_index()\n",
        "year_counts"
      ]
    },
    {
      "cell_type": "markdown",
      "metadata": {
        "id": "WdM1zI9CLEPj"
      },
      "source": [
        "# Step 3: Explore Data"
      ]
    },
    {
      "cell_type": "code",
      "execution_count": 12,
      "metadata": {
        "id": "R7HPFgYsLEPj"
      },
      "outputs": [
        {
          "data": {
            "text/html": [
              "<div>\n",
              "<style scoped>\n",
              "    .dataframe tbody tr th:only-of-type {\n",
              "        vertical-align: middle;\n",
              "    }\n",
              "\n",
              "    .dataframe tbody tr th {\n",
              "        vertical-align: top;\n",
              "    }\n",
              "\n",
              "    .dataframe thead th {\n",
              "        text-align: right;\n",
              "    }\n",
              "</style>\n",
              "<table border=\"1\" class=\"dataframe\">\n",
              "  <thead>\n",
              "    <tr style=\"text-align: right;\">\n",
              "      <th></th>\n",
              "      <th>count</th>\n",
              "      <th>mean</th>\n",
              "      <th>std</th>\n",
              "      <th>min</th>\n",
              "      <th>25%</th>\n",
              "      <th>50%</th>\n",
              "      <th>75%</th>\n",
              "      <th>max</th>\n",
              "    </tr>\n",
              "  </thead>\n",
              "  <tbody>\n",
              "    <tr>\n",
              "      <th>expexcel</th>\n",
              "      <td>30.0</td>\n",
              "      <td>4.066667</td>\n",
              "      <td>0.980265</td>\n",
              "      <td>1.0</td>\n",
              "      <td>4.0</td>\n",
              "      <td>4.0</td>\n",
              "      <td>5.00</td>\n",
              "      <td>5.0</td>\n",
              "    </tr>\n",
              "    <tr>\n",
              "      <th>expgdocs</th>\n",
              "      <td>30.0</td>\n",
              "      <td>4.566667</td>\n",
              "      <td>0.626062</td>\n",
              "      <td>3.0</td>\n",
              "      <td>4.0</td>\n",
              "      <td>5.0</td>\n",
              "      <td>5.00</td>\n",
              "      <td>5.0</td>\n",
              "    </tr>\n",
              "    <tr>\n",
              "      <th>expsas</th>\n",
              "      <td>48.0</td>\n",
              "      <td>0.333333</td>\n",
              "      <td>1.078481</td>\n",
              "      <td>0.0</td>\n",
              "      <td>0.0</td>\n",
              "      <td>0.0</td>\n",
              "      <td>0.00</td>\n",
              "      <td>5.0</td>\n",
              "    </tr>\n",
              "    <tr>\n",
              "      <th>expstata</th>\n",
              "      <td>48.0</td>\n",
              "      <td>2.541667</td>\n",
              "      <td>1.583940</td>\n",
              "      <td>0.0</td>\n",
              "      <td>1.0</td>\n",
              "      <td>2.5</td>\n",
              "      <td>4.00</td>\n",
              "      <td>5.0</td>\n",
              "    </tr>\n",
              "    <tr>\n",
              "      <th>expr</th>\n",
              "      <td>46.0</td>\n",
              "      <td>0.869565</td>\n",
              "      <td>1.147145</td>\n",
              "      <td>0.0</td>\n",
              "      <td>0.0</td>\n",
              "      <td>0.0</td>\n",
              "      <td>1.75</td>\n",
              "      <td>4.0</td>\n",
              "    </tr>\n",
              "    <tr>\n",
              "      <th>exppy</th>\n",
              "      <td>46.0</td>\n",
              "      <td>0.847826</td>\n",
              "      <td>1.365730</td>\n",
              "      <td>0.0</td>\n",
              "      <td>0.0</td>\n",
              "      <td>0.0</td>\n",
              "      <td>2.00</td>\n",
              "      <td>5.0</td>\n",
              "    </tr>\n",
              "    <tr>\n",
              "      <th>expjnb</th>\n",
              "      <td>29.0</td>\n",
              "      <td>0.793103</td>\n",
              "      <td>1.398451</td>\n",
              "      <td>0.0</td>\n",
              "      <td>0.0</td>\n",
              "      <td>0.0</td>\n",
              "      <td>1.00</td>\n",
              "      <td>5.0</td>\n",
              "    </tr>\n",
              "  </tbody>\n",
              "</table>\n",
              "</div>"
            ],
            "text/plain": [
              "          count      mean       std  min  25%  50%   75%  max\n",
              "expexcel   30.0  4.066667  0.980265  1.0  4.0  4.0  5.00  5.0\n",
              "expgdocs   30.0  4.566667  0.626062  3.0  4.0  5.0  5.00  5.0\n",
              "expsas     48.0  0.333333  1.078481  0.0  0.0  0.0  0.00  5.0\n",
              "expstata   48.0  2.541667  1.583940  0.0  1.0  2.5  4.00  5.0\n",
              "expr       46.0  0.869565  1.147145  0.0  0.0  0.0  1.75  4.0\n",
              "exppy      46.0  0.847826  1.365730  0.0  0.0  0.0  2.00  5.0\n",
              "expjnb     29.0  0.793103  1.398451  0.0  0.0  0.0  1.00  5.0"
            ]
          },
          "execution_count": 12,
          "metadata": {},
          "output_type": "execute_result"
        }
      ],
      "source": [
        "# experience variables start with exp\n",
        "experience_vars = [col for col in df.columns if 'exp' in col]\n",
        "df[experience_vars].describe().T"
      ]
    },
    {
      "cell_type": "code",
      "execution_count": 16,
      "metadata": {},
      "outputs": [
        {
          "data": {
            "text/plain": [
              "<Axes: title={'center': 'Number of students per year'}, xlabel='year'>"
            ]
          },
          "execution_count": 16,
          "metadata": {},
          "output_type": "execute_result"
        },
        {
          "data": {
            "image/png": "[encoded data removed]",
            "text/plain": [
              "<Figure size 640x480 with 1 Axes>"
            ]
          },
          "metadata": {},
          "output_type": "display_data"
        }
      ],
      "source": [
        "# count of students by year\n",
        "# make histogram based on year counts\n",
        "year_counts.plot(kind='bar', title='Number of students per year')"
      ]
    },
    {
      "cell_type": "markdown",
      "metadata": {
        "id": "THKOVcATLEPk"
      },
      "source": [
        "# Output files\n",
        "No output files."
      ]
    },
    {
      "cell_type": "code",
      "execution_count": null,
      "metadata": {
        "id": "PGn-4dqVLEPk"
      },
      "outputs": [],
      "source": [
        "# Save Work at this point as CSV\n",
        "#savefile = programname+\"/\"+programname+\".csv\"\n",
        "#df.to_csv(savefile, index=False)"
      ]
    }
  ],
  "metadata": {
    "colab": {
      "include_colab_link": true,
      "name": "HRRC_00_templateDSnotebook_2021-01-24.ipynb",
      "provenance": []
    },
    "kernelspec": {
      "display_name": "URSC645",
      "language": "python",
      "name": "python3"
    },
    "language_info": {
      "codemirror_mode": {
        "name": "ipython",
        "version": 3
      },
      "file_extension": ".py",
      "mimetype": "text/x-python",
      "name": "python",
      "nbconvert_exporter": "python",
      "pygments_lexer": "ipython3",
      "version": "3.12.8"
    }
  },
  "nbformat": 4,
  "nbformat_minor": 0
}
