{
  "cells": [
    {
      "cell_type": "markdown",
      "metadata": {
        "id": "LmpnvPt2LEPX"
      },
      "source": [
        "# Template Jupyter Notebook File\n",
        "This is a template notebook file that can be used to make new notebooks with a structured format.\n",
        "\n",
        "Guide to writing in notebook markdown: https://medium.com/analytics-vidhya/the-ultimate-markdown-guide-for-jupyter-notebook-d5e5abf728fd"
      ]
    },
    {
      "cell_type": "markdown",
      "metadata": {
        "id": "kkA2Z92rLEPd"
      },
      "source": [
        "## Description of Program\n",
        "- program:    URSC645_00_TemplateNotebook\n",
        "- task:       Template Jupyter Notebook File for URSC 645\n",
        "- Version:    2024-02-29 - update for Spring 2024\n",
        "- project:    Urban Analytics URSC 645\n",
        "- funding:\t  Texas A&M University Department of Landscape Architecture and Urban Planning\n",
        "- author:     Nathanael Rosenheim \\ Jan 23, 2021"
      ]
    },
    {
      "cell_type": "markdown",
      "metadata": {
        "id": "hzVM0iMjLEPe"
      },
      "source": [
        "## Step 0: Good Housekeeping\n",
        "Good housekeeping in a notebook includes:\n",
        "1. Import all packages at the top of the notebook\n",
        "2. Check the versions of the packages used in the notebook\n",
        "3. Check the working directory\n",
        "4. Set a variable name based on the program name\n",
        "\n",
        "Having all of the packages at the top of the notebook makes it easier to see what is being used in the notebook. It also makes it easier to install the packages if they are not already installed.\n",
        "\n",
        "Python is an open source tool that has many versions. Different versions may lead to different results or errors. It is important to check the versions of the packages used in the notebook to ensure reproducibility.\n",
        "\n",
        "The working directory is the folder where the notebook is located. It is important to know the working directory to read and write files. This is also important for using relative paths.\n",
        "\n",
        "Setting a variable name based on the program name will help when saving output files. When the output file has the same name as the program name, it is easy to see which program created the file. This also helps with provenance. Provenance refers to the place of origin, the history of something. "
      ]
    },
    {
      "cell_type": "code",
      "execution_count": null,
      "metadata": {
        "id": "UJZ1ezndLEPf"
      },
      "outputs": [],
      "source": [
        "# 1. Import all packages\n",
        "import pandas as pd     # For obtaining and cleaning tabular data\n",
        "import geopandas as gpd # For obtaining and cleaning spatial data\n",
        "import os # For saving output to path"
      ]
    },
    {
      "cell_type": "code",
      "execution_count": null,
      "metadata": {
        "id": "RtyVl_YjLEPg"
      },
      "outputs": [],
      "source": [
        "# 2. Check versions\n",
        "import sys\n",
        "print(\"Python Version     \", sys.version)\n",
        "print(\"geopandas version: \", gpd.__version__)"
      ]
    },
    {
      "cell_type": "code",
      "execution_count": null,
      "metadata": {},
      "outputs": [],
      "source": [
        "# 3. Check working directory\n",
        "# Get information on current working directory (getcwd)\n",
        "os.getcwd()"
      ]
    },
    {
      "cell_type": "code",
      "execution_count": null,
      "metadata": {
        "id": "Ftzkt-jSLEPi"
      },
      "outputs": [],
      "source": [
        "#4. Store Program Name for output files to have the same name\n",
        "programname = \"URSC645_00_templateDSnotebook\"\n",
        "# Make directory to save output\n",
        "if not os.path.exists(programname):\n",
        "    os.mkdir(programname)"
      ]
    },
    {
      "cell_type": "markdown",
      "metadata": {
        "id": "UWMQBAqbLEPi"
      },
      "source": [
        "# Step 1: Obtain Data"
      ]
    },
    {
      "cell_type": "code",
      "execution_count": null,
      "metadata": {
        "id": "10j73dwQLEPi"
      },
      "outputs": [],
      "source": []
    },
    {
      "cell_type": "markdown",
      "metadata": {
        "id": "WdM1zI9CLEPj"
      },
      "source": [
        "# Step 2: Clean Data"
      ]
    },
    {
      "cell_type": "code",
      "execution_count": null,
      "metadata": {
        "id": "R7HPFgYsLEPj"
      },
      "outputs": [],
      "source": []
    },
    {
      "cell_type": "markdown",
      "metadata": {
        "id": "HfWGkwZlLEPj"
      },
      "source": [
        "# Step 3: Explore Data"
      ]
    },
    {
      "cell_type": "code",
      "execution_count": null,
      "metadata": {
        "id": "rqj-w2pILEPj"
      },
      "outputs": [],
      "source": []
    },
    {
      "cell_type": "markdown",
      "metadata": {
        "id": "gH2RzSRELEPj"
      },
      "source": [
        "# Iterative Step 2: Clean Data\n",
        "It is often necessary to clean data after the data has been explored."
      ]
    },
    {
      "cell_type": "code",
      "execution_count": null,
      "metadata": {
        "id": "gZGg1uUFLEPj"
      },
      "outputs": [],
      "source": []
    },
    {
      "cell_type": "markdown",
      "metadata": {
        "id": "sLToo1RrLEPk"
      },
      "source": [
        "# Iterative Step 3: Explore Data"
      ]
    },
    {
      "cell_type": "code",
      "execution_count": null,
      "metadata": {
        "id": "QCnGqEbpLEPk"
      },
      "outputs": [],
      "source": []
    },
    {
      "cell_type": "markdown",
      "metadata": {
        "id": "DdyOeb7QLEPk"
      },
      "source": [
        "# Step 4: Model Data"
      ]
    },
    {
      "cell_type": "code",
      "execution_count": null,
      "metadata": {
        "id": "V7Aw32NsLEPk"
      },
      "outputs": [],
      "source": []
    },
    {
      "cell_type": "markdown",
      "metadata": {
        "id": "THKOVcATLEPk"
      },
      "source": [
        "# Output files"
      ]
    },
    {
      "cell_type": "code",
      "execution_count": null,
      "metadata": {
        "id": "PGn-4dqVLEPk"
      },
      "outputs": [],
      "source": [
        "# Save Work at this point as CSV\n",
        "savefile = programname+\"/\"+programname+\".csv\"\n",
        "df.to_csv(savefile, index=False)"
      ]
    }
  ],
  "metadata": {
    "colab": {
      "include_colab_link": true,
      "name": "HRRC_00_templateDSnotebook_2021-01-24.ipynb",
      "provenance": []
    },
    "kernelspec": {
      "display_name": "Python 3",
      "language": "python",
      "name": "python3"
    },
    "language_info": {
      "codemirror_mode": {
        "name": "ipython",
        "version": 3
      },
      "file_extension": ".py",
      "mimetype": "text/x-python",
      "name": "python",
      "nbconvert_exporter": "python",
      "pygments_lexer": "ipython3",
      "version": "3.6.8"
    }
  },
  "nbformat": 4,
  "nbformat_minor": 0
}
