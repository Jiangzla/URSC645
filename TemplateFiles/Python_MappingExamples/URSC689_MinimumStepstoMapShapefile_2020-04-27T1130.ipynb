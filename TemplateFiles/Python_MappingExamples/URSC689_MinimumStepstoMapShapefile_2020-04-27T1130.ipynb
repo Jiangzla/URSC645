{
 "cells": [
  {
   "cell_type": "markdown",
   "metadata": {},
   "source": [
    "## What are the minimum steps to map a shapefile?\n",
    "This program maps a shapefile using folium. The steps that follow should be the minimum steps to see the shapefile in the notebook file."
   ]
  },
  {
   "cell_type": "code",
   "execution_count": 6,
   "metadata": {},
   "outputs": [],
   "source": [
    "import math as math\n",
    "import os   # For saving output to path\n",
    "import sys  # For checking version of python for replication\n",
    "import pandas as pd\n",
    "import numpy as np\n",
    "import geopandas as gpd\n",
    "import shapely\n",
    "import folium as fm # folium has more dynamic maps - but requires internet connection"
   ]
  },
  {
   "cell_type": "code",
   "execution_count": 10,
   "metadata": {},
   "outputs": [
    {
     "name": "stdout",
     "output_type": "stream",
     "text": [
      "Python Version      3.7.6 | packaged by conda-forge | (default, Jan  7 2020, 21:48:41) [MSC v.1916 64 bit (AMD64)]\n",
      "pandas version:     0.24.2\n",
      "numpy version:      1.17.5\n",
      "geopandas version:  0.6.2\n",
      "shapely version:    1.6.4.post2\n",
      "folium version:     0.9.1\n"
     ]
    }
   ],
   "source": [
    "# Display versions being used - important information for replication\n",
    "\n",
    "print(\"Python Version     \", sys.version)\n",
    "print(\"pandas version:    \", pd.__version__)\n",
    "print(\"numpy version:     \", np.__version__)\n",
    "print(\"geopandas version: \", gpd.__version__)\n",
    "print(\"shapely version:   \", shapely.__version__)\n",
    "print(\"folium version:    \", fm.__version__)"
   ]
  },
  {
   "cell_type": "code",
   "execution_count": 58,
   "metadata": {},
   "outputs": [],
   "source": [
    "tl_1990_bg_shp = '../../SourceData/data2.nhgis.org/florida_1990/FL_blck_grp_1990.shp'\n",
    "tl_1990_bg_gdf = gpd.read_file(tl_1990_bg_shp)"
   ]
  },
  {
   "cell_type": "code",
   "execution_count": 59,
   "metadata": {},
   "outputs": [
    {
     "data": {
      "text/html": [
       "<div>\n",
       "<style scoped>\n",
       "    .dataframe tbody tr th:only-of-type {\n",
       "        vertical-align: middle;\n",
       "    }\n",
       "\n",
       "    .dataframe tbody tr th {\n",
       "        vertical-align: top;\n",
       "    }\n",
       "\n",
       "    .dataframe thead th {\n",
       "        text-align: right;\n",
       "    }\n",
       "</style>\n",
       "<table border=\"1\" class=\"dataframe\">\n",
       "  <thead>\n",
       "    <tr style=\"text-align: right;\">\n",
       "      <th></th>\n",
       "      <th>FIPSSTCO</th>\n",
       "      <th>TRACT</th>\n",
       "      <th>GROUP</th>\n",
       "      <th>STFID</th>\n",
       "      <th>GISJOIN</th>\n",
       "      <th>GISJOIN2</th>\n",
       "      <th>geometry</th>\n",
       "    </tr>\n",
       "  </thead>\n",
       "  <tbody>\n",
       "    <tr>\n",
       "      <th>0</th>\n",
       "      <td>12001</td>\n",
       "      <td>000100</td>\n",
       "      <td>1</td>\n",
       "      <td>120010001001</td>\n",
       "      <td>G120001000011</td>\n",
       "      <td>120001000011</td>\n",
       "      <td>POLYGON ((1319171.438 -780686.889, 1319180.979...</td>\n",
       "    </tr>\n",
       "    <tr>\n",
       "      <th>1</th>\n",
       "      <td>12001</td>\n",
       "      <td>000100</td>\n",
       "      <td>2</td>\n",
       "      <td>120010001002</td>\n",
       "      <td>G120001000012</td>\n",
       "      <td>120001000012</td>\n",
       "      <td>POLYGON ((1319134.602 -780905.107, 1319203.244...</td>\n",
       "    </tr>\n",
       "    <tr>\n",
       "      <th>2</th>\n",
       "      <td>12001</td>\n",
       "      <td>000100</td>\n",
       "      <td>3</td>\n",
       "      <td>120010001003</td>\n",
       "      <td>G120001000013</td>\n",
       "      <td>120001000013</td>\n",
       "      <td>POLYGON ((1319021.246 -780932.737, 1319037.147...</td>\n",
       "    </tr>\n",
       "    <tr>\n",
       "      <th>3</th>\n",
       "      <td>12001</td>\n",
       "      <td>000100</td>\n",
       "      <td>4</td>\n",
       "      <td>120010001004</td>\n",
       "      <td>G120001000014</td>\n",
       "      <td>120001000014</td>\n",
       "      <td>POLYGON ((1318676.406 -780982.697, 1318515.154...</td>\n",
       "    </tr>\n",
       "    <tr>\n",
       "      <th>4</th>\n",
       "      <td>12001</td>\n",
       "      <td>000200</td>\n",
       "      <td>1</td>\n",
       "      <td>120010002001</td>\n",
       "      <td>G120001000021</td>\n",
       "      <td>120001000021</td>\n",
       "      <td>POLYGON ((1318473.744 -780866.399, 1318464.579...</td>\n",
       "    </tr>\n",
       "  </tbody>\n",
       "</table>\n",
       "</div>"
      ],
      "text/plain": [
       "  FIPSSTCO   TRACT GROUP         STFID        GISJOIN      GISJOIN2  \\\n",
       "0    12001  000100     1  120010001001  G120001000011  120001000011   \n",
       "1    12001  000100     2  120010001002  G120001000012  120001000012   \n",
       "2    12001  000100     3  120010001003  G120001000013  120001000013   \n",
       "3    12001  000100     4  120010001004  G120001000014  120001000014   \n",
       "4    12001  000200     1  120010002001  G120001000021  120001000021   \n",
       "\n",
       "                                            geometry  \n",
       "0  POLYGON ((1319171.438 -780686.889, 1319180.979...  \n",
       "1  POLYGON ((1319134.602 -780905.107, 1319203.244...  \n",
       "2  POLYGON ((1319021.246 -780932.737, 1319037.147...  \n",
       "3  POLYGON ((1318676.406 -780982.697, 1318515.154...  \n",
       "4  POLYGON ((1318473.744 -780866.399, 1318464.579...  "
      ]
     },
     "execution_count": 59,
     "metadata": {},
     "output_type": "execute_result"
    }
   ],
   "source": [
    "tl_1990_bg_gdf.head()"
   ]
  },
  {
   "cell_type": "markdown",
   "metadata": {},
   "source": [
    "## Check the CRS"
   ]
  },
  {
   "cell_type": "code",
   "execution_count": 60,
   "metadata": {},
   "outputs": [
    {
     "data": {
      "text/plain": [
       "{}"
      ]
     },
     "execution_count": 60,
     "metadata": {},
     "output_type": "execute_result"
    }
   ],
   "source": [
    "tl_1990_bg_gdf.crs"
   ]
  },
  {
   "cell_type": "markdown",
   "metadata": {},
   "source": [
    "If the CRS is missing then one can manually set the CRS if it is know. For exapmle, data from NGHIS has the CRS \n",
    "\n",
    "Esri's USA Contiguous Albers Equal Area Conic projection\n",
    "\n",
    "Which is equal to ESRI:102003\n",
    "\n",
    "The above details about the shapefile are based on NGHIS technical documentation and a Google Search for the EPSG format of the projection.\n",
    "\n",
    "https://www.nhgis.org/support/faq#projected_coordinate_system\n",
    "\n",
    "https://epsg.io/102003\n"
   ]
  },
  {
   "cell_type": "code",
   "execution_count": 61,
   "metadata": {},
   "outputs": [],
   "source": [
    "# Manually set crs\n",
    "tl_1990_bg_gdf.crs = {'init': 'ESRI:102003'}"
   ]
  },
  {
   "cell_type": "markdown",
   "metadata": {},
   "source": [
    "CRS for folium needs to match Google Eartg and Open Street Map. Which is EPSG:4326 - wgs84 in lat lon coordinates."
   ]
  },
  {
   "cell_type": "code",
   "execution_count": 62,
   "metadata": {},
   "outputs": [
    {
     "data": {
      "text/html": [
       "<div>\n",
       "<style scoped>\n",
       "    .dataframe tbody tr th:only-of-type {\n",
       "        vertical-align: middle;\n",
       "    }\n",
       "\n",
       "    .dataframe tbody tr th {\n",
       "        vertical-align: top;\n",
       "    }\n",
       "\n",
       "    .dataframe thead th {\n",
       "        text-align: right;\n",
       "    }\n",
       "</style>\n",
       "<table border=\"1\" class=\"dataframe\">\n",
       "  <thead>\n",
       "    <tr style=\"text-align: right;\">\n",
       "      <th></th>\n",
       "      <th>FIPSSTCO</th>\n",
       "      <th>TRACT</th>\n",
       "      <th>GROUP</th>\n",
       "      <th>STFID</th>\n",
       "      <th>GISJOIN</th>\n",
       "      <th>GISJOIN2</th>\n",
       "      <th>geometry</th>\n",
       "    </tr>\n",
       "  </thead>\n",
       "  <tbody>\n",
       "    <tr>\n",
       "      <th>0</th>\n",
       "      <td>12001</td>\n",
       "      <td>000100</td>\n",
       "      <td>1</td>\n",
       "      <td>120010001001</td>\n",
       "      <td>G120001000011</td>\n",
       "      <td>120001000011</td>\n",
       "      <td>POLYGON ((-82.32313 29.65414, -82.32313 29.653...</td>\n",
       "    </tr>\n",
       "    <tr>\n",
       "      <th>1</th>\n",
       "      <td>12001</td>\n",
       "      <td>000100</td>\n",
       "      <td>2</td>\n",
       "      <td>120010001002</td>\n",
       "      <td>G120001000012</td>\n",
       "      <td>120001000012</td>\n",
       "      <td>POLYGON ((-82.32383 29.65224, -82.32313 29.652...</td>\n",
       "    </tr>\n",
       "    <tr>\n",
       "      <th>2</th>\n",
       "      <td>12001</td>\n",
       "      <td>000100</td>\n",
       "      <td>3</td>\n",
       "      <td>120010001003</td>\n",
       "      <td>G120001000013</td>\n",
       "      <td>120001000013</td>\n",
       "      <td>POLYGON ((-82.32503 29.65214, -82.32503 29.651...</td>\n",
       "    </tr>\n",
       "    <tr>\n",
       "      <th>3</th>\n",
       "      <td>12001</td>\n",
       "      <td>000100</td>\n",
       "      <td>4</td>\n",
       "      <td>120010001004</td>\n",
       "      <td>G120001000014</td>\n",
       "      <td>120001000014</td>\n",
       "      <td>POLYGON ((-82.32863 29.65214, -82.33033 29.652...</td>\n",
       "    </tr>\n",
       "    <tr>\n",
       "      <th>4</th>\n",
       "      <td>12001</td>\n",
       "      <td>000200</td>\n",
       "      <td>1</td>\n",
       "      <td>120010002001</td>\n",
       "      <td>G120001000021</td>\n",
       "      <td>120001000021</td>\n",
       "      <td>POLYGON ((-82.33053 29.65344, -82.33063 29.653...</td>\n",
       "    </tr>\n",
       "  </tbody>\n",
       "</table>\n",
       "</div>"
      ],
      "text/plain": [
       "  FIPSSTCO   TRACT GROUP         STFID        GISJOIN      GISJOIN2  \\\n",
       "0    12001  000100     1  120010001001  G120001000011  120001000011   \n",
       "1    12001  000100     2  120010001002  G120001000012  120001000012   \n",
       "2    12001  000100     3  120010001003  G120001000013  120001000013   \n",
       "3    12001  000100     4  120010001004  G120001000014  120001000014   \n",
       "4    12001  000200     1  120010002001  G120001000021  120001000021   \n",
       "\n",
       "                                            geometry  \n",
       "0  POLYGON ((-82.32313 29.65414, -82.32313 29.653...  \n",
       "1  POLYGON ((-82.32383 29.65224, -82.32313 29.652...  \n",
       "2  POLYGON ((-82.32503 29.65214, -82.32503 29.651...  \n",
       "3  POLYGON ((-82.32863 29.65214, -82.33033 29.652...  \n",
       "4  POLYGON ((-82.33053 29.65344, -82.33063 29.653...  "
      ]
     },
     "execution_count": 62,
     "metadata": {},
     "output_type": "execute_result"
    }
   ],
   "source": [
    "tl_1990_bg_gdf = tl_1990_bg_gdf.to_crs(epsg=4326)\n",
    "tl_1990_bg_gdf.crs\n",
    "\n",
    "tl_1990_bg_gdf.head()"
   ]
  },
  {
   "cell_type": "markdown",
   "metadata": {},
   "source": [
    "## Select one county to map\n",
    "The original datafile has all counties, we just want to map one county."
   ]
  },
  {
   "cell_type": "code",
   "execution_count": 63,
   "metadata": {},
   "outputs": [
    {
     "data": {
      "text/html": [
       "<div>\n",
       "<style scoped>\n",
       "    .dataframe tbody tr th:only-of-type {\n",
       "        vertical-align: middle;\n",
       "    }\n",
       "\n",
       "    .dataframe tbody tr th {\n",
       "        vertical-align: top;\n",
       "    }\n",
       "\n",
       "    .dataframe thead th {\n",
       "        text-align: right;\n",
       "    }\n",
       "</style>\n",
       "<table border=\"1\" class=\"dataframe\">\n",
       "  <thead>\n",
       "    <tr style=\"text-align: right;\">\n",
       "      <th>col_0</th>\n",
       "      <th>count</th>\n",
       "    </tr>\n",
       "    <tr>\n",
       "      <th>CountySelect</th>\n",
       "      <th></th>\n",
       "    </tr>\n",
       "  </thead>\n",
       "  <tbody>\n",
       "    <tr>\n",
       "      <th>0</th>\n",
       "      <td>8040</td>\n",
       "    </tr>\n",
       "    <tr>\n",
       "      <th>1</th>\n",
       "      <td>1048</td>\n",
       "    </tr>\n",
       "  </tbody>\n",
       "</table>\n",
       "</div>"
      ],
      "text/plain": [
       "col_0         count\n",
       "CountySelect       \n",
       "0              8040\n",
       "1              1048"
      ]
     },
     "execution_count": 63,
     "metadata": {},
     "output_type": "execute_result"
    }
   ],
   "source": [
    "# Create a new variable to flag observations in county\n",
    "countyselect = [\"12025\"]\n",
    "tl_1990_bg_gdf['CountySelect'] = np.where(tl_1990_bg_gdf['FIPSSTCO'].isin(countyselect),1,0)\n",
    "pd.crosstab(index=tl_1990_bg_gdf['CountySelect'], columns=\"count\")"
   ]
  },
  {
   "cell_type": "code",
   "execution_count": 64,
   "metadata": {},
   "outputs": [
    {
     "data": {
      "text/html": [
       "<div>\n",
       "<style scoped>\n",
       "    .dataframe tbody tr th:only-of-type {\n",
       "        vertical-align: middle;\n",
       "    }\n",
       "\n",
       "    .dataframe tbody tr th {\n",
       "        vertical-align: top;\n",
       "    }\n",
       "\n",
       "    .dataframe thead th {\n",
       "        text-align: right;\n",
       "    }\n",
       "</style>\n",
       "<table border=\"1\" class=\"dataframe\">\n",
       "  <thead>\n",
       "    <tr style=\"text-align: right;\">\n",
       "      <th></th>\n",
       "      <th>FIPSSTCO</th>\n",
       "      <th>TRACT</th>\n",
       "      <th>GROUP</th>\n",
       "      <th>STFID</th>\n",
       "      <th>GISJOIN</th>\n",
       "      <th>GISJOIN2</th>\n",
       "      <th>geometry</th>\n",
       "      <th>CountySelect</th>\n",
       "    </tr>\n",
       "  </thead>\n",
       "  <tbody>\n",
       "    <tr>\n",
       "      <th>1521</th>\n",
       "      <td>12025</td>\n",
       "      <td>000103</td>\n",
       "      <td>1</td>\n",
       "      <td>120250001031</td>\n",
       "      <td>G12002500001031</td>\n",
       "      <td>12002500001031</td>\n",
       "      <td>MULTIPOLYGON (((-80.15137 25.88937, -80.15137 ...</td>\n",
       "      <td>1</td>\n",
       "    </tr>\n",
       "    <tr>\n",
       "      <th>1522</th>\n",
       "      <td>12025</td>\n",
       "      <td>000103</td>\n",
       "      <td>2</td>\n",
       "      <td>120250001032</td>\n",
       "      <td>G12002500001032</td>\n",
       "      <td>12002500001032</td>\n",
       "      <td>POLYGON ((-80.14327 25.89957, -80.14607 25.897...</td>\n",
       "      <td>1</td>\n",
       "    </tr>\n",
       "    <tr>\n",
       "      <th>1523</th>\n",
       "      <td>12025</td>\n",
       "      <td>000103</td>\n",
       "      <td>3</td>\n",
       "      <td>120250001033</td>\n",
       "      <td>G12002500001033</td>\n",
       "      <td>12002500001033</td>\n",
       "      <td>POLYGON ((-80.16297 25.90017, -80.16247 25.900...</td>\n",
       "      <td>1</td>\n",
       "    </tr>\n",
       "    <tr>\n",
       "      <th>1524</th>\n",
       "      <td>12025</td>\n",
       "      <td>000104</td>\n",
       "      <td>1</td>\n",
       "      <td>120250001041</td>\n",
       "      <td>G12002500001041</td>\n",
       "      <td>12002500001041</td>\n",
       "      <td>POLYGON ((-80.12382 25.97437, -80.12357 25.971...</td>\n",
       "      <td>1</td>\n",
       "    </tr>\n",
       "    <tr>\n",
       "      <th>1525</th>\n",
       "      <td>12025</td>\n",
       "      <td>000104</td>\n",
       "      <td>2</td>\n",
       "      <td>120250001042</td>\n",
       "      <td>G12002500001042</td>\n",
       "      <td>12002500001042</td>\n",
       "      <td>POLYGON ((-80.14707 25.95857, -80.14707 25.957...</td>\n",
       "      <td>1</td>\n",
       "    </tr>\n",
       "  </tbody>\n",
       "</table>\n",
       "</div>"
      ],
      "text/plain": [
       "     FIPSSTCO   TRACT GROUP         STFID          GISJOIN        GISJOIN2  \\\n",
       "1521    12025  000103     1  120250001031  G12002500001031  12002500001031   \n",
       "1522    12025  000103     2  120250001032  G12002500001032  12002500001032   \n",
       "1523    12025  000103     3  120250001033  G12002500001033  12002500001033   \n",
       "1524    12025  000104     1  120250001041  G12002500001041  12002500001041   \n",
       "1525    12025  000104     2  120250001042  G12002500001042  12002500001042   \n",
       "\n",
       "                                               geometry  CountySelect  \n",
       "1521  MULTIPOLYGON (((-80.15137 25.88937, -80.15137 ...             1  \n",
       "1522  POLYGON ((-80.14327 25.89957, -80.14607 25.897...             1  \n",
       "1523  POLYGON ((-80.16297 25.90017, -80.16247 25.900...             1  \n",
       "1524  POLYGON ((-80.12382 25.97437, -80.12357 25.971...             1  \n",
       "1525  POLYGON ((-80.14707 25.95857, -80.14707 25.957...             1  "
      ]
     },
     "execution_count": 64,
     "metadata": {},
     "output_type": "execute_result"
    }
   ],
   "source": [
    "tl_1990_bg_gdf_countyselect = tl_1990_bg_gdf[tl_1990_bg_gdf['CountySelect'] == 1]\n",
    "tl_1990_bg_gdf_countyselect.head()"
   ]
  },
  {
   "cell_type": "markdown",
   "metadata": {},
   "source": [
    "### Map the data\n",
    "The follium package allows for interactive maps to be generated. The commands below illustrate how two layers can be mapped in one interactive html file. The html file is saved and can be open in a webbrowser.\n",
    "\n",
    "Follium provides the tools to make interactive webmaps. Helpful guidance has been found at:\n",
    "- https://python-visualization.github.io/folium/modules.html\n",
    "- https://python-visualization.github.io/folium/quickstart.html\n",
    "- https://ocefpaf.github.io/python4oceanographers/blog/2015/12/14/geopandas_folium/"
   ]
  },
  {
   "cell_type": "code",
   "execution_count": 65,
   "metadata": {},
   "outputs": [
    {
     "data": {
      "text/plain": [
       "(-80.27006159250057, 25.777946293053493)"
      ]
     },
     "execution_count": 65,
     "metadata": {},
     "output_type": "execute_result"
    }
   ],
   "source": [
    "# What location should the map be centered on?\n",
    "center_x = tl_1990_bg_gdf_countyselect.bounds.minx.mean()\n",
    "center_y = tl_1990_bg_gdf_countyselect.bounds.miny.mean()\n",
    "center_x, center_y"
   ]
  },
  {
   "cell_type": "code",
   "execution_count": 66,
   "metadata": {},
   "outputs": [
    {
     "data": {
      "text/html": [
       "<div style=\"width:100%;\"><div style=\"position:relative;width:100%;height:0;padding-bottom:60%;\"><iframe src=\"data:text/html;charset=utf-8;base64,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\" style=\"position:absolute;width:100%;height:100%;left:0;top:0;border:none !important;\" allowfullscreen webkitallowfullscreen mozallowfullscreen></iframe></div></div>"
      ],
      "text/plain": [
       "<folium.folium.Map at 0x1e9ccfe0508>"
      ]
     },
     "execution_count": 66,
     "metadata": {},
     "output_type": "execute_result"
    }
   ],
   "source": [
    "map = fm.Map(location=[center_y,center_x], zoom_start=10, crs='EPSG3857')\n",
    "map"
   ]
  },
  {
   "cell_type": "code",
   "execution_count": 67,
   "metadata": {},
   "outputs": [],
   "source": [
    "fm.GeoJson(tl_1990_bg_gdf_countyselect).add_to(map)\n",
    "map_save_file = 'map.html'\n",
    "map.save(map_save_file)"
   ]
  },
  {
   "cell_type": "markdown",
   "metadata": {},
   "source": [
    "## Save map as an html file\n",
    "Jupyter notebook has an issue mapping large files. The above step saves the map as an html file. The next block of code displays the saved map."
   ]
  },
  {
   "cell_type": "code",
   "execution_count": 68,
   "metadata": {},
   "outputs": [
    {
     "data": {
      "text/html": [
       "<iframe width=\"100%\" height=\"700\" \n",
       "src=\"map.html\"></iframe>\n"
      ],
      "text/plain": [
       "<IPython.core.display.HTML object>"
      ]
     },
     "metadata": {},
     "output_type": "display_data"
    }
   ],
   "source": [
    "%%HTML\n",
    "<iframe width=\"100%\" height=\"700\" \n",
    "src=\"map.html\"></iframe>"
   ]
  },
  {
   "cell_type": "code",
   "execution_count": null,
   "metadata": {},
   "outputs": [],
   "source": []
  }
 ],
 "metadata": {
  "kernelspec": {
   "display_name": "Python 3",
   "language": "python",
   "name": "python3"
  },
  "language_info": {
   "codemirror_mode": {
    "name": "ipython",
    "version": 3
   },
   "file_extension": ".py",
   "mimetype": "text/x-python",
   "name": "python",
   "nbconvert_exporter": "python",
   "pygments_lexer": "ipython3",
   "version": "3.7.6"
  }
 },
 "nbformat": 4,
 "nbformat_minor": 2
}
